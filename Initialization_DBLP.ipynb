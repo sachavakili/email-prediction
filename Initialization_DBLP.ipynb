{
 "cells": [
  {
   "cell_type": "code",
   "execution_count": 1,
   "metadata": {
    "collapsed": true
   },
   "outputs": [],
   "source": [
    "# %matplotlib inline\n",
    "import os\n",
    "import sys\n",
    "# import matplotlib\n",
    "import time\n",
    "\n",
    "import numpy as np\n",
    "import pandas as pd\n",
    "# import matplotlib.pyplot as plt\n",
    "#import networkx as nx\n",
    "import pickle\n",
    "from collections import defaultdict\n",
    "\n",
    "#from datetime import datetime\n",
    "\n",
    "from sktensor import dtensor, cp_als\n",
    "# matplotlib.style.use('ggplot')"
   ]
  },
  {
   "cell_type": "markdown",
   "metadata": {},
   "source": [
    "### Creating a list of all edges"
   ]
  },
  {
   "cell_type": "code",
   "execution_count": 3,
   "metadata": {
    "collapsed": false,
    "scrolled": true
   },
   "outputs": [],
   "source": [
    "#with open('dblp_inpr.xml', 'rb') as rf:\n",
    "with open('dblp.xml', 'rb') as rf:\n",
    "    readfile = rf.read().split('<inproceedings')"
   ]
  },
  {
   "cell_type": "code",
   "execution_count": 4,
   "metadata": {
    "collapsed": false
   },
   "outputs": [
    {
     "name": "stdout",
     "output_type": "stream",
     "text": [
      "1761352 edges in the file\n"
     ]
    }
   ],
   "source": [
    "nb_edges = len(readfile)\n",
    "print('%d edges in the file') %(nb_edges)\n",
    "\n",
    "# Only take 1000 edges (publications)\n",
    "# nb_edges = 10001"
   ]
  },
  {
   "cell_type": "markdown",
   "metadata": {},
   "source": [
    "### Creating an empty dataframe to host the edges attributes"
   ]
  },
  {
   "cell_type": "code",
   "execution_count": 6,
   "metadata": {
    "collapsed": false
   },
   "outputs": [],
   "source": [
    "columns = ['author', 'year', 'crossref']\n",
    "df = pd.DataFrame(index   = 5*range(nb_edges),\n",
    "                  columns = columns)"
   ]
  },
  {
   "cell_type": "code",
   "execution_count": 7,
   "metadata": {
    "collapsed": false
   },
   "outputs": [
    {
     "data": {
      "text/html": [
       "<div>\n",
       "<table border=\"1\" class=\"dataframe\">\n",
       "  <thead>\n",
       "    <tr style=\"text-align: right;\">\n",
       "      <th></th>\n",
       "      <th>author</th>\n",
       "      <th>year</th>\n",
       "      <th>crossref</th>\n",
       "    </tr>\n",
       "  </thead>\n",
       "  <tbody>\n",
       "    <tr>\n",
       "      <th>0</th>\n",
       "      <td>NaN</td>\n",
       "      <td>NaN</td>\n",
       "      <td>NaN</td>\n",
       "    </tr>\n",
       "    <tr>\n",
       "      <th>1</th>\n",
       "      <td>NaN</td>\n",
       "      <td>NaN</td>\n",
       "      <td>NaN</td>\n",
       "    </tr>\n",
       "    <tr>\n",
       "      <th>2</th>\n",
       "      <td>NaN</td>\n",
       "      <td>NaN</td>\n",
       "      <td>NaN</td>\n",
       "    </tr>\n",
       "    <tr>\n",
       "      <th>3</th>\n",
       "      <td>NaN</td>\n",
       "      <td>NaN</td>\n",
       "      <td>NaN</td>\n",
       "    </tr>\n",
       "    <tr>\n",
       "      <th>4</th>\n",
       "      <td>NaN</td>\n",
       "      <td>NaN</td>\n",
       "      <td>NaN</td>\n",
       "    </tr>\n",
       "  </tbody>\n",
       "</table>\n",
       "</div>"
      ],
      "text/plain": [
       "  author year crossref\n",
       "0    NaN  NaN      NaN\n",
       "1    NaN  NaN      NaN\n",
       "2    NaN  NaN      NaN\n",
       "3    NaN  NaN      NaN\n",
       "4    NaN  NaN      NaN"
      ]
     },
     "execution_count": 7,
     "metadata": {},
     "output_type": "execute_result"
    }
   ],
   "source": [
    "df.head()"
   ]
  },
  {
   "cell_type": "markdown",
   "metadata": {},
   "source": [
    "### Filling the dataframe with the actual edges attributes"
   ]
  },
  {
   "cell_type": "code",
   "execution_count": 11,
   "metadata": {
    "collapsed": false,
    "scrolled": false
   },
   "outputs": [
    {
     "name": "stdout",
     "output_type": "stream",
     "text": [
      "1/1761352 edges treated - 0 seconds elapsed\n",
      "100001/1761352 edges treated - 138 seconds elapsed\n",
      "200001/1761352 edges treated - 149 seconds elapsed\n",
      "300001/1761352 edges treated - 161 seconds elapsed\n",
      "400001/1761352 edges treated - 172 seconds elapsed\n",
      "500001/1761352 edges treated - 185 seconds elapsed\n",
      "600001/1761352 edges treated - 198 seconds elapsed\n",
      "700001/1761352 edges treated - 209 seconds elapsed\n",
      "800001/1761352 edges treated - 222 seconds elapsed\n",
      "900001/1761352 edges treated - 233 seconds elapsed\n",
      "1000001/1761352 edges treated - 244 seconds elapsed\n",
      "1100001/1761352 edges treated - 257 seconds elapsed\n",
      "1200001/1761352 edges treated - 270 seconds elapsed\n",
      "1300001/1761352 edges treated - 282 seconds elapsed\n",
      "1400001/1761352 edges treated - 295 seconds elapsed\n",
      "1500001/1761352 edges treated - 307 seconds elapsed\n",
      "1600001/1761352 edges treated - 319 seconds elapsed\n",
      "1700001/1761352 edges treated - 332 seconds elapsed\n"
     ]
    },
    {
     "ename": "IndexError",
     "evalue": "index 8806760 is out of bounds for axis 0 with size 8806760",
     "output_type": "error",
     "traceback": [
      "\u001b[0;31m---------------------------------------------------------------------------\u001b[0m",
      "\u001b[0;31mIndexError\u001b[0m                                Traceback (most recent call last)",
      "\u001b[0;32m<ipython-input-11-432fb16d5402>\u001b[0m in \u001b[0;36m<module>\u001b[0;34m()\u001b[0m\n\u001b[1;32m     27\u001b[0m         \u001b[0;31m#if ((int(year[:4]) >= 1991)and(int(year[:4]) <= 2007)) :\u001b[0m\u001b[0;34m\u001b[0m\u001b[0;34m\u001b[0m\u001b[0m\n\u001b[1;32m     28\u001b[0m         \u001b[0;32mfor\u001b[0m \u001b[0mk\u001b[0m \u001b[0;32min\u001b[0m \u001b[0mrange\u001b[0m\u001b[0;34m(\u001b[0m\u001b[0mlen\u001b[0m\u001b[0;34m(\u001b[0m\u001b[0mauthor_list\u001b[0m\u001b[0;34m)\u001b[0m\u001b[0;34m)\u001b[0m\u001b[0;34m:\u001b[0m\u001b[0;34m\u001b[0m\u001b[0m\n\u001b[0;32m---> 29\u001b[0;31m             \u001b[0mdf\u001b[0m\u001b[0;34m.\u001b[0m\u001b[0miat\u001b[0m\u001b[0;34m[\u001b[0m\u001b[0mcounter\u001b[0m\u001b[0;34m,\u001b[0m \u001b[0;36m0\u001b[0m\u001b[0;34m]\u001b[0m \u001b[0;34m=\u001b[0m \u001b[0mauthor_list\u001b[0m\u001b[0;34m[\u001b[0m\u001b[0mk\u001b[0m\u001b[0;34m]\u001b[0m\u001b[0;34m\u001b[0m\u001b[0m\n\u001b[0m\u001b[1;32m     30\u001b[0m             \u001b[0mdf\u001b[0m\u001b[0;34m.\u001b[0m\u001b[0miat\u001b[0m\u001b[0;34m[\u001b[0m\u001b[0mcounter\u001b[0m\u001b[0;34m,\u001b[0m \u001b[0;36m1\u001b[0m\u001b[0;34m]\u001b[0m \u001b[0;34m=\u001b[0m \u001b[0mint\u001b[0m\u001b[0;34m(\u001b[0m\u001b[0myear\u001b[0m\u001b[0;34m)\u001b[0m\u001b[0;34m\u001b[0m\u001b[0m\n\u001b[1;32m     31\u001b[0m             \u001b[0mdf\u001b[0m\u001b[0;34m.\u001b[0m\u001b[0miat\u001b[0m\u001b[0;34m[\u001b[0m\u001b[0mcounter\u001b[0m\u001b[0;34m,\u001b[0m \u001b[0;36m2\u001b[0m\u001b[0;34m]\u001b[0m \u001b[0;34m=\u001b[0m \u001b[0mcross\u001b[0m\u001b[0;34m\u001b[0m\u001b[0m\n",
      "\u001b[0;32m/Users/SylviePou/anaconda/lib/python2.7/site-packages/pandas/core/indexing.pyc\u001b[0m in \u001b[0;36m__setitem__\u001b[0;34m(self, key, value)\u001b[0m\n\u001b[1;32m   1563\u001b[0m         \u001b[0mkey\u001b[0m \u001b[0;34m=\u001b[0m \u001b[0mlist\u001b[0m\u001b[0;34m(\u001b[0m\u001b[0mself\u001b[0m\u001b[0;34m.\u001b[0m\u001b[0m_convert_key\u001b[0m\u001b[0;34m(\u001b[0m\u001b[0mkey\u001b[0m\u001b[0;34m,\u001b[0m \u001b[0mis_setter\u001b[0m\u001b[0;34m=\u001b[0m\u001b[0mTrue\u001b[0m\u001b[0;34m)\u001b[0m\u001b[0;34m)\u001b[0m\u001b[0;34m\u001b[0m\u001b[0m\n\u001b[1;32m   1564\u001b[0m         \u001b[0mkey\u001b[0m\u001b[0;34m.\u001b[0m\u001b[0mappend\u001b[0m\u001b[0;34m(\u001b[0m\u001b[0mvalue\u001b[0m\u001b[0;34m)\u001b[0m\u001b[0;34m\u001b[0m\u001b[0m\n\u001b[0;32m-> 1565\u001b[0;31m         \u001b[0mself\u001b[0m\u001b[0;34m.\u001b[0m\u001b[0mobj\u001b[0m\u001b[0;34m.\u001b[0m\u001b[0mset_value\u001b[0m\u001b[0;34m(\u001b[0m\u001b[0;34m*\u001b[0m\u001b[0mkey\u001b[0m\u001b[0;34m,\u001b[0m \u001b[0mtakeable\u001b[0m\u001b[0;34m=\u001b[0m\u001b[0mself\u001b[0m\u001b[0;34m.\u001b[0m\u001b[0m_takeable\u001b[0m\u001b[0;34m)\u001b[0m\u001b[0;34m\u001b[0m\u001b[0m\n\u001b[0m\u001b[1;32m   1566\u001b[0m \u001b[0;34m\u001b[0m\u001b[0m\n\u001b[1;32m   1567\u001b[0m \u001b[0;34m\u001b[0m\u001b[0m\n",
      "\u001b[0;32m/Users/SylviePou/anaconda/lib/python2.7/site-packages/pandas/core/frame.pyc\u001b[0m in \u001b[0;36mset_value\u001b[0;34m(self, index, col, value, takeable)\u001b[0m\n\u001b[1;32m   1833\u001b[0m             \u001b[0;32mif\u001b[0m \u001b[0mtakeable\u001b[0m \u001b[0;32mis\u001b[0m \u001b[0mTrue\u001b[0m\u001b[0;34m:\u001b[0m\u001b[0;34m\u001b[0m\u001b[0m\n\u001b[1;32m   1834\u001b[0m                 \u001b[0mseries\u001b[0m \u001b[0;34m=\u001b[0m \u001b[0mself\u001b[0m\u001b[0;34m.\u001b[0m\u001b[0m_iget_item_cache\u001b[0m\u001b[0;34m(\u001b[0m\u001b[0mcol\u001b[0m\u001b[0;34m)\u001b[0m\u001b[0;34m\u001b[0m\u001b[0m\n\u001b[0;32m-> 1835\u001b[0;31m                 \u001b[0;32mreturn\u001b[0m \u001b[0mseries\u001b[0m\u001b[0;34m.\u001b[0m\u001b[0mset_value\u001b[0m\u001b[0;34m(\u001b[0m\u001b[0mindex\u001b[0m\u001b[0;34m,\u001b[0m \u001b[0mvalue\u001b[0m\u001b[0;34m,\u001b[0m \u001b[0mtakeable\u001b[0m\u001b[0;34m=\u001b[0m\u001b[0mTrue\u001b[0m\u001b[0;34m)\u001b[0m\u001b[0;34m\u001b[0m\u001b[0m\n\u001b[0m\u001b[1;32m   1836\u001b[0m \u001b[0;34m\u001b[0m\u001b[0m\n\u001b[1;32m   1837\u001b[0m             \u001b[0mseries\u001b[0m \u001b[0;34m=\u001b[0m \u001b[0mself\u001b[0m\u001b[0;34m.\u001b[0m\u001b[0m_get_item_cache\u001b[0m\u001b[0;34m(\u001b[0m\u001b[0mcol\u001b[0m\u001b[0;34m)\u001b[0m\u001b[0;34m\u001b[0m\u001b[0m\n",
      "\u001b[0;32m/Users/SylviePou/anaconda/lib/python2.7/site-packages/pandas/core/series.pyc\u001b[0m in \u001b[0;36mset_value\u001b[0;34m(self, label, value, takeable)\u001b[0m\n\u001b[1;32m    887\u001b[0m         \u001b[0;32mtry\u001b[0m\u001b[0;34m:\u001b[0m\u001b[0;34m\u001b[0m\u001b[0m\n\u001b[1;32m    888\u001b[0m             \u001b[0;32mif\u001b[0m \u001b[0mtakeable\u001b[0m\u001b[0;34m:\u001b[0m\u001b[0;34m\u001b[0m\u001b[0m\n\u001b[0;32m--> 889\u001b[0;31m                 \u001b[0mself\u001b[0m\u001b[0;34m.\u001b[0m\u001b[0m_values\u001b[0m\u001b[0;34m[\u001b[0m\u001b[0mlabel\u001b[0m\u001b[0;34m]\u001b[0m \u001b[0;34m=\u001b[0m \u001b[0mvalue\u001b[0m\u001b[0;34m\u001b[0m\u001b[0m\n\u001b[0m\u001b[1;32m    890\u001b[0m             \u001b[0;32melse\u001b[0m\u001b[0;34m:\u001b[0m\u001b[0;34m\u001b[0m\u001b[0m\n\u001b[1;32m    891\u001b[0m                 \u001b[0mself\u001b[0m\u001b[0;34m.\u001b[0m\u001b[0mindex\u001b[0m\u001b[0;34m.\u001b[0m\u001b[0m_engine\u001b[0m\u001b[0;34m.\u001b[0m\u001b[0mset_value\u001b[0m\u001b[0;34m(\u001b[0m\u001b[0mself\u001b[0m\u001b[0;34m.\u001b[0m\u001b[0m_values\u001b[0m\u001b[0;34m,\u001b[0m \u001b[0mlabel\u001b[0m\u001b[0;34m,\u001b[0m \u001b[0mvalue\u001b[0m\u001b[0;34m)\u001b[0m\u001b[0;34m\u001b[0m\u001b[0m\n",
      "\u001b[0;31mIndexError\u001b[0m: index 8806760 is out of bounds for axis 0 with size 8806760"
     ]
    }
   ],
   "source": [
    "temp = time.time()\n",
    "counter = 0\n",
    "nb_authors = 0\n",
    "\n",
    "for i in range(1,nb_edges):\n",
    "    if i % 100000 == 1:\n",
    "        print('%d/%d edges treated - %.0f seconds elapsed') %(i, nb_edges, time.time() - temp)\n",
    "   \n",
    "    contents = readfile[i].splitlines()\n",
    "    author_list = []\n",
    "    year = ''\n",
    "    cross = ''\n",
    "    \n",
    "    if contents != '':\n",
    "        for content in contents:\n",
    "            if content[:8] == '<author>':\n",
    "                author_list += [content[8:-9]]\n",
    "            elif content[:6] == '<year>':\n",
    "                year = content[6:10]\n",
    "            elif content[:10] == '<crossref>':\n",
    "                conf = content.rsplit('/', )\n",
    "                cross = conf[1]                \n",
    "            if (i == nb_edges -1)&(content[:16] == '</inproceedings>') :\n",
    "                break\n",
    "        \n",
    "        # Consider only the publications of type inproceedings between 1991 and 2007 :\n",
    "        #if ((int(year[:4]) >= 1991)and(int(year[:4]) <= 2007)) : \n",
    "        for k in range(len(author_list)):\n",
    "            df.iat[counter, 0] = author_list[k]\n",
    "            df.iat[counter, 1] = int(year)\n",
    "            df.iat[counter, 2] = cross\n",
    "            counter += 1\n",
    "        nb_authors += len(author_list)\n",
    "\n",
    "    else:\n",
    "        df = df.ix[df.index != i]        "
   ]
  },
  {
   "cell_type": "code",
   "execution_count": 9,
   "metadata": {
    "collapsed": false
   },
   "outputs": [
    {
     "data": {
      "text/plain": [
       "(1991, 2007)"
      ]
     },
     "execution_count": 9,
     "metadata": {},
     "output_type": "execute_result"
    }
   ],
   "source": [
    "df.year.min(), df.year.max()"
   ]
  },
  {
   "cell_type": "code",
   "execution_count": 9,
   "metadata": {
    "collapsed": false
   },
   "outputs": [],
   "source": [
    "df.reset_index(inplace=True)"
   ]
  },
  {
   "cell_type": "code",
   "execution_count": 10,
   "metadata": {
    "collapsed": true
   },
   "outputs": [],
   "source": [
    "df = df[df.index < nb_authors]"
   ]
  },
  {
   "cell_type": "code",
   "execution_count": 11,
   "metadata": {
    "collapsed": false
   },
   "outputs": [],
   "source": [
    "df.drop(['index'], axis=1, inplace=True)"
   ]
  },
  {
   "cell_type": "markdown",
   "metadata": {},
   "source": [
    "### Keep authors with at least 10 publications"
   ]
  },
  {
   "cell_type": "code",
   "execution_count": 14,
   "metadata": {
    "collapsed": true
   },
   "outputs": [],
   "source": [
    "author_list = pd.unique(df.iloc[:,0])"
   ]
  },
  {
   "cell_type": "code",
   "execution_count": 15,
   "metadata": {
    "collapsed": false,
    "scrolled": true
   },
   "outputs": [
    {
     "name": "stdout",
     "output_type": "stream",
     "text": [
      "1/738436 lines treated - 1 seconds elapsed\n",
      "100001/738436 lines treated - 4 seconds elapsed\n",
      "200001/738436 lines treated - 4 seconds elapsed\n",
      "300001/738436 lines treated - 4 seconds elapsed\n",
      "400001/738436 lines treated - 4 seconds elapsed\n",
      "500001/738436 lines treated - 4 seconds elapsed\n",
      "600001/738436 lines treated - 5 seconds elapsed\n",
      "700001/738436 lines treated - 5 seconds elapsed\n",
      "800001/738436 lines treated - 5 seconds elapsed\n",
      "900001/738436 lines treated - 6 seconds elapsed\n",
      "1000001/738436 lines treated - 6 seconds elapsed\n",
      "1100001/738436 lines treated - 6 seconds elapsed\n",
      "1200001/738436 lines treated - 6 seconds elapsed\n",
      "1300001/738436 lines treated - 6 seconds elapsed\n",
      "1400001/738436 lines treated - 7 seconds elapsed\n",
      "1500001/738436 lines treated - 7 seconds elapsed\n",
      "1600001/738436 lines treated - 7 seconds elapsed\n",
      "1700001/738436 lines treated - 7 seconds elapsed\n",
      "1800001/738436 lines treated - 7 seconds elapsed\n",
      "1900001/738436 lines treated - 7 seconds elapsed\n",
      "2000001/738436 lines treated - 7 seconds elapsed\n",
      "2100001/738436 lines treated - 8 seconds elapsed\n",
      "2200001/738436 lines treated - 8 seconds elapsed\n",
      "2300001/738436 lines treated - 8 seconds elapsed\n",
      "2400001/738436 lines treated - 8 seconds elapsed\n",
      "2500001/738436 lines treated - 9 seconds elapsed\n",
      "2600001/738436 lines treated - 9 seconds elapsed\n",
      "2700001/738436 lines treated - 9 seconds elapsed\n"
     ]
    }
   ],
   "source": [
    "# Get the indexes of each author\n",
    "temp = time.time()\n",
    "count = 0\n",
    "\n",
    "authors_indexes = [(element, index) for index, element in enumerate(df.author)]\n",
    "author_index = defaultdict(list)\n",
    "\n",
    "for k, v in authors_indexes:\n",
    "    if count % 100000 == 1:\n",
    "        print('%d/%d lines treated - %.0f seconds elapsed') %(count, len(author_list), time.time() - temp)\n",
    "  \n",
    "    author_index[k].append(v)\n",
    "    \n",
    "    count += 1\n",
    "    \n",
    "# Keep the 10+ publications\n",
    "df = df[df.index.isin(author_index_sorted)]"
   ]
  },
  {
   "cell_type": "markdown",
   "metadata": {
    "collapsed": true
   },
   "source": [
    "### Dumping the result in a file"
   ]
  },
  {
   "cell_type": "code",
   "execution_count": 34,
   "metadata": {
    "collapsed": false
   },
   "outputs": [],
   "source": [
    "pickle.dump(df, open(\"dblp_inproceeding_10.p\", \"wb\"))"
   ]
  },
  {
   "cell_type": "code",
   "execution_count": 2,
   "metadata": {
    "collapsed": true
   },
   "outputs": [],
   "source": [
    "df = pickle.load(open(\"dblp_inproceeding_10.p\", \"rb\"))"
   ]
  },
  {
   "cell_type": "code",
   "execution_count": 3,
   "metadata": {
    "collapsed": false,
    "scrolled": true
   },
   "outputs": [
    {
     "data": {
      "text/plain": [
       "(56213, 2521)"
      ]
     },
     "execution_count": 3,
     "metadata": {},
     "output_type": "execute_result"
    }
   ],
   "source": [
    "len(pd.unique(df.author)), len(pd.unique(df.crossref))"
   ]
  },
  {
   "cell_type": "code",
   "execution_count": 4,
   "metadata": {
    "collapsed": false
   },
   "outputs": [
    {
     "data": {
      "text/html": [
       "<div>\n",
       "<table border=\"1\" class=\"dataframe\">\n",
       "  <thead>\n",
       "    <tr style=\"text-align: right;\">\n",
       "      <th></th>\n",
       "      <th>author</th>\n",
       "      <th>year</th>\n",
       "      <th>crossref</th>\n",
       "    </tr>\n",
       "  </thead>\n",
       "  <tbody>\n",
       "    <tr>\n",
       "      <th>2</th>\n",
       "      <td>Roger King</td>\n",
       "      <td>1993</td>\n",
       "      <td>lncs</td>\n",
       "    </tr>\n",
       "    <tr>\n",
       "      <th>4</th>\n",
       "      <td>Yelena Yesha</td>\n",
       "      <td>1993</td>\n",
       "      <td>lncs</td>\n",
       "    </tr>\n",
       "    <tr>\n",
       "      <th>5</th>\n",
       "      <td>Jean-Louis Imbert</td>\n",
       "      <td>1994</td>\n",
       "      <td>lncs</td>\n",
       "    </tr>\n",
       "    <tr>\n",
       "      <th>6</th>\n",
       "      <td>Jochen D&amp;ouml;rre</td>\n",
       "      <td>1991</td>\n",
       "      <td>lncs</td>\n",
       "    </tr>\n",
       "    <tr>\n",
       "      <th>8</th>\n",
       "      <td>Stanley Y. W. Su</td>\n",
       "      <td>1993</td>\n",
       "      <td>lncs</td>\n",
       "    </tr>\n",
       "  </tbody>\n",
       "</table>\n",
       "</div>"
      ],
      "text/plain": [
       "              author  year crossref\n",
       "2         Roger King  1993     lncs\n",
       "4       Yelena Yesha  1993     lncs\n",
       "5  Jean-Louis Imbert  1994     lncs\n",
       "6  Jochen D&ouml;rre  1991     lncs\n",
       "8   Stanley Y. W. Su  1993     lncs"
      ]
     },
     "execution_count": 4,
     "metadata": {},
     "output_type": "execute_result"
    }
   ],
   "source": [
    "df.head()"
   ]
  },
  {
   "cell_type": "code",
   "execution_count": 9,
   "metadata": {
    "collapsed": false
   },
   "outputs": [
    {
     "data": {
      "text/plain": [
       "40851"
      ]
     },
     "execution_count": 9,
     "metadata": {},
     "output_type": "execute_result"
    }
   ],
   "source": [
    "df = df[df.crossref != '']\n",
    "len(pd.unique(df.ix[df.year == 2007, 0]))"
   ]
  },
  {
   "cell_type": "code",
   "execution_count": 10,
   "metadata": {
    "collapsed": false
   },
   "outputs": [
    {
     "data": {
      "text/plain": [
       "40848"
      ]
     },
     "execution_count": 10,
     "metadata": {},
     "output_type": "execute_result"
    }
   ],
   "source": [
    "len(set(df.ix[df.year == 2007, 0]).intersection(df.ix[(df.year <= 2006)&(df.year >= 1997), 0]))"
   ]
  },
  {
   "cell_type": "code",
   "execution_count": 14,
   "metadata": {
    "collapsed": true
   },
   "outputs": [],
   "source": [
    "val = 6\n",
    "df_train = df[df.year>=1991+val]\n",
    "df_train = df[df.year<=2000+val]\n",
    "df_test = df[df.year==2001+val]\n",
    "\n",
    "df_train.reset_index(inplace=True)\n",
    "df2 = df_train.iloc[:,1:]\n",
    "df_train = df2\n",
    "del df2"
   ]
  },
  {
   "cell_type": "code",
   "execution_count": 15,
   "metadata": {
    "collapsed": true
   },
   "outputs": [],
   "source": [
    "author_list = pd.unique(df_train.iloc[:,0])\n",
    "\n",
    "# Get the indexes of each author\n",
    "authors_indexes = [(element, index) for index, element in enumerate(df_train.author)]\n",
    "author_index = defaultdict(list)\n",
    "\n",
    "for k, v in authors_indexes:\n",
    "    author_index[k].append(v)\n",
    "    \n",
    "# Keep the authors with more than 10 publications\n",
    "author_index_sorted = []\n",
    "count = 0\n",
    "\n",
    "for author in author_list : \n",
    "    if len(author_index[author]) > 10 :\n",
    "        author_index_sorted += author_index[author]\n",
    "        count += len(author_index[author])"
   ]
  },
  {
   "cell_type": "code",
   "execution_count": 16,
   "metadata": {
    "collapsed": false
   },
   "outputs": [
    {
     "data": {
      "text/plain": [
       "((1024192, 3), (107055, 3))"
      ]
     },
     "execution_count": 16,
     "metadata": {},
     "output_type": "execute_result"
    }
   ],
   "source": [
    "df_train = df_train[df_train.index.isin(author_index_sorted)]\n",
    "df_test = df_test[df_test.author.isin(df_train.author)]\n",
    "df_test = df_test[df_test.crossref.isin(df_train.crossref)]\n",
    "df_train.shape, df_test.shape"
   ]
  },
  {
   "cell_type": "code",
   "execution_count": 17,
   "metadata": {
    "collapsed": false
   },
   "outputs": [
    {
     "data": {
      "text/plain": [
       "29390"
      ]
     },
     "execution_count": 17,
     "metadata": {},
     "output_type": "execute_result"
    }
   ],
   "source": [
    "len(pd.unique(df_test.ix[df_test.year == 2007, 0]))"
   ]
  },
  {
   "cell_type": "code",
   "execution_count": 19,
   "metadata": {
    "collapsed": false
   },
   "outputs": [
    {
     "data": {
      "text/plain": [
       "1109"
      ]
     },
     "execution_count": 19,
     "metadata": {},
     "output_type": "execute_result"
    }
   ],
   "source": [
    "len(pd.unique(df_test.ix[df_test.year == 2007, 2]))"
   ]
  },
  {
   "cell_type": "code",
   "execution_count": null,
   "metadata": {
    "collapsed": true
   },
   "outputs": [],
   "source": []
  }
 ],
 "metadata": {
  "kernelspec": {
   "display_name": "Python 2",
   "language": "python",
   "name": "python2"
  },
  "language_info": {
   "codemirror_mode": {
    "name": "ipython",
    "version": 2
   },
   "file_extension": ".py",
   "mimetype": "text/x-python",
   "name": "python",
   "nbconvert_exporter": "python",
   "pygments_lexer": "ipython2",
   "version": "2.7.11"
  }
 },
 "nbformat": 4,
 "nbformat_minor": 0
}
