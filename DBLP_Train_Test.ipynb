{
 "cells": [
  {
   "cell_type": "code",
   "execution_count": 4,
   "metadata": {
    "collapsed": true
   },
   "outputs": [],
   "source": [
    "%matplotlib inline\n",
    "import os\n",
    "import sys\n",
    "import matplotlib\n",
    "\n",
    "import numpy as np\n",
    "import pandas as pd\n",
    "import matplotlib.pyplot as plt\n",
    "import networkx as nx\n",
    "import cmath\n",
    "import pickle\n",
    "import time\n",
    "from collections import defaultdict\n",
    "import sklearn\n",
    "\n",
    "from datetime import datetime, date\n",
    "\n",
    "from sktensor import dtensor, cp_als\n",
    "# matplotlib.style.use('ggplot')\n",
    "\n",
    "from sklearn.utils.extmath import randomized_svd\n",
    "from sklearn.metrics import precision_recall_curve, average_precision_score\n",
    "from sktensor import dtensor, cp_als\n",
    "\n",
    "\n",
    "from numpy import linalg as LA\n",
    "\n",
    "matplotlib.style.use('ggplot')"
   ]
  },
  {
   "cell_type": "markdown",
   "metadata": {},
   "source": [
    "### Create the tensor"
   ]
  },
  {
   "cell_type": "code",
   "execution_count": 2,
   "metadata": {
    "collapsed": false
   },
   "outputs": [
    {
     "data": {
      "text/plain": [
       "(1296663, 3)"
      ]
     },
     "execution_count": 2,
     "metadata": {},
     "output_type": "execute_result"
    }
   ],
   "source": [
    "df = pickle.load( open( \"dblp_inproceeding_10.p\", \"rb\" ) )\n",
    "df = df[df.crossref != '']\n",
    "df.shape"
   ]
  },
  {
   "cell_type": "code",
   "execution_count": 3,
   "metadata": {
    "collapsed": true
   },
   "outputs": [],
   "source": [
    "#selected_index = np.random.choice(len(df), int(0.5*len(df)))\n",
    "#df = df.iloc[selected_index, :]"
   ]
  },
  {
   "cell_type": "code",
   "execution_count": 59,
   "metadata": {
    "collapsed": true
   },
   "outputs": [],
   "source": [
    "AUC_CUT_TSVD = []\n",
    "AUC_CWT_TSVD = []\n",
    "AUC_CUT_BKatz = []\n",
    "AUC_CWT_BKatz = []\n",
    "AUC_CUT_TBKatz = []\n",
    "AUC_CWT_TBKatz = []"
   ]
  },
  {
   "cell_type": "code",
   "execution_count": 5,
   "metadata": {
    "collapsed": true
   },
   "outputs": [],
   "source": [
    "selected_index = np.random.choice(len(df), int(0.5*len(df)))\n",
    "df = df.iloc[selected_index, :]"
   ]
  },
  {
   "cell_type": "markdown",
   "metadata": {},
   "source": [
    "### Choose only 10 years"
   ]
  },
  {
   "cell_type": "code",
   "execution_count": 82,
   "metadata": {
    "collapsed": true
   },
   "outputs": [],
   "source": [
    "PR_CUT_TSVD = []\n",
    "PR_CWT_TSVD = []\n",
    "PR_CUT_BKatz = []\n",
    "PR_CWT_BKatz = []\n",
    "PR_CUT_TBKatz = []\n",
    "PR_CWT_TBKatz = []"
   ]
  },
  {
   "cell_type": "code",
   "execution_count": 85,
   "metadata": {
    "collapsed": false,
    "scrolled": false
   },
   "outputs": [
    {
     "name": "stdout",
     "output_type": "stream",
     "text": [
      "Step 1\n",
      "Step 2\n",
      "Step 3\n",
      "Step 4\n",
      "Step 5\n",
      "Step 6\n",
      "Step 7\n",
      "Step 8\n",
      "Step 9\n",
      "Step 10\n",
      "Done\n",
      "Step 1\n",
      "Step 2\n",
      "Step 3\n",
      "Step 4\n",
      "Step 5\n",
      "Step 6\n",
      "Step 7\n",
      "Step 8\n",
      "Step 9\n",
      "Step 10\n",
      "Done\n",
      "Step 1\n",
      "Step 2\n",
      "Step 3\n",
      "Step 4\n",
      "Step 5\n",
      "Step 6\n",
      "Step 7\n",
      "Step 8\n",
      "Step 9\n",
      "Step 10\n",
      "Done\n",
      "Step 1\n",
      "Step 2\n",
      "Step 3\n",
      "Step 4\n",
      "Step 5\n",
      "Step 6\n",
      "Step 7\n",
      "Step 8\n",
      "Step 9\n",
      "Step 10\n",
      "Done\n",
      "Step 1\n",
      "Step 2\n",
      "Step 3\n",
      "Step 4\n",
      "Step 5\n",
      "Step 6\n",
      "Step 7\n",
      "Step 8\n",
      "Step 9\n",
      "Step 10\n",
      "Done\n",
      "Step 1\n",
      "Step 2\n",
      "Step 3\n",
      "Step 4\n",
      "Step 5\n",
      "Step 6\n",
      "Step 7\n",
      "Step 8\n",
      "Step 9\n",
      "Step 10\n",
      "Done\n"
     ]
    }
   ],
   "source": [
    "for val in range(1,7) :\n",
    "    print 'Step 1'\n",
    "    df_train = df[df.year>=1991+val]\n",
    "    df_train = df[df.year<=2000+val]\n",
    "    df_test = df[df.year==2001+val]\n",
    "\n",
    "    df_train.reset_index(inplace=True)\n",
    "    df2 = df_train.iloc[:,1:]\n",
    "    df_train = df2\n",
    "    del df2\n",
    "\n",
    "    df_train = df_train[df_train.crossref != '']\n",
    "    df_train.reset_index(inplace=True)\n",
    "    df2 = df_train.iloc[:,1:]\n",
    "    df_train = df2\n",
    "    del df2\n",
    "\n",
    "    author_list = pd.unique(df_train.iloc[:,0])\n",
    "\n",
    "    # Get the indexes of each author\n",
    "    authors_indexes = [(element, index) for index, element in enumerate(df_train.author)]\n",
    "    author_index = defaultdict(list)\n",
    "\n",
    "    for k, v in authors_indexes:\n",
    "        author_index[k].append(v)\n",
    "\n",
    "    # Keep the authors with more than 10 publications\n",
    "    author_index_sorted = []\n",
    "    count = 0\n",
    "\n",
    "    print 'Step 2'\n",
    "\n",
    "    for author in author_list : \n",
    "        if len(author_index[author]) > 10 :\n",
    "            author_index_sorted += author_index[author]\n",
    "            count += len(author_index[author])\n",
    "\n",
    "    df_train = df_train[df_train.index.isin(author_index_sorted)]\n",
    "    df_test = df_test[df_test.author.isin(df_train.author)]\n",
    "    df_test = df_test[df_test.crossref.isin(df_train.crossref)]\n",
    "    df_train.shape, df_test.shape\n",
    "\n",
    "    author_list = pd.unique(df_train.iloc[:, 0])\n",
    "    conf_list = pd.unique(df_train.iloc[:, 2])\n",
    "    year_list = pd.unique(df_train.iloc[:, 1])\n",
    "    year_list.sort()\n",
    "\n",
    "    author_dic = {element : index for index, element in enumerate(author_list)}\n",
    "    conf_dic =   {element : index for index, element in enumerate(conf_list)}\n",
    "    year_dic =   {element : index for index, element in enumerate(year_list)}\n",
    "\n",
    "    T_train = np.zeros((len(author_list), len(conf_list), len(year_list)))\n",
    "    T_train = dtensor(T_train)\n",
    "\n",
    "    # Going through the dataframe\n",
    "    for a, c, y in zip(df_train.author, df_train.crossref, df_train.year):        \n",
    "        # Finding the corresponding index in the tensor\n",
    "        a_ind = author_dic[a]\n",
    "        c_ind = conf_dic[c]\n",
    "        y_ind = year_dic[y]\n",
    "        # Modifying the tensor value for the tuple (i_ind, j_ind, k_ind)\n",
    "        T_train[a_ind, c_ind, y_ind] += 1\n",
    "\n",
    "    # Logarithmic Transformation\n",
    "    nonz = T_train.nonzero()\n",
    "    for ind in range(len(nonz[0])):\n",
    "        i_ind = nonz[0][ind]\n",
    "        j_ind = nonz[1][ind] \n",
    "        k_ind = nonz[2][ind]  \n",
    "        T_train[i_ind, j_ind, k_ind] = 1 + np.log(T_train[i_ind, j_ind, k_ind]) \n",
    "\n",
    "    print 'Step 3'\n",
    "    author_list_train = author_list\n",
    "    conf_list_train = conf_list\n",
    "    author_dic_train = author_dic\n",
    "    conf_dic_train = conf_dic\n",
    "\n",
    "    T_test = np.zeros((len(author_list_train), len(conf_list_train)))\n",
    "\n",
    "    # Going through the dataframe\n",
    "    for a, c in zip(df_test.author, df_test.crossref):\n",
    "        # Finding the corresponding index in the tensor\n",
    "        a_ind = author_dic_train[a]\n",
    "        c_ind = conf_dic_train[c]\n",
    "        # Modifying the tensor value for the tuple (i_ind, j_ind, k_ind)\n",
    "        T_test[a_ind, c_ind] = 1\n",
    "\n",
    "    del author_list_train, conf_list_train, author_list, conf_list, author_dic, conf_dic, df_test\n",
    "\n",
    "    #Proportion of non-zero entries of the tensor\n",
    "    mail_rate = np.count_nonzero(T_train) / float(T_train.shape[0] * T_train.shape[1] * T_train.shape[2])\n",
    "\n",
    "    print 'Step 4'\n",
    "    # CUT\n",
    "    CUT = np.zeros((T_train[:,:,0].shape[0], T_train[:,:,0].shape[1]))\n",
    "    for k in range(T_train.shape[2]):\n",
    "        CUT = CUT + T_train[:,:,k]\n",
    "\n",
    "    # TSVD\n",
    "    S_test = (1*np.array(T_test[:, :] >= 1))\n",
    "    S = np.zeros((CUT.shape[0], CUT.shape[1]))\n",
    "    tau = 2\n",
    "    K_list = [1,5,10,30,50]\n",
    "    for K_ind in range(len(K_list)):\n",
    "        # Choice of K\n",
    "        K = K_list[K_ind]\n",
    "        # TSVD Decomposition\n",
    "        U, Sigma, Vt = randomized_svd(CUT, n_components=K, n_iter=5, random_state=None)\n",
    "        # TSVD Scoring\n",
    "        Sk = np.dot(np.dot(U,np.diag(Sigma)),Vt)\n",
    "        S+= Sk/LA.norm(Sk, 'fro')\n",
    "    y_score = S.flatten()\n",
    "    y_test = S_test.flatten()\n",
    "    PR_CUT_TSVD += [average_precision_score(y_test, y_score)]\n",
    "\n",
    "    print 'Step 5'\n",
    "\n",
    "    # BKatz\n",
    "    beta = 0.001\n",
    "    U, Sigma, V= np.linalg.svd(CUT, full_matrices=False)\n",
    "    S_test = (1*np.array(T_test[:, :] >= 1))\n",
    "    theta = 0.2\n",
    "    gamma = []\n",
    "    for j in range(len(Sigma)) :\n",
    "        gamma += [1/(1-beta*Sigma[j]) - 1]\n",
    "    # Katz Scoring\n",
    "    S = np.dot(np.dot(U,np.diag(gamma)),V)\n",
    "    y_score = S.flatten()\n",
    "    y_test = S_test.flatten()\n",
    "    PR_CUT_BKatz += [average_precision_score(y_test, y_score)]\n",
    "\n",
    "    print 'Step 6'\n",
    "    #TBKatz\n",
    "    beta = 0.001\n",
    "    S_test = (1*np.array(T_test[:, :] >= 1))\n",
    "    K_list = [1,5,10,30,50]\n",
    "    for K_ind in range(len(K_list)) :\n",
    "        K=K_list[K_ind]\n",
    "        U, Sigma, Vt= randomized_svd(CUT, n_components=K, n_iter=5, random_state=None)\n",
    "        gamma = []\n",
    "        for j in range(K) :\n",
    "            gamma += [1/(1-beta*Sigma[j]) - 1]\n",
    "        Sk = np.dot(U,np.dot(np.diag(gamma), Vt))\n",
    "        S+= Sk/LA.norm(Sk, 'fro')\n",
    "    y_score = S.flatten()\n",
    "    y_test = S_test.flatten() \n",
    "    PR_CUT_TBKatz += [average_precision_score(y_test, y_score)]\n",
    "\n",
    "    print 'Step 7'\n",
    "    # CWT\n",
    "    CWT = np.zeros((T_train[:,:,0].shape[0], T_train[:,:,0].shape[1]))\n",
    "    theta = 0.2\n",
    "    K = T_train.shape[2]\n",
    "    for k in range(T_train.shape[2]):\n",
    "        CWT = CWT + ((1-theta)**(K - k))*T_train[:,:,k]\n",
    "    # Create a np.array matrix instead of the sklearn tensor\n",
    "    C = np.zeros((T_train[:,:,0].shape[0], T_train[:,:,0].shape[1]))\n",
    "    for i in range(CWT.shape[0]) :\n",
    "        for j in range(CWT.shape[1]) :\n",
    "            C[i,j] = CWT[i,j]\n",
    "    CWT = C\n",
    "    del C\n",
    "\n",
    "    print 'Step 8'\n",
    "    # TSVD\n",
    "    S_test = (1*np.array(T_test[:, :] >= 1))\n",
    "    S = np.zeros((CWT.shape[0], CWT.shape[1]))\n",
    "    tau = 2\n",
    "    K_list = [1,5,10,30,50]\n",
    "    for K_ind in range(len(K_list)):\n",
    "        # Choice of K\n",
    "        K = K_list[K_ind]\n",
    "        # TSVD Decomposition\n",
    "        U, Sigma, Vt = randomized_svd(CWT, n_components=K, n_iter=5, random_state=None)\n",
    "        # TSVD Scoring\n",
    "        Sk = np.dot(np.dot(U,np.diag(Sigma)),Vt)\n",
    "        S+= Sk/LA.norm(Sk, 'fro')\n",
    "    y_score = S.flatten()\n",
    "    y_test = S_test.flatten()\n",
    "    PR_CWT_TSVD += [average_precision_score(y_test, y_score)]\n",
    "\n",
    "    print 'Step 9'\n",
    "    # BKatz\n",
    "    beta = 0.001\n",
    "    U, Sigma, V= np.linalg.svd(CWT, full_matrices=False)\n",
    "    S_test = (1*np.array(T_test[:, :] >= 1))\n",
    "    theta = 0.2\n",
    "    gamma = []\n",
    "    for j in range(len(Sigma)) :\n",
    "        gamma += [1/(1-beta*Sigma[j]) - 1]\n",
    "    # Katz Scoring\n",
    "    S = np.dot(np.dot(U,np.diag(gamma)),V)\n",
    "    y_score = S.flatten()\n",
    "    y_test = S_test.flatten()\n",
    "    PR_CWT_BKatz += [average_precision_score(y_test, y_score)]\n",
    "\n",
    "    print 'Step 10'\n",
    "    #TBKatz\n",
    "    beta = 0.001\n",
    "    S_test = (1*np.array(T_test[:, :] >= 1))\n",
    "    K_list = [1,5,10,30,50]\n",
    "    for K_ind in range(len(K_list)) :\n",
    "        K=K_list[K_ind]\n",
    "        U, Sigma, Vt= randomized_svd(CWT, n_components=K, n_iter=5, random_state=None)\n",
    "        gamma = []\n",
    "        for j in range(K) :\n",
    "            gamma += [1/(1-beta*Sigma[j]) - 1]\n",
    "        Sk = np.dot(U,np.dot(np.diag(gamma), Vt))\n",
    "        S+= Sk/LA.norm(Sk, 'fro')\n",
    "    y_score = S.flatten()\n",
    "    y_test = S_test.flatten()\n",
    "    PR_CWT_TBKatz += [average_precision_score(y_test, y_score)]\n",
    "\n",
    "    print 'Done'"
   ]
  },
  {
   "cell_type": "code",
   "execution_count": 86,
   "metadata": {
    "collapsed": false
   },
   "outputs": [
    {
     "data": {
      "text/plain": [
       "7"
      ]
     },
     "execution_count": 86,
     "metadata": {},
     "output_type": "execute_result"
    }
   ],
   "source": [
    "len(PR_CWT_TBKatz)"
   ]
  },
  {
   "cell_type": "code",
   "execution_count": 88,
   "metadata": {
    "collapsed": false
   },
   "outputs": [
    {
     "name": "stdout",
     "output_type": "stream",
     "text": [
      "[0.054300037481912158, 0.054581659095141212, 0.053355539334328198, 0.047592995698103074, 0.046110251611207936, 0.047347362396661305, 0.04667452588810049] 0.0499946245008\n",
      "[0.095673770981927919, 0.096214519420387293, 0.097399344679387642, 0.091740856306382082, 0.090641586823755865, 0.091608488458066156, 0.092173589774506792] 0.0936360223492\n",
      "[0.059303401750437038, 0.061111103122946576, 0.061768029284650895, 0.05815337926305246, 0.057138782222836748, 0.058527365059168272, 0.059467327124047106] 0.0593527696896\n",
      "[0.040546726757160888, 0.050372223432093403, 0.05487136625092915, 0.052221202579869515, 0.055760262910405506, 0.064793265873821504, 0.06897285278179488] 0.0553625572266\n",
      "[0.068375812833104913, 0.091841102030741917, 0.10601657021631541, 0.11133053827126536, 0.11637880718693008, 0.11879298210906825, 0.12158694730393395] 0.104903251422\n",
      "[0.044777626489436957, 0.05482251774506422, 0.06037131998413061, 0.060285092851028843, 0.063845372875051473, 0.07294034289294378, 0.078308440345595809] 0.0621929590262\n"
     ]
    }
   ],
   "source": [
    "print PR_CUT_TSVD, sum(PR_CUT_TSVD)/len(PR_CUT_TSVD)\n",
    "print PR_CUT_BKatz, sum(PR_CUT_BKatz)/len(PR_CUT_BKatz)\n",
    "print PR_CUT_TBKatz, sum(PR_CUT_TBKatz)/len(PR_CUT_TBKatz)\n",
    "\n",
    "print PR_CWT_TSVD, sum(PR_CWT_TSVD)/len(PR_CWT_TSVD) \n",
    "print PR_CWT_BKatz, sum(PR_CWT_BKatz)/len(PR_CWT_BKatz) \n",
    "print PR_CWT_TBKatz, sum(PR_CWT_TBKatz)/len(PR_CWT_TBKatz)"
   ]
  },
  {
   "cell_type": "code",
   "execution_count": 89,
   "metadata": {
    "collapsed": false
   },
   "outputs": [
    {
     "name": "stdout",
     "output_type": "stream",
     "text": [
      "0.0499946245008\n",
      "0.0936360223492\n",
      "0.0593527696896\n",
      "0.0553625572266\n",
      "0.104903251422\n",
      "0.0621929590262\n"
     ]
    }
   ],
   "source": [
    "print sum(PR_CUT_TSVD)/len(PR_CUT_TSVD)\n",
    "print sum(PR_CUT_BKatz)/len(PR_CUT_BKatz)\n",
    "print sum(PR_CUT_TBKatz)/len(PR_CUT_TBKatz)\n",
    "\n",
    "print sum(PR_CWT_TSVD)/len(PR_CWT_TSVD) \n",
    "print sum(PR_CWT_BKatz)/len(PR_CWT_BKatz) \n",
    "print sum(PR_CWT_TBKatz)/len(PR_CWT_TBKatz)"
   ]
  },
  {
   "cell_type": "code",
   "execution_count": 62,
   "metadata": {
    "collapsed": false
   },
   "outputs": [
    {
     "name": "stdout",
     "output_type": "stream",
     "text": [
      "Step 1\n",
      "Step 2\n",
      "Step 3\n",
      "Step 7\n",
      "Step 8\n",
      "Step 9\n",
      "Step 10\n",
      "Done\n",
      "Step 1\n",
      "Step 2\n",
      "Step 3\n",
      "Step 7\n",
      "Step 8\n",
      "Step 9\n",
      "Step 10\n",
      "Done\n",
      "Step 1\n",
      "Step 2\n",
      "Step 3\n",
      "Step 7\n",
      "Step 8\n",
      "Step 9\n",
      "Step 10\n",
      "Done\n",
      "Step 1\n",
      "Step 2\n",
      "Step 3\n",
      "Step 7\n",
      "Step 8\n",
      "Step 9\n",
      "Step 10\n",
      "Done\n",
      "Step 1\n",
      "Step 2\n",
      "Step 3\n",
      "Step 7\n",
      "Step 8\n",
      "Step 9\n",
      "Step 10\n",
      "Done\n",
      "Step 1\n",
      "Step 2\n",
      "Step 3\n",
      "Step 7\n",
      "Step 8\n",
      "Step 9\n",
      "Step 10\n",
      "Done\n"
     ]
    }
   ],
   "source": [
    " \n",
    "for val in range(1,7):\n",
    "    print 'Step 1'\n",
    "    df_train = df[df.year>=1991+val]\n",
    "    df_train = df[df.year<=2000+val]\n",
    "    df_test = df[df.year==2001+val]\n",
    "\n",
    "    df_train.reset_index(inplace=True)\n",
    "    df2 = df_train.iloc[:,1:]\n",
    "    df_train = df2\n",
    "    del df2\n",
    "\n",
    "    df_train = df_train[df_train.crossref != '']\n",
    "    df_train.reset_index(inplace=True)\n",
    "    df2 = df_train.iloc[:,1:]\n",
    "    df_train = df2\n",
    "    del df2\n",
    "\n",
    "    author_list = pd.unique(df_train.iloc[:,0])\n",
    "\n",
    "    # Get the indexes of each author\n",
    "    authors_indexes = [(element, index) for index, element in enumerate(df_train.author)]\n",
    "    author_index = defaultdict(list)\n",
    "\n",
    "    for k, v in authors_indexes:\n",
    "        author_index[k].append(v)\n",
    "\n",
    "    # Keep the authors with more than 10 publications\n",
    "    author_index_sorted = []\n",
    "    count = 0\n",
    "\n",
    "    print 'Step 2'\n",
    "\n",
    "    for author in author_list : \n",
    "        if len(author_index[author]) > 10 :\n",
    "            author_index_sorted += author_index[author]\n",
    "            count += len(author_index[author])\n",
    "\n",
    "    df_train = df_train[df_train.index.isin(author_index_sorted)]\n",
    "    df_test = df_test[df_test.author.isin(df_train.author)]\n",
    "    df_test = df_test[df_test.crossref.isin(df_train.crossref)]\n",
    "    df_train.shape, df_test.shape\n",
    "\n",
    "    author_list = pd.unique(df_train.iloc[:, 0])\n",
    "    conf_list = pd.unique(df_train.iloc[:, 2])\n",
    "    year_list = pd.unique(df_train.iloc[:, 1])\n",
    "    year_list.sort()\n",
    "\n",
    "    author_dic = {element : index for index, element in enumerate(author_list)}\n",
    "    conf_dic =   {element : index for index, element in enumerate(conf_list)}\n",
    "    year_dic =   {element : index for index, element in enumerate(year_list)}\n",
    "\n",
    "    T_train = np.zeros((len(author_list), len(conf_list), len(year_list)))\n",
    "    T_train = dtensor(T_train)\n",
    "\n",
    "    # Going through the dataframe\n",
    "    for a, c, y in zip(df_train.author, df_train.crossref, df_train.year):        \n",
    "        # Finding the corresponding index in the tensor\n",
    "        a_ind = author_dic[a]\n",
    "        c_ind = conf_dic[c]\n",
    "        y_ind = year_dic[y]\n",
    "        # Modifying the tensor value for the tuple (i_ind, j_ind, k_ind)\n",
    "        T_train[a_ind, c_ind, y_ind] += 1\n",
    "\n",
    "    # Logarithmic Transformation\n",
    "    nonz = T_train.nonzero()\n",
    "    for ind in range(len(nonz[0])):\n",
    "        i_ind = nonz[0][ind]\n",
    "        j_ind = nonz[1][ind] \n",
    "        k_ind = nonz[2][ind]  \n",
    "        T_train[i_ind, j_ind, k_ind] = 1 + np.log(T_train[i_ind, j_ind, k_ind]) \n",
    "\n",
    "    print 'Step 3'\n",
    "    author_list_train = author_list\n",
    "    conf_list_train = conf_list\n",
    "    author_dic_train = author_dic\n",
    "    conf_dic_train = conf_dic\n",
    "\n",
    "    T_test = np.zeros((len(author_list_train), len(conf_list_train)))\n",
    "\n",
    "    # Going through the dataframe\n",
    "    for a, c in zip(df_test.author, df_test.crossref):\n",
    "        # Finding the corresponding index in the tensor\n",
    "        a_ind = author_dic_train[a]\n",
    "        c_ind = conf_dic_train[c]\n",
    "        # Modifying the tensor value for the tuple (i_ind, j_ind, k_ind)\n",
    "        T_test[a_ind, c_ind] = 1\n",
    "\n",
    "    del author_list_train, conf_list_train, author_list, conf_list, author_dic, conf_dic, df_test\n",
    "\n",
    "    #Proportion of non-zero entries of the tensor\n",
    "    mail_rate = np.count_nonzero(T_train) / float(T_train.shape[0] * T_train.shape[1] * T_train.shape[2])\n",
    "\n",
    "\n",
    "    print 'Step 7'\n",
    "    # CWT\n",
    "    CWT = np.zeros((T_train[:,:,0].shape[0], T_train[:,:,0].shape[1]))\n",
    "    theta = 0.2\n",
    "    K = T_train.shape[2]\n",
    "    for k in range(T_train.shape[2]):\n",
    "        CWT = CWT + ((1-theta)**(K - k))*T_train[:,:,k]\n",
    "    # Create a np.array matrix instead of the sklearn tensor\n",
    "    C = np.zeros((T_train[:,:,0].shape[0], T_train[:,:,0].shape[1]))\n",
    "    for i in range(CWT.shape[0]) :\n",
    "        for j in range(CWT.shape[1]) :\n",
    "            C[i,j] = CWT[i,j]\n",
    "    CWT = C\n",
    "    del C\n",
    "\n",
    "    print 'Step 8'\n",
    "    # TSVD\n",
    "    S_test = (1*np.array(T_test[:, :] >= 1))\n",
    "    S = np.zeros((CWT.shape[0], CWT.shape[1]))\n",
    "    tau = 2\n",
    "    K_list = [1,5,10,30,50]\n",
    "    for K_ind in range(len(K_list)):\n",
    "        # Choice of K\n",
    "        K = K_list[K_ind]\n",
    "        # TSVD Decomposition\n",
    "        U, Sigma, Vt = randomized_svd(CWT, n_components=K, n_iter=5, random_state=None)\n",
    "        # TSVD Scoring\n",
    "        Sk = np.dot(np.dot(U,np.diag(Sigma)),Vt)\n",
    "        S+= Sk/LA.norm(Sk, 'fro')\n",
    "    y_score = S.flatten()\n",
    "    y_test = S_test.flatten()\n",
    "    AUC_CWT_TSVD += [sklearn.metrics.roc_auc_score(y_test, y_score)]\n",
    "\n",
    "    print 'Step 9'\n",
    "    # BKatz\n",
    "    beta = 0.001\n",
    "    U, Sigma, V= np.linalg.svd(CWT, full_matrices=False)\n",
    "    S_test = (1*np.array(T_test[:, :] >= 1))\n",
    "    theta = 0.2\n",
    "    gamma = []\n",
    "    for j in range(len(Sigma)) :\n",
    "        gamma += [1/(1-beta*Sigma[j]) - 1]\n",
    "    # Katz Scoring\n",
    "    S = np.dot(np.dot(U,np.diag(gamma)),V)\n",
    "    y_score = S.flatten()\n",
    "    y_test = S_test.flatten()\n",
    "    AUC_CWT_BKatz += [sklearn.metrics.roc_auc_score(y_test, y_score)]\n",
    "\n",
    "    print 'Step 10'\n",
    "    #TBKatz\n",
    "    beta = 0.001\n",
    "    S_test = (1*np.array(T_test[:, :] >= 1))\n",
    "    K_list = [1,5,10,30,50]\n",
    "    for K_ind in range(len(K_list)) :\n",
    "        K=K_list[K_ind]\n",
    "        U, Sigma, Vt= randomized_svd(CWT, n_components=K, n_iter=5, random_state=None)\n",
    "        gamma = []\n",
    "        for j in range(K) :\n",
    "            gamma += [1/(1-beta*Sigma[j]) - 1]\n",
    "        Sk = np.dot(U,np.dot(np.diag(gamma), Vt))\n",
    "        S+= Sk/LA.norm(Sk, 'fro')\n",
    "    y_score = S.flatten()\n",
    "    y_test = S_test.flatten()\n",
    "    AUC_CWT_TBKatz += [sklearn.metrics.roc_auc_score(y_test, y_score)]\n",
    "\n",
    "    print 'Done'"
   ]
  },
  {
   "cell_type": "code",
   "execution_count": 63,
   "metadata": {
    "collapsed": false
   },
   "outputs": [
    {
     "name": "stdout",
     "output_type": "stream",
     "text": [
      "[0.80803651850554015, 0.79539943358915388, 0.77592201072192335, 0.75628528423868047, 0.73651110206053705, 0.73388498183549589, 0.72751954737693736] [0.73786150685115648, 0.72805603660015672, 0.72191589358075792, 0.71376580580594828, 0.70993642257254641, 0.7104536807099372, 0.71753524376021272] [0.84055450786729491, 0.83479157795817915, 0.82038200458419785, 0.79995675737445959, 0.78901800217278195, 0.80069806025094903, 0.79001760668533039]\n"
     ]
    }
   ],
   "source": [
    "print  AUC_CWT_TSVD, AUC_CWT_BKatz,  AUC_CWT_TBKatz"
   ]
  },
  {
   "cell_type": "code",
   "execution_count": 65,
   "metadata": {
    "collapsed": false
   },
   "outputs": [
    {
     "name": "stdout",
     "output_type": "stream",
     "text": [
      "AUC_CUT_TSVD 0.752548941985\n",
      "AUC_CWT_TSVD 0.761936982618\n",
      "AUC_CUT_BKatz 0.727467558824\n",
      "AUC_CWT_TSVD 0.761936982618\n",
      "AUC_CWT_BKatz 0.719932084269\n",
      "AUC_CWT_TBKatz 0.810774073842\n"
     ]
    }
   ],
   "source": [
    "print 'AUC_CUT_TSVD', sum(AUC_CUT_TSVD)/len(AUC_CUT_TSVD)\n",
    "print 'AUC_CWT_TSVD', sum(AUC_CWT_TSVD)/len(AUC_CWT_TSVD)\n",
    "print 'AUC_CUT_BKatz',sum(AUC_CUT_BKatz)/len(AUC_CUT_BKatz)\n",
    "print 'AUC_CWT_TSVD', sum(AUC_CWT_TSVD)/len(AUC_CWT_TSVD)\n",
    "print 'AUC_CWT_BKatz',sum(AUC_CWT_BKatz)/len(AUC_CWT_BKatz)\n",
    "print 'AUC_CWT_TBKatz',sum(AUC_CWT_TBKatz)/len(AUC_CWT_TBKatz)"
   ]
  },
  {
   "cell_type": "code",
   "execution_count": 32,
   "metadata": {
    "collapsed": false,
    "scrolled": false
   },
   "outputs": [
    {
     "name": "stdout",
     "output_type": "stream",
     "text": [
      "[0.80493644555357446, 0.79366892127593069, 0.76807600023919265, 0.73628282001641787, 0.72721523900826557, 0.72277264637262839, 0.71489052142588483] [0.46646258727993362, 0.46302856178230889, 0.45690197848580888, 0.45899956666244246, 0.4530391949208627, 0.4521393659973949, 0.45035946973877083] [0.74706088783793778, 0.74091629975353257, 0.72889291606285, 0.72086611217663321, 0.71495795000583051, 0.71762934268108025, 0.72194940324767343] [0.5, 0.5, 0.5, 0.5, 0.5, 0.5, 0.5] [0.85058261822531256, 0.82895934417707229, 0.81877628582269291, 0.79402122411048837, 0.7847893462085076, 0.78614481236569922, 0.78119183196679265] [0.46646258727993362, 0.46302856178230889, 0.45690197848580888, 0.45899956666244246, 0.4530391949208627, 0.4521393659973949, 0.45035946973877083]\n"
     ]
    }
   ],
   "source": [
    "print AUC_CUT_TSVD, AUC_CWT_TSVD, AUC_CUT_BKatz, AUC_CWT_BKatz, AUC_CUT_TBKatz, AUC_CWT_TBKatz"
   ]
  },
  {
   "cell_type": "code",
   "execution_count": 66,
   "metadata": {
    "collapsed": false
   },
   "outputs": [
    {
     "name": "stdout",
     "output_type": "stream",
     "text": [
      "AUC_CUT_TSVD 0.752548941985\n",
      "AUC_CWT_TSVD 0.761936982618\n",
      "AUC_CUT_BKatz 0.727467558824\n",
      "AUC_CWT_BKatz 0.719932084269\n",
      "AUC_CUT_TBKatz 0.806352208982\n",
      "AUC_CWT_TBKatz 0.810774073842\n"
     ]
    }
   ],
   "source": [
    "print 'AUC_CUT_TSVD', sum(AUC_CUT_TSVD)/len(AUC_CUT_TSVD)\n",
    "print 'AUC_CWT_TSVD', sum(AUC_CWT_TSVD)/len(AUC_CWT_TSVD)\n",
    "print 'AUC_CUT_BKatz',sum(AUC_CUT_BKatz)/len(AUC_CUT_BKatz)\n",
    "print 'AUC_CWT_BKatz',sum(AUC_CWT_BKatz)/len(AUC_CWT_BKatz)\n",
    "print 'AUC_CUT_TBKatz',sum(AUC_CUT_TBKatz)/len(AUC_CUT_TBKatz)\n",
    "print 'AUC_CWT_TBKatz',sum(AUC_CWT_TBKatz)/len(AUC_CWT_TBKatz)"
   ]
  },
  {
   "cell_type": "code",
   "execution_count": 34,
   "metadata": {
    "collapsed": true
   },
   "outputs": [],
   "source": [
    "L = [0.752548941985, 0.457275817838, 0.727467558824, 0.5, 0.806352208982, 0.457275817838]"
   ]
  },
  {
   "cell_type": "code",
   "execution_count": 68,
   "metadata": {
    "collapsed": true
   },
   "outputs": [],
   "source": [
    "L_ = [0.752548941985, 0.727467558824, 0.806352208982, 0.761936982618, 0.719932084269, 0.810774073842]"
   ]
  },
  {
   "cell_type": "code",
   "execution_count": 69,
   "metadata": {
    "collapsed": false
   },
   "outputs": [
    {
     "data": {
      "text/plain": [
       "[0.752548941985,\n",
       " 0.727467558824,\n",
       " 0.806352208982,\n",
       " 0.761936982618,\n",
       " 0.719932084269,\n",
       " 0.810774073842]"
      ]
     },
     "execution_count": 69,
     "metadata": {},
     "output_type": "execute_result"
    }
   ],
   "source": [
    "L_"
   ]
  },
  {
   "cell_type": "code",
   "execution_count": 90,
   "metadata": {
    "collapsed": true
   },
   "outputs": [],
   "source": [
    "prec_rec = [0.0499946245008,\n",
    "0.0936360223492,\n",
    "0.0593527696896,\n",
    "0.0553625572266,\n",
    "0.104903251422,\n",
    "0.0621929590262]"
   ]
  },
  {
   "cell_type": "code",
   "execution_count": 108,
   "metadata": {
    "collapsed": true
   },
   "outputs": [],
   "source": [
    "result = pd.DataFrame({'AUC' : pd.Series(L_, index=['CP', 'TSVD CUT', 'BKatz CUT','TBKatz CUT', 'TSVD CWT', 'BKatz CWT', 'TBKatz CWT'])})"
   ]
  },
  {
   "cell_type": "code",
   "execution_count": 106,
   "metadata": {
    "collapsed": false
   },
   "outputs": [
    {
     "data": {
      "text/plain": [
       "[0.723335,\n",
       " 0.752548941985,\n",
       " 0.727467558824,\n",
       " 0.806352208982,\n",
       " 0.761936982618,\n",
       " 0.719932084269,\n",
       " 0.810774073842]"
      ]
     },
     "execution_count": 106,
     "metadata": {},
     "output_type": "execute_result"
    }
   ],
   "source": [
    "L_=[0.723335] + L_\n",
    "L_"
   ]
  },
  {
   "cell_type": "code",
   "execution_count": 1,
   "metadata": {
    "collapsed": false
   },
   "outputs": [],
   "source": [
    "p=[.43,.28,.15,.3]"
   ]
  },
  {
   "cell_type": "code",
   "execution_count": 5,
   "metadata": {
    "collapsed": false
   },
   "outputs": [],
   "source": [
    "m = pd.DataFrame({'30 days' : p}, index=['TSVD CUT', 'TSVD CWT', 'Katz CUT','Katz CWT'])"
   ]
  },
  {
   "cell_type": "code",
   "execution_count": 6,
   "metadata": {
    "collapsed": false
   },
   "outputs": [
    {
     "data": {
      "text/html": [
       "<div>\n",
       "<table border=\"1\" class=\"dataframe\">\n",
       "  <thead>\n",
       "    <tr style=\"text-align: right;\">\n",
       "      <th></th>\n",
       "      <th>30 days</th>\n",
       "    </tr>\n",
       "  </thead>\n",
       "  <tbody>\n",
       "    <tr>\n",
       "      <th>TSVD CUT</th>\n",
       "      <td>0.43</td>\n",
       "    </tr>\n",
       "    <tr>\n",
       "      <th>TSVD CWT</th>\n",
       "      <td>0.28</td>\n",
       "    </tr>\n",
       "    <tr>\n",
       "      <th>Katz CUT</th>\n",
       "      <td>0.15</td>\n",
       "    </tr>\n",
       "    <tr>\n",
       "      <th>Katz CWT</th>\n",
       "      <td>0.30</td>\n",
       "    </tr>\n",
       "  </tbody>\n",
       "</table>\n",
       "</div>"
      ],
      "text/plain": [
       "          30 days\n",
       "TSVD CUT     0.43\n",
       "TSVD CWT     0.28\n",
       "Katz CUT     0.15\n",
       "Katz CWT     0.30"
      ]
     },
     "execution_count": 6,
     "metadata": {},
     "output_type": "execute_result"
    }
   ],
   "source": [
    "m"
   ]
  },
  {
   "cell_type": "code",
   "execution_count": 7,
   "metadata": {
    "collapsed": false
   },
   "outputs": [
    {
     "data": {
      "image/png": "[encoded data removed]",
      "text/plain": [
       "<matplotlib.figure.Figure at 0x103de8d90>"
      ]
     },
     "metadata": {},
     "output_type": "display_data"
    }
   ],
   "source": [
    "ax = m.plot(kind='bar', figsize=(20,15),legend=True, fontsize=20, rot=0) \n",
    "ax.set_ylabel(\"Average Precision\",fontsize=40)\n",
    "#ax.set_title(\"Sign Prediction Accuracy across balanced datasets\", fontsize=40)\n",
    "ax.set_ylim([0, 0.9])\n",
    "ax.legend(fontsize=27, frameon=False) \n",
    "#plt.show() \n",
    "plt.savefig('PR_30_days_results.pdf')"
   ]
  },
  {
   "cell_type": "code",
   "execution_count": 51,
   "metadata": {
    "collapsed": false
   },
   "outputs": [
    {
     "data": {
      "text/plain": [
       "6"
      ]
     },
     "execution_count": 51,
     "metadata": {},
     "output_type": "execute_result"
    }
   ],
   "source": [
    "L2 =[0.711, 0.76,0.694, 0.444,0.5,0.444]\n",
    "len(L2)"
   ]
  },
  {
   "cell_type": "code",
   "execution_count": 52,
   "metadata": {
    "collapsed": true
   },
   "outputs": [],
   "source": [
    "result2 = pd.DataFrame({'AUC' : pd.Series(L2, index=['TSVD CUT', 'BKatz CUT','TBKatz CUT', 'TSVD CWT', 'BKatz CWT', 'TBKatz CWT'])})"
   ]
  },
  {
   "cell_type": "code",
   "execution_count": 57,
   "metadata": {
    "collapsed": false
   },
   "outputs": [
    {
     "data": {
      "text/html": [
       "<div>\n",
       "<table border=\"1\" class=\"dataframe\">\n",
       "  <thead>\n",
       "    <tr style=\"text-align: right;\">\n",
       "      <th></th>\n",
       "      <th>AUC</th>\n",
       "    </tr>\n",
       "  </thead>\n",
       "  <tbody>\n",
       "    <tr>\n",
       "      <th>TSVD CUT</th>\n",
       "      <td>0.752549</td>\n",
       "    </tr>\n",
       "    <tr>\n",
       "      <th>BKatz CUT</th>\n",
       "      <td>0.727468</td>\n",
       "    </tr>\n",
       "    <tr>\n",
       "      <th>TBKatz CUT</th>\n",
       "      <td>0.806352</td>\n",
       "    </tr>\n",
       "    <tr>\n",
       "      <th>TSVD CWT</th>\n",
       "      <td>0.457276</td>\n",
       "    </tr>\n",
       "    <tr>\n",
       "      <th>BKatz CWT</th>\n",
       "      <td>0.500000</td>\n",
       "    </tr>\n",
       "    <tr>\n",
       "      <th>TBKatz CWT</th>\n",
       "      <td>0.457276</td>\n",
       "    </tr>\n",
       "  </tbody>\n",
       "</table>\n",
       "</div>"
      ],
      "text/plain": [
       "                 AUC\n",
       "TSVD CUT    0.752549\n",
       "BKatz CUT   0.727468\n",
       "TBKatz CUT  0.806352\n",
       "TSVD CWT    0.457276\n",
       "BKatz CWT   0.500000\n",
       "TBKatz CWT  0.457276"
      ]
     },
     "execution_count": 57,
     "metadata": {},
     "output_type": "execute_result"
    }
   ],
   "source": [
    "result"
   ]
  },
  {
   "cell_type": "code",
   "execution_count": 58,
   "metadata": {
    "collapsed": false
   },
   "outputs": [
    {
     "data": {
      "text/html": [
       "<div>\n",
       "<table border=\"1\" class=\"dataframe\">\n",
       "  <thead>\n",
       "    <tr style=\"text-align: right;\">\n",
       "      <th></th>\n",
       "      <th>AUC</th>\n",
       "    </tr>\n",
       "  </thead>\n",
       "  <tbody>\n",
       "    <tr>\n",
       "      <th>TSVD CUT</th>\n",
       "      <td>0.711</td>\n",
       "    </tr>\n",
       "    <tr>\n",
       "      <th>BKatz CUT</th>\n",
       "      <td>0.760</td>\n",
       "    </tr>\n",
       "    <tr>\n",
       "      <th>TBKatz CUT</th>\n",
       "      <td>0.694</td>\n",
       "    </tr>\n",
       "    <tr>\n",
       "      <th>TSVD CWT</th>\n",
       "      <td>0.444</td>\n",
       "    </tr>\n",
       "    <tr>\n",
       "      <th>BKatz CWT</th>\n",
       "      <td>0.500</td>\n",
       "    </tr>\n",
       "    <tr>\n",
       "      <th>TBKatz CWT</th>\n",
       "      <td>0.444</td>\n",
       "    </tr>\n",
       "  </tbody>\n",
       "</table>\n",
       "</div>"
      ],
      "text/plain": [
       "              AUC\n",
       "TSVD CUT    0.711\n",
       "BKatz CUT   0.760\n",
       "TBKatz CUT  0.694\n",
       "TSVD CWT    0.444\n",
       "BKatz CWT   0.500\n",
       "TBKatz CWT  0.444"
      ]
     },
     "execution_count": 58,
     "metadata": {},
     "output_type": "execute_result"
    }
   ],
   "source": [
    "result2"
   ]
  },
  {
   "cell_type": "markdown",
   "metadata": {},
   "source": [
    "### CanDecom/ParaFac (CP) Decomposition"
   ]
  },
  {
   "cell_type": "code",
   "execution_count": 23,
   "metadata": {
    "collapsed": true
   },
   "outputs": [],
   "source": [
    "# Defining a function for the outer product of several vectors\n",
    "def Outer(vecs):\n",
    "    # vecs can be either a list of vectors (n vectors of dimensions (**,1)) or an array of dimensions (**, n)\n",
    "    vec_list = []\n",
    "    if isinstance(vecs, list):\n",
    "        vec_list = vecs\n",
    "    elif isinstance(vecs, np.ndarray):\n",
    "        vec_list = [vecs[:, j] for j in range(vecs.shape[1])]        \n",
    "\n",
    "    res = reduce(np.multiply, np.ix_(*vec_list))\n",
    "    return res"
   ]
  },
  {
   "cell_type": "code",
   "execution_count": 53,
   "metadata": {
    "collapsed": false
   },
   "outputs": [
    {
     "data": {
      "text/plain": [
       "<matplotlib.legend.Legend at 0x1180c7450>"
      ]
     },
     "execution_count": 53,
     "metadata": {},
     "output_type": "execute_result"
    },
    {
     "data": {
      "image/png": "[encoded data removed]",
      "text/plain": [
       "<matplotlib.figure.Figure at 0x1180c7590>"
      ]
     },
     "metadata": {},
     "output_type": "display_data"
    }
   ],
   "source": [
    "ax = result2.plot(kind='bar', figsize=(20,15),legend=True, fontsize=40, color = 'Red') \n",
    "ax.set_ylabel(\"AUC\",fontsize=40)\n",
    "#ax.set_title(\"Sign Prediction Accuracy across balanced datasets\", fontsize=40)\n",
    "ax.set_ylim([0.4, 0.9])\n",
    "ax.legend(fontsize=27, frameon=False) \n",
    "# plt.show() plt.savefig('../big_signed_accuracy.pdf')"
   ]
  },
  {
   "cell_type": "markdown",
   "metadata": {},
   "source": [
    "### Collapsed Unweighted Tensor  \n",
    "Precision-Recall for several values of K"
   ]
  },
  {
   "cell_type": "code",
   "execution_count": 25,
   "metadata": {
    "collapsed": false,
    "scrolled": true
   },
   "outputs": [
    {
     "data": {
      "text/plain": [
       "<matplotlib.figure.Figure at 0x10bcd4f90>"
      ]
     },
     "metadata": {},
     "output_type": "display_data"
    },
    {
     "data": {
      "image/png": "[encoded data removed]",
      "text/plain": [
       "<matplotlib.figure.Figure at 0x10a58a1d0>"
      ]
     },
     "metadata": {},
     "output_type": "display_data"
    }
   ],
   "source": [
    "S_test = (1*np.array(T_test[:, :] >= 1))\n",
    "S = np.zeros((T_train.shape[0], T_train.shape[1]))\n",
    "S_pred = np.zeros((S.shape[0], S.shape[1]))\n",
    "S_test_all = np.zeros((S.shape[0], S.shape[1]))\n",
    "\n",
    "#S_test = np.zeros((CUT.shape[0], CUT.shape[1]))\n",
    "\n",
    "tau = 2\n",
    "K_list = [5]\n",
    "#,5,10,30,50]\n",
    "FPR = {}\n",
    "TPR = {}\n",
    "AUC = {}\n",
    "\n",
    "S_test = (1*np.array(T_test[:, :] >= 1))\n",
    "\n",
    "for i in range(2) :\n",
    "    if i==0 :\n",
    "        for K_ind in range(len(K_list)):\n",
    "            K = K_list[K_ind]\n",
    "            # CP Decomposition\n",
    "            P, fit, itr, exectimes = cp_als(T_train, K, init='random')\n",
    "            A, B, C = P.U\n",
    "            # CP Scoring\n",
    "            gamma = sum(C[-tau:, :], 0)  # The temporal coefficient\n",
    "            Sk = sum(map(lambda x: gamma[x]*P.lmbda[x]*Outer([A[:, x], B[:, x]]), range(K)))\n",
    "            S+= Sk/LA.norm(Sk, 'fro')\n",
    "        y_test = S_test.flatten()\n",
    "        y_score = S.flatten()\n",
    "    else :\n",
    "        nonz = T_train.nonzero()\n",
    "        for ind in range(len(nonz[0])):\n",
    "            i_ind = nonz[0][ind]\n",
    "            j_ind = nonz[1][ind] \n",
    "            S[i_ind, j_ind] = 0\n",
    "        y_score = S.flatten()\n",
    "        y_test = S_test.flatten()\n",
    "            \n",
    "    # ROC \n",
    "    FPR[i], TPR[i], _ = sklearn.metrics.roc_curve(y_test, y_score)\n",
    "    AUC[i] = sklearn.metrics.roc_auc_score(y_test, y_score)\n",
    "    \n",
    "# Plotting the results\n",
    "plt.clf()\n",
    "plt.figure(figsize=(16, 10))\n",
    "plt.plot(FPR[0], TPR[0], label='Predicting all links - AUC={0:0.2f}' .format(AUC[0]))\n",
    "plt.plot(FPR[1], TPR[1], label= 'Predicting new links - AUC={0:0.2f}'.format(AUC[1]))\n",
    "\n",
    "plt.axhline(mail_rate, label='random', color='black')\n",
    "plt.xlabel('False Positive Rate')\n",
    "plt.ylabel('True Positive Rate')\n",
    "plt.ylim([0.0, 1.05])\n",
    "plt.xlim([0.0, 1.0])\n",
    "plt.legend(loc=\"lower right\")\n",
    "plt.title('DBLP ROC for TSVD Factorization of rank K \\nCollapsed Unweighted Tensor -  Tau = %d days' %(tau))\n",
    "plt.savefig('DBLP TSVD_roc_cut.pdf')   "
   ]
  },
  {
   "cell_type": "markdown",
   "metadata": {},
   "source": [
    "### Exponential Smoothing  \n",
    "Precision-Recall for several values of K"
   ]
  },
  {
   "cell_type": "code",
   "execution_count": null,
   "metadata": {
    "collapsed": true
   },
   "outputs": [],
   "source": [
    "K_list = [1, 5, 10, 30, 50]\n",
    "#tau_list = [1, 7, 20]\n",
    "tau_list = [60]\n",
    "#alpha_list = [0.2, 0.5, 0.8]\n",
    "alpha_list = [0.3] \n",
    "\n",
    "for alpha_ind in range(len(alpha_list)):\n",
    "    # Choice of alpha\n",
    "    alpha = alpha_list[alpha_ind]\n",
    "    for tau_ind in range(len(tau_list)):\n",
    "        # Choice of tau\n",
    "        tau = tau_list[tau_ind]\n",
    "\n",
    "        for K_ind in range(len(K_list)):\n",
    "            # Choice of K\n",
    "            K = K_list[K_ind]\n",
    "            # CP Decomposition\n",
    "            P, fit, itr, exectimes = cp_als(T_train, K, init='random')\n",
    "            A, B, C = P.U\n",
    "            # CP Scoring\n",
    "            gamma = sum(map(lambda x: ((1 - alpha) ** x) * alpha * C[-x, :], range(t_1 - t_0 - 1)), 0) + \\\n",
    "                    (1 - alpha) ** (t_1 - t_0 + 1) * C[0, :]                                 # Exponential smoothing\n",
    "            for i in range(Sk.shape[0]) :\n",
    "                for j in range(Sk.shape[1]) :\n",
    "                    Sk[i,j] = float(Sk[i,j])\n",
    "            S += Sk/LA.norm(Sk, 'fro')\n",
    "\n",
    "y_score = S.flatten()\n",
    "y_test = (1*np.array(T_test[:, :, 0] >= 1)).flatten()\n",
    "\n",
    "# Precision-Recall\n",
    "precision, recall, _ = precision_recall_curve(y_test, y_score)\n",
    "average_precision = average_precision_score(y_test, y_score)    \n",
    "\n",
    "# Plotting the results\n",
    "plt.clf()\n",
    "plt.figure(figsize=(16, 10))\n",
    "\n",
    "plt.plot(recall, precision, label='AUC={0:0.2f}' .format(average_precision))\n",
    "\n",
    "plt.axhline(mail_rate, label='random', color='black')\n",
    "plt.xlabel('Recall')\n",
    "plt.ylabel('Precision')\n",
    "plt.ylim([0.0, 1.05])\n",
    "plt.xlim([0.0, 1.0])\n",
    "plt.legend(loc=\"lower right\")\n",
    "plt.title('Radoslaw day scale \\nPrecision-Recall for CP Factorization of rank K \\\n",
    "              \\nCollapsed Weighted Tensor -  Alpha = %.2f - Tau = %d days - Exponential Smoothing' %(alpha, tau))\n",
    "plt.savefig('Radoslaw day cp_roc_cwt_%.2f_%d Exponential Smoothing.pdf' %(alpha, tau))    "
   ]
  }
 ],
 "metadata": {
  "kernelspec": {
   "display_name": "Python 2",
   "language": "python",
   "name": "python2"
  },
  "language_info": {
   "codemirror_mode": {
    "name": "ipython",
    "version": 2
   },
   "file_extension": ".py",
   "mimetype": "text/x-python",
   "name": "python",
   "nbconvert_exporter": "python",
   "pygments_lexer": "ipython2",
   "version": "2.7.11"
  }
 },
 "nbformat": 4,
 "nbformat_minor": 0
}
