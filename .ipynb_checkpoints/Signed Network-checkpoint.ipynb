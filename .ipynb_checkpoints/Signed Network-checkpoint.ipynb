{
 "cells": [
  {
   "cell_type": "code",
   "execution_count": 1,
   "metadata": {
    "collapsed": true
   },
   "outputs": [],
   "source": [
    "import os\n",
    "import sys\n",
    "import time\n",
    "\n",
    "import pandas as pd\n",
    "import numpy as np\n",
    "import networkx as nx"
   ]
  },
  {
   "cell_type": "markdown",
   "metadata": {},
   "source": [
    "### Creating a list of all edges"
   ]
  },
  {
   "cell_type": "code",
   "execution_count": 2,
   "metadata": {
    "collapsed": false
   },
   "outputs": [],
   "source": [
    "with open('wikipedia_admin/rfa_all.NL-SEPARATED.txt', 'rb') as rf:\n",
    "    readfile = rf.read().split('\\n\\n')"
   ]
  },
  {
   "cell_type": "code",
   "execution_count": 3,
   "metadata": {
    "collapsed": false
   },
   "outputs": [
    {
     "data": {
      "text/plain": [
       "198276"
      ]
     },
     "execution_count": 3,
     "metadata": {},
     "output_type": "execute_result"
    }
   ],
   "source": [
    "nb_edges = len(readfile)\n",
    "print('%d edges in the file') %(nb_edges)"
   ]
  },
  {
   "cell_type": "markdown",
   "metadata": {},
   "source": [
    "### Creating an empty dataframe to host the edges attributes"
   ]
  },
  {
   "cell_type": "code",
   "execution_count": 4,
   "metadata": {
    "collapsed": false
   },
   "outputs": [],
   "source": [
    "columns = ['SRC', 'TGT', 'VOT', 'RES', 'YEA', 'DAT', 'TXT']\n",
    "df = pd.DataFrame(index   = range(nb_edges),\n",
    "                  columns = columns)"
   ]
  },
  {
   "cell_type": "code",
   "execution_count": 5,
   "metadata": {
    "collapsed": false
   },
   "outputs": [
    {
     "data": {
      "text/html": [
       "<div style=\"max-height:1000px;max-width:1500px;overflow:auto;\">\n",
       "<table border=\"1\" class=\"dataframe\">\n",
       "  <thead>\n",
       "    <tr style=\"text-align: right;\">\n",
       "      <th></th>\n",
       "      <th>SRC</th>\n",
       "      <th>TGT</th>\n",
       "      <th>VOT</th>\n",
       "      <th>RES</th>\n",
       "      <th>YEA</th>\n",
       "      <th>DAT</th>\n",
       "      <th>TXT</th>\n",
       "    </tr>\n",
       "  </thead>\n",
       "  <tbody>\n",
       "    <tr>\n",
       "      <th>0</th>\n",
       "      <td> NaN</td>\n",
       "      <td> NaN</td>\n",
       "      <td> NaN</td>\n",
       "      <td> NaN</td>\n",
       "      <td> NaN</td>\n",
       "      <td> NaN</td>\n",
       "      <td> NaN</td>\n",
       "    </tr>\n",
       "    <tr>\n",
       "      <th>1</th>\n",
       "      <td> NaN</td>\n",
       "      <td> NaN</td>\n",
       "      <td> NaN</td>\n",
       "      <td> NaN</td>\n",
       "      <td> NaN</td>\n",
       "      <td> NaN</td>\n",
       "      <td> NaN</td>\n",
       "    </tr>\n",
       "    <tr>\n",
       "      <th>2</th>\n",
       "      <td> NaN</td>\n",
       "      <td> NaN</td>\n",
       "      <td> NaN</td>\n",
       "      <td> NaN</td>\n",
       "      <td> NaN</td>\n",
       "      <td> NaN</td>\n",
       "      <td> NaN</td>\n",
       "    </tr>\n",
       "    <tr>\n",
       "      <th>3</th>\n",
       "      <td> NaN</td>\n",
       "      <td> NaN</td>\n",
       "      <td> NaN</td>\n",
       "      <td> NaN</td>\n",
       "      <td> NaN</td>\n",
       "      <td> NaN</td>\n",
       "      <td> NaN</td>\n",
       "    </tr>\n",
       "    <tr>\n",
       "      <th>4</th>\n",
       "      <td> NaN</td>\n",
       "      <td> NaN</td>\n",
       "      <td> NaN</td>\n",
       "      <td> NaN</td>\n",
       "      <td> NaN</td>\n",
       "      <td> NaN</td>\n",
       "      <td> NaN</td>\n",
       "    </tr>\n",
       "  </tbody>\n",
       "</table>\n",
       "</div>"
      ],
      "text/plain": [
       "   SRC  TGT  VOT  RES  YEA  DAT  TXT\n",
       "0  NaN  NaN  NaN  NaN  NaN  NaN  NaN\n",
       "1  NaN  NaN  NaN  NaN  NaN  NaN  NaN\n",
       "2  NaN  NaN  NaN  NaN  NaN  NaN  NaN\n",
       "3  NaN  NaN  NaN  NaN  NaN  NaN  NaN\n",
       "4  NaN  NaN  NaN  NaN  NaN  NaN  NaN"
      ]
     },
     "execution_count": 5,
     "metadata": {},
     "output_type": "execute_result"
    }
   ],
   "source": [
    "df.head()"
   ]
  },
  {
   "cell_type": "markdown",
   "metadata": {},
   "source": [
    "### Filling the dataframe with the actual edges attributes"
   ]
  },
  {
   "cell_type": "code",
   "execution_count": null,
   "metadata": {
    "collapsed": false
   },
   "outputs": [
    {
     "name": "stdout",
     "output_type": "stream",
     "text": [
      "1/198276 edges treated - 0.08 seconds elapsed\n",
      "1001/198276 edges treated - 26.62 seconds elapsed\n",
      "2001/198276 edges treated - 53.23 seconds elapsed\n",
      "3001/198276 edges treated - 80.10 seconds elapsed\n",
      "4001/198276 edges treated - 107.36 seconds elapsed\n",
      "5001/198276 edges treated - 134.75 seconds elapsed\n",
      "6001/198276 edges treated - 162.26 seconds elapsed\n",
      "7001/198276 edges treated - 190.00 seconds elapsed\n",
      "8001/198276 edges treated - 218.00 seconds elapsed\n",
      "9001/198276 edges treated - 246.21 seconds elapsed\n",
      "10001/198276 edges treated - 274.60 seconds elapsed\n",
      "11001/198276 edges treated - 303.13 seconds elapsed\n",
      "12001/198276 edges treated - 331.81 seconds elapsed\n",
      "13001/198276 edges treated - 360.71 seconds elapsed\n",
      "14001/198276 edges treated - 389.77 seconds elapsed\n",
      "15001/198276 edges treated - 418.61 seconds elapsed\n",
      "16001/198276 edges treated - 447.74 seconds elapsed\n",
      "17001/198276 edges treated - 477.01 seconds elapsed\n",
      "18001/198276 edges treated - 506.27 seconds elapsed\n",
      "19001/198276 edges treated - 535.95 seconds elapsed\n",
      "20001/198276 edges treated - 565.99 seconds elapsed\n",
      "21001/198276 edges treated - 596.35 seconds elapsed\n",
      "22001/198276 edges treated - 626.88 seconds elapsed\n",
      "23001/198276 edges treated - 657.67 seconds elapsed\n",
      "24001/198276 edges treated - 688.61 seconds elapsed\n",
      "25001/198276 edges treated - 719.79 seconds elapsed\n",
      "26001/198276 edges treated - 751.17 seconds elapsed\n",
      "27001/198276 edges treated - 782.82 seconds elapsed\n",
      "28001/198276 edges treated - 814.74 seconds elapsed\n",
      "29001/198276 edges treated - 846.78 seconds elapsed\n",
      "30001/198276 edges treated - 879.03 seconds elapsed\n",
      "31001/198276 edges treated - 911.61 seconds elapsed\n",
      "32001/198276 edges treated - 944.54 seconds elapsed\n",
      "33001/198276 edges treated - 977.38 seconds elapsed\n",
      "34001/198276 edges treated - 1010.26 seconds elapsed\n",
      "35001/198276 edges treated - 1043.37 seconds elapsed\n",
      "36001/198276 edges treated - 1076.68 seconds elapsed\n",
      "37001/198276 edges treated - 1110.25 seconds elapsed\n",
      "38001/198276 edges treated - 1144.03 seconds elapsed\n",
      "39001/198276 edges treated - 1178.09 seconds elapsed\n",
      "40001/198276 edges treated - 1212.62 seconds elapsed\n",
      "41001/198276 edges treated - 1247.20 seconds elapsed\n",
      "42001/198276 edges treated - 1282.15 seconds elapsed\n",
      "43001/198276 edges treated - 1317.18 seconds elapsed\n",
      "44001/198276 edges treated - 1352.53 seconds elapsed\n",
      "45001/198276 edges treated - 1388.08 seconds elapsed\n",
      "46001/198276 edges treated - 1423.76 seconds elapsed\n",
      "47001/198276 edges treated - 1459.67 seconds elapsed\n",
      "48001/198276 edges treated - 1495.84 seconds elapsed\n",
      "49001/198276 edges treated - 1532.20 seconds elapsed\n",
      "50001/198276 edges treated - 1568.90 seconds elapsed\n",
      "51001/198276 edges treated - 1605.82 seconds elapsed\n",
      "52001/198276 edges treated - 1643.02 seconds elapsed\n",
      "53001/198276 edges treated - 1680.50 seconds elapsed\n",
      "54001/198276 edges treated - 1718.29 seconds elapsed\n",
      "55001/198276 edges treated - 1756.34 seconds elapsed\n",
      "56001/198276 edges treated - 1794.50 seconds elapsed\n",
      "57001/198276 edges treated - 1832.91 seconds elapsed\n",
      "58001/198276 edges treated - 1871.46 seconds elapsed\n",
      "59001/198276 edges treated - 1910.10 seconds elapsed\n",
      "60001/198276 edges treated - 1948.75 seconds elapsed\n",
      "61001/198276 edges treated - 1987.55 seconds elapsed\n",
      "62001/198276 edges treated - 2026.62 seconds elapsed\n",
      "63001/198276 edges treated - 2065.79 seconds elapsed\n",
      "64001/198276 edges treated - 2105.18 seconds elapsed\n",
      "65001/198276 edges treated - 2144.73 seconds elapsed\n",
      "66001/198276 edges treated - 2184.64 seconds elapsed\n",
      "67001/198276 edges treated - 2224.67 seconds elapsed\n",
      "68001/198276 edges treated - 2264.91 seconds elapsed\n",
      "69001/198276 edges treated - 2305.34 seconds elapsed\n",
      "70001/198276 edges treated - 2346.01 seconds elapsed\n",
      "71001/198276 edges treated - 2387.04 seconds elapsed\n",
      "72001/198276 edges treated - 2428.15 seconds elapsed\n",
      "73001/198276 edges treated - 2469.50 seconds elapsed\n",
      "74001/198276 edges treated - 2511.03 seconds elapsed\n",
      "75001/198276 edges treated - 2552.81 seconds elapsed\n",
      "76001/198276 edges treated - 2594.83 seconds elapsed\n",
      "77001/198276 edges treated - 2637.10 seconds elapsed\n",
      "78001/198276 edges treated - 2679.66 seconds elapsed\n",
      "79001/198276 edges treated - 2722.31 seconds elapsed\n",
      "80001/198276 edges treated - 2765.20 seconds elapsed\n",
      "81001/198276 edges treated - 3546.77 seconds elapsed\n",
      "82001/198276 edges treated - 3591.36 seconds elapsed\n",
      "83001/198276 edges treated - 3636.15 seconds elapsed\n",
      "84001/198276 edges treated - 3681.39 seconds elapsed\n",
      "85001/198276 edges treated - 3727.12 seconds elapsed\n",
      "86001/198276 edges treated - 3771.95 seconds elapsed\n",
      "87001/198276 edges treated - 3816.20 seconds elapsed\n",
      "88001/198276 edges treated - 3860.73 seconds elapsed\n",
      "89001/198276 edges treated - 3905.58 seconds elapsed\n",
      "90001/198276 edges treated - 3950.54 seconds elapsed\n",
      "91001/198276 edges treated - 3996.45 seconds elapsed\n",
      "92001/198276 edges treated - 4042.42 seconds elapsed\n",
      "93001/198276 edges treated - 4088.70 seconds elapsed\n",
      "94001/198276 edges treated - 4135.08 seconds elapsed\n",
      "95001/198276 edges treated - 4181.60 seconds elapsed\n",
      "96001/198276 edges treated - 4228.80 seconds elapsed\n",
      "97001/198276 edges treated - 4275.99 seconds elapsed\n",
      "98001/198276 edges treated - 4323.45 seconds elapsed\n",
      "99001/198276 edges treated - 4370.55 seconds elapsed\n",
      "100001/198276 edges treated - 4418.47 seconds elapsed\n",
      "101001/198276 edges treated - 4465.83 seconds elapsed\n",
      "102001/198276 edges treated - 4513.36 seconds elapsed\n",
      "103001/198276 edges treated - 4561.28 seconds elapsed\n",
      "104001/198276 edges treated - 4631.62 seconds elapsed\n",
      "105001/198276 edges treated - 4706.06 seconds elapsed\n",
      "106001/198276 edges treated - 4779.95 seconds elapsed\n",
      "107001/198276 edges treated - 4843.40 seconds elapsed\n",
      "108001/198276 edges treated - 4891.99 seconds elapsed\n",
      "109001/198276 edges treated - 4941.02 seconds elapsed\n",
      "110001/198276 edges treated - 4990.43 seconds elapsed\n",
      "111001/198276 edges treated - 5040.58 seconds elapsed\n",
      "112001/198276 edges treated - 5091.07 seconds elapsed\n",
      "113001/198276 edges treated - 5142.21 seconds elapsed\n",
      "114001/198276 edges treated - 5192.89 seconds elapsed\n",
      "115001/198276 edges treated - 5244.89 seconds elapsed\n",
      "116001/198276 edges treated - 5299.73 seconds elapsed\n",
      "117001/198276 edges treated - 5354.87 seconds elapsed\n",
      "118001/198276 edges treated - 5410.08 seconds elapsed\n",
      "119001/198276 edges treated - 5463.58 seconds elapsed\n",
      "120001/198276 edges treated - 5515.56 seconds elapsed\n",
      "121001/198276 edges treated - 5566.95 seconds elapsed\n",
      "122001/198276 edges treated - 5618.68 seconds elapsed\n",
      "123001/198276 edges treated - 5672.02 seconds elapsed\n",
      "124001/198276 edges treated - 5725.59 seconds elapsed\n",
      "125001/198276 edges treated - 5778.40 seconds elapsed\n",
      "126001/198276 edges treated - 5831.09 seconds elapsed\n",
      "127001/198276 edges treated - 5883.72 seconds elapsed\n",
      "128001/198276 edges treated - 5936.44 seconds elapsed\n",
      "129001/198276 edges treated - 5989.39 seconds elapsed\n",
      "130001/198276 edges treated - 6042.47 seconds elapsed\n",
      "131001/198276 edges treated - 6095.83 seconds elapsed\n",
      "132001/198276 edges treated - 6149.32 seconds elapsed\n",
      "133001/198276 edges treated - 6202.96 seconds elapsed\n",
      "134001/198276 edges treated - 6256.82 seconds elapsed\n",
      "135001/198276 edges treated - 6310.84 seconds elapsed\n",
      "136001/198276 edges treated - 6365.00 seconds elapsed\n",
      "137001/198276 edges treated - 6419.39 seconds elapsed\n",
      "138001/198276 edges treated - 6473.89 seconds elapsed\n",
      "139001/198276 edges treated - 6528.56 seconds elapsed\n",
      "140001/198276 edges treated - 6583.46 seconds elapsed\n",
      "141001/198276 edges treated - 6638.50 seconds elapsed\n",
      "142001/198276 edges treated - 6693.79 seconds elapsed\n",
      "143001/198276 edges treated - 6749.27 seconds elapsed\n",
      "144001/198276 edges treated - 6804.93 seconds elapsed\n",
      "145001/198276 edges treated - 6860.75 seconds elapsed\n",
      "146001/198276 edges treated - 6916.72 seconds elapsed\n",
      "147001/198276 edges treated - 6972.89 seconds elapsed\n",
      "148001/198276 edges treated - 7029.30 seconds elapsed\n",
      "149001/198276 edges treated - 7085.86 seconds elapsed\n",
      "150001/198276 edges treated - 7142.63 seconds elapsed\n",
      "151001/198276 edges treated - 7199.54 seconds elapsed\n",
      "152001/198276 edges treated - 7256.70 seconds elapsed\n",
      "153001/198276 edges treated - 7313.97 seconds elapsed\n",
      "154001/198276 edges treated - 7371.44 seconds elapsed\n",
      "155001/198276 edges treated - 7429.19 seconds elapsed\n",
      "156001/198276 edges treated - 7487.02 seconds elapsed\n",
      "157001/198276 edges treated - 7546.09 seconds elapsed\n",
      "158001/198276 edges treated - 7604.61 seconds elapsed\n",
      "159001/198276 edges treated - 7663.23 seconds elapsed\n",
      "160001/198276 edges treated - 7722.11 seconds elapsed\n",
      "161001/198276 edges treated - 7781.20 seconds elapsed\n",
      "162001/198276 edges treated - 7840.62 seconds elapsed\n",
      "163001/198276 edges treated - 7900.13 seconds elapsed\n",
      "164001/198276 edges treated - 7959.87 seconds elapsed\n",
      "165001/198276 edges treated - 8020.76 seconds elapsed\n",
      "166001/198276 edges treated - 8081.26 seconds elapsed\n",
      "167001/198276 edges treated - 8142.74 seconds elapsed\n",
      "168001/198276 edges treated - 8204.20 seconds elapsed\n",
      "169001/198276 edges treated - 8266.64 seconds elapsed\n",
      "170001/198276 edges treated - 8328.79 seconds elapsed\n",
      "171001/198276 edges treated - 8390.59 seconds elapsed\n",
      "172001/198276 edges treated - 8452.59 seconds elapsed\n",
      "173001/198276 edges treated - 8515.15 seconds elapsed\n",
      "174001/198276 edges treated - 8577.94 seconds elapsed\n",
      "175001/198276 edges treated - 8640.77 seconds elapsed\n",
      "176001/198276 edges treated - 8704.06 seconds elapsed\n",
      "177001/198276 edges treated - 8766.99 seconds elapsed\n",
      "178001/198276 edges treated - 8830.22 seconds elapsed\n",
      "179001/198276 edges treated - 8893.66 seconds elapsed\n",
      "180001/198276 edges treated - 8957.02 seconds elapsed\n",
      "181001/198276 edges treated - 9020.50 seconds elapsed\n",
      "182001/198276 edges treated - 9084.10 seconds elapsed\n",
      "183001/198276 edges treated - 9147.92 seconds elapsed\n",
      "184001/198276 edges treated - 9211.86 seconds elapsed\n",
      "185001/198276 edges treated - 9276.13 seconds elapsed\n",
      "186001/198276 edges treated - 9341.15 seconds elapsed\n",
      "187001/198276 edges treated - 9406.70 seconds elapsed\n",
      "188001/198276 edges treated - 9471.80 seconds elapsed\n",
      "189001/198276 edges treated - 9539.45 seconds elapsed\n",
      "190001/198276 edges treated - 9605.87 seconds elapsed\n",
      "191001/198276 edges treated - 9671.72 seconds elapsed\n",
      "192001/198276 edges treated - 9737.17 seconds elapsed\n",
      "193001/198276 edges treated - 9803.28 seconds elapsed\n",
      "194001/198276 edges treated - 9869.56 seconds elapsed"
     ]
    }
   ],
   "source": [
    "temp = time.time()\n",
    "\n",
    "for i in range(len(readfile)):\n",
    "    if i % 1000 == 1:\n",
    "        print('%d/%d edges treated - %.0f seconds elapsed') %(i, len(readfile), time.time() - temp)\n",
    "    line = readfile[i]\n",
    "    df.iloc[i, :] = [content[4:] for content in line.split('\\r\\n')]    "
   ]
  },
  {
   "cell_type": "code",
   "execution_count": null,
   "metadata": {
    "collapsed": false
   },
   "outputs": [],
   "source": [
    "df.to_csv('rfa_edges.csv', sep=';,;')"
   ]
  },
  {
   "cell_type": "code",
   "execution_count": null,
   "metadata": {
    "collapsed": true
   },
   "outputs": [],
   "source": []
  }
 ],
 "metadata": {
  "kernelspec": {
   "display_name": "Python 2",
   "language": "python",
   "name": "python2"
  },
  "language_info": {
   "codemirror_mode": {
    "name": "ipython",
    "version": 2
   },
   "file_extension": ".py",
   "mimetype": "text/x-python",
   "name": "python",
   "nbconvert_exporter": "python",
   "pygments_lexer": "ipython2",
   "version": "2.7.11"
  }
 },
 "nbformat": 4,
 "nbformat_minor": 0
}
