{
 "cells": [
  {
   "cell_type": "markdown",
   "metadata": {},
   "source": [
    "### Imports"
   ]
  },
  {
   "cell_type": "code",
   "execution_count": 46,
   "metadata": {
    "collapsed": false
   },
   "outputs": [],
   "source": [
    "%matplotlib inline\n",
    "\n",
    "import os\n",
    "import sys\n",
    "import time\n",
    "import pickle\n",
    "import matplotlib\n",
    "\n",
    "import pandas as pd\n",
    "import numpy as np\n",
    "import networkx as nx\n",
    "import matplotlib.pyplot as plt\n",
    "\n",
    "from collections import Counter\n",
    "\n",
    "matplotlib.style.use('ggplot')"
   ]
  },
  {
   "cell_type": "markdown",
   "metadata": {},
   "source": [
    "### Creating a list of all edges"
   ]
  },
  {
   "cell_type": "code",
   "execution_count": 2,
   "metadata": {
    "collapsed": false
   },
   "outputs": [],
   "source": [
    "with open('wikipedia_admin/rfa_all.NL-SEPARATED.txt', 'rb') as rf:\n",
    "    readfile = rf.read().split('\\n\\n')"
   ]
  },
  {
   "cell_type": "code",
   "execution_count": 85,
   "metadata": {
    "collapsed": false
   },
   "outputs": [
    {
     "name": "stdout",
     "output_type": "stream",
     "text": [
      "198276 edges in the file\n"
     ]
    }
   ],
   "source": [
    "nb_edges = len(readfile)\n",
    "print('%d edges in the file') %(nb_edges)\n",
    "\n",
    "nb_edges = int(1.0*nb_edges)"
   ]
  },
  {
   "cell_type": "markdown",
   "metadata": {},
   "source": [
    "### Creating an empty dataframe to host the edges attributes"
   ]
  },
  {
   "cell_type": "code",
   "execution_count": 86,
   "metadata": {
    "collapsed": false
   },
   "outputs": [],
   "source": [
    "columns = ['SRC', 'TGT', 'VOT', 'RES', 'YEA', 'DAT', 'TXT']\n",
    "df = pd.DataFrame(index   = range(nb_edges),\n",
    "                  columns = columns)"
   ]
  },
  {
   "cell_type": "code",
   "execution_count": 87,
   "metadata": {
    "collapsed": false
   },
   "outputs": [
    {
     "data": {
      "text/html": [
       "<div style=\"max-height:1000px;max-width:1500px;overflow:auto;\">\n",
       "<table border=\"1\" class=\"dataframe\">\n",
       "  <thead>\n",
       "    <tr style=\"text-align: right;\">\n",
       "      <th></th>\n",
       "      <th>SRC</th>\n",
       "      <th>TGT</th>\n",
       "      <th>VOT</th>\n",
       "      <th>RES</th>\n",
       "      <th>YEA</th>\n",
       "      <th>DAT</th>\n",
       "      <th>TXT</th>\n",
       "    </tr>\n",
       "  </thead>\n",
       "  <tbody>\n",
       "    <tr>\n",
       "      <th>0</th>\n",
       "      <td> NaN</td>\n",
       "      <td> NaN</td>\n",
       "      <td> NaN</td>\n",
       "      <td> NaN</td>\n",
       "      <td> NaN</td>\n",
       "      <td> NaN</td>\n",
       "      <td> NaN</td>\n",
       "    </tr>\n",
       "    <tr>\n",
       "      <th>1</th>\n",
       "      <td> NaN</td>\n",
       "      <td> NaN</td>\n",
       "      <td> NaN</td>\n",
       "      <td> NaN</td>\n",
       "      <td> NaN</td>\n",
       "      <td> NaN</td>\n",
       "      <td> NaN</td>\n",
       "    </tr>\n",
       "    <tr>\n",
       "      <th>2</th>\n",
       "      <td> NaN</td>\n",
       "      <td> NaN</td>\n",
       "      <td> NaN</td>\n",
       "      <td> NaN</td>\n",
       "      <td> NaN</td>\n",
       "      <td> NaN</td>\n",
       "      <td> NaN</td>\n",
       "    </tr>\n",
       "    <tr>\n",
       "      <th>3</th>\n",
       "      <td> NaN</td>\n",
       "      <td> NaN</td>\n",
       "      <td> NaN</td>\n",
       "      <td> NaN</td>\n",
       "      <td> NaN</td>\n",
       "      <td> NaN</td>\n",
       "      <td> NaN</td>\n",
       "    </tr>\n",
       "    <tr>\n",
       "      <th>4</th>\n",
       "      <td> NaN</td>\n",
       "      <td> NaN</td>\n",
       "      <td> NaN</td>\n",
       "      <td> NaN</td>\n",
       "      <td> NaN</td>\n",
       "      <td> NaN</td>\n",
       "      <td> NaN</td>\n",
       "    </tr>\n",
       "  </tbody>\n",
       "</table>\n",
       "</div>"
      ],
      "text/plain": [
       "   SRC  TGT  VOT  RES  YEA  DAT  TXT\n",
       "0  NaN  NaN  NaN  NaN  NaN  NaN  NaN\n",
       "1  NaN  NaN  NaN  NaN  NaN  NaN  NaN\n",
       "2  NaN  NaN  NaN  NaN  NaN  NaN  NaN\n",
       "3  NaN  NaN  NaN  NaN  NaN  NaN  NaN\n",
       "4  NaN  NaN  NaN  NaN  NaN  NaN  NaN"
      ]
     },
     "execution_count": 87,
     "metadata": {},
     "output_type": "execute_result"
    }
   ],
   "source": [
    "df.head()"
   ]
  },
  {
   "cell_type": "markdown",
   "metadata": {},
   "source": [
    "### Filling the dataframe with the actual edges attributes"
   ]
  },
  {
   "cell_type": "code",
   "execution_count": 89,
   "metadata": {
    "collapsed": false
   },
   "outputs": [
    {
     "name": "stdout",
     "output_type": "stream",
     "text": [
      "1/198276 edges treated - 0 seconds elapsed\n",
      "1001/198276 edges treated - 0 seconds elapsed\n",
      "2001/198276 edges treated - 0 seconds elapsed\n",
      "3001/198276 edges treated - 0 seconds elapsed\n",
      "4001/198276 edges treated - 0 seconds elapsed\n",
      "5001/198276 edges treated - 0 seconds elapsed\n",
      "6001/198276 edges treated - 1 seconds elapsed\n",
      "7001/198276 edges treated - 1 seconds elapsed\n",
      "8001/198276 edges treated - 1 seconds elapsed\n",
      "9001/198276 edges treated - 1 seconds elapsed\n",
      "10001/198276 edges treated - 1 seconds elapsed\n",
      "11001/198276 edges treated - 1 seconds elapsed\n",
      "12001/198276 edges treated - 1 seconds elapsed\n",
      "13001/198276 edges treated - 1 seconds elapsed\n",
      "14001/198276 edges treated - 1 seconds elapsed\n",
      "15001/198276 edges treated - 1 seconds elapsed\n",
      "16001/198276 edges treated - 2 seconds elapsed\n",
      "17001/198276 edges treated - 2 seconds elapsed\n",
      "18001/198276 edges treated - 2 seconds elapsed\n",
      "19001/198276 edges treated - 2 seconds elapsed\n",
      "20001/198276 edges treated - 2 seconds elapsed\n",
      "21001/198276 edges treated - 2 seconds elapsed\n",
      "22001/198276 edges treated - 2 seconds elapsed\n",
      "23001/198276 edges treated - 2 seconds elapsed\n",
      "24001/198276 edges treated - 2 seconds elapsed\n",
      "25001/198276 edges treated - 2 seconds elapsed\n",
      "26001/198276 edges treated - 3 seconds elapsed\n",
      "27001/198276 edges treated - 3 seconds elapsed\n",
      "28001/198276 edges treated - 3 seconds elapsed\n",
      "29001/198276 edges treated - 3 seconds elapsed\n",
      "30001/198276 edges treated - 3 seconds elapsed\n",
      "31001/198276 edges treated - 3 seconds elapsed\n",
      "32001/198276 edges treated - 3 seconds elapsed\n",
      "33001/198276 edges treated - 3 seconds elapsed\n",
      "34001/198276 edges treated - 3 seconds elapsed\n",
      "35001/198276 edges treated - 3 seconds elapsed\n",
      "36001/198276 edges treated - 4 seconds elapsed\n",
      "37001/198276 edges treated - 4 seconds elapsed\n",
      "38001/198276 edges treated - 4 seconds elapsed\n",
      "39001/198276 edges treated - 4 seconds elapsed\n",
      "40001/198276 edges treated - 4 seconds elapsed\n",
      "41001/198276 edges treated - 4 seconds elapsed\n",
      "42001/198276 edges treated - 4 seconds elapsed\n",
      "43001/198276 edges treated - 4 seconds elapsed\n",
      "44001/198276 edges treated - 4 seconds elapsed\n",
      "45001/198276 edges treated - 4 seconds elapsed\n",
      "46001/198276 edges treated - 5 seconds elapsed\n",
      "47001/198276 edges treated - 5 seconds elapsed\n",
      "48001/198276 edges treated - 5 seconds elapsed\n",
      "49001/198276 edges treated - 5 seconds elapsed\n",
      "50001/198276 edges treated - 5 seconds elapsed\n",
      "51001/198276 edges treated - 5 seconds elapsed\n",
      "52001/198276 edges treated - 5 seconds elapsed\n",
      "53001/198276 edges treated - 5 seconds elapsed\n",
      "54001/198276 edges treated - 5 seconds elapsed\n",
      "55001/198276 edges treated - 5 seconds elapsed\n",
      "56001/198276 edges treated - 6 seconds elapsed\n",
      "57001/198276 edges treated - 6 seconds elapsed\n",
      "58001/198276 edges treated - 6 seconds elapsed\n",
      "59001/198276 edges treated - 6 seconds elapsed\n",
      "60001/198276 edges treated - 6 seconds elapsed\n",
      "61001/198276 edges treated - 6 seconds elapsed\n",
      "62001/198276 edges treated - 6 seconds elapsed\n",
      "63001/198276 edges treated - 6 seconds elapsed\n",
      "64001/198276 edges treated - 6 seconds elapsed\n",
      "65001/198276 edges treated - 6 seconds elapsed\n",
      "66001/198276 edges treated - 6 seconds elapsed\n",
      "67001/198276 edges treated - 7 seconds elapsed\n",
      "68001/198276 edges treated - 7 seconds elapsed\n",
      "69001/198276 edges treated - 7 seconds elapsed\n",
      "70001/198276 edges treated - 7 seconds elapsed\n",
      "71001/198276 edges treated - 7 seconds elapsed\n",
      "72001/198276 edges treated - 7 seconds elapsed\n",
      "73001/198276 edges treated - 7 seconds elapsed\n",
      "74001/198276 edges treated - 7 seconds elapsed\n",
      "75001/198276 edges treated - 7 seconds elapsed\n",
      "76001/198276 edges treated - 7 seconds elapsed\n",
      "77001/198276 edges treated - 8 seconds elapsed\n",
      "78001/198276 edges treated - 8 seconds elapsed\n",
      "79001/198276 edges treated - 8 seconds elapsed\n",
      "80001/198276 edges treated - 8 seconds elapsed\n",
      "81001/198276 edges treated - 8 seconds elapsed\n",
      "82001/198276 edges treated - 8 seconds elapsed\n",
      "83001/198276 edges treated - 8 seconds elapsed\n",
      "84001/198276 edges treated - 8 seconds elapsed\n",
      "85001/198276 edges treated - 8 seconds elapsed\n",
      "86001/198276 edges treated - 8 seconds elapsed\n",
      "87001/198276 edges treated - 8 seconds elapsed\n",
      "88001/198276 edges treated - 9 seconds elapsed\n",
      "89001/198276 edges treated - 9 seconds elapsed\n",
      "90001/198276 edges treated - 9 seconds elapsed\n",
      "91001/198276 edges treated - 9 seconds elapsed\n",
      "92001/198276 edges treated - 9 seconds elapsed\n",
      "93001/198276 edges treated - 9 seconds elapsed\n",
      "94001/198276 edges treated - 9 seconds elapsed\n",
      "95001/198276 edges treated - 9 seconds elapsed\n",
      "96001/198276 edges treated - 9 seconds elapsed\n",
      "97001/198276 edges treated - 9 seconds elapsed\n",
      "98001/198276 edges treated - 9 seconds elapsed\n",
      "99001/198276 edges treated - 10 seconds elapsed\n",
      "100001/198276 edges treated - 10 seconds elapsed\n",
      "101001/198276 edges treated - 10 seconds elapsed\n",
      "102001/198276 edges treated - 10 seconds elapsed\n",
      "103001/198276 edges treated - 10 seconds elapsed\n",
      "104001/198276 edges treated - 10 seconds elapsed\n",
      "105001/198276 edges treated - 10 seconds elapsed\n",
      "106001/198276 edges treated - 10 seconds elapsed\n",
      "107001/198276 edges treated - 10 seconds elapsed\n",
      "108001/198276 edges treated - 10 seconds elapsed\n",
      "109001/198276 edges treated - 11 seconds elapsed\n",
      "110001/198276 edges treated - 11 seconds elapsed\n",
      "111001/198276 edges treated - 11 seconds elapsed\n",
      "112001/198276 edges treated - 11 seconds elapsed\n",
      "113001/198276 edges treated - 11 seconds elapsed\n",
      "114001/198276 edges treated - 11 seconds elapsed\n",
      "115001/198276 edges treated - 11 seconds elapsed\n",
      "116001/198276 edges treated - 11 seconds elapsed\n",
      "117001/198276 edges treated - 11 seconds elapsed\n",
      "118001/198276 edges treated - 11 seconds elapsed\n",
      "119001/198276 edges treated - 11 seconds elapsed\n",
      "120001/198276 edges treated - 12 seconds elapsed\n",
      "121001/198276 edges treated - 12 seconds elapsed\n",
      "122001/198276 edges treated - 12 seconds elapsed\n",
      "123001/198276 edges treated - 12 seconds elapsed\n",
      "124001/198276 edges treated - 12 seconds elapsed\n",
      "125001/198276 edges treated - 12 seconds elapsed\n",
      "126001/198276 edges treated - 12 seconds elapsed\n",
      "127001/198276 edges treated - 12 seconds elapsed\n",
      "128001/198276 edges treated - 12 seconds elapsed\n",
      "129001/198276 edges treated - 12 seconds elapsed\n",
      "130001/198276 edges treated - 13 seconds elapsed\n",
      "131001/198276 edges treated - 13 seconds elapsed\n",
      "132001/198276 edges treated - 13 seconds elapsed\n",
      "133001/198276 edges treated - 13 seconds elapsed\n",
      "134001/198276 edges treated - 13 seconds elapsed\n",
      "135001/198276 edges treated - 13 seconds elapsed\n",
      "136001/198276 edges treated - 13 seconds elapsed\n",
      "137001/198276 edges treated - 13 seconds elapsed\n",
      "138001/198276 edges treated - 13 seconds elapsed\n",
      "139001/198276 edges treated - 13 seconds elapsed\n",
      "140001/198276 edges treated - 13 seconds elapsed\n",
      "141001/198276 edges treated - 14 seconds elapsed\n",
      "142001/198276 edges treated - 14 seconds elapsed\n",
      "143001/198276 edges treated - 14 seconds elapsed\n",
      "144001/198276 edges treated - 14 seconds elapsed\n",
      "145001/198276 edges treated - 14 seconds elapsed\n",
      "146001/198276 edges treated - 14 seconds elapsed\n",
      "147001/198276 edges treated - 14 seconds elapsed\n",
      "148001/198276 edges treated - 14 seconds elapsed\n",
      "149001/198276 edges treated - 14 seconds elapsed\n",
      "150001/198276 edges treated - 14 seconds elapsed\n",
      "151001/198276 edges treated - 15 seconds elapsed\n",
      "152001/198276 edges treated - 15 seconds elapsed\n",
      "153001/198276 edges treated - 15 seconds elapsed\n",
      "154001/198276 edges treated - 15 seconds elapsed\n",
      "155001/198276 edges treated - 15 seconds elapsed\n",
      "156001/198276 edges treated - 15 seconds elapsed\n",
      "157001/198276 edges treated - 15 seconds elapsed\n",
      "158001/198276 edges treated - 15 seconds elapsed\n",
      "159001/198276 edges treated - 15 seconds elapsed\n",
      "160001/198276 edges treated - 15 seconds elapsed\n",
      "161001/198276 edges treated - 16 seconds elapsed\n",
      "162001/198276 edges treated - 16 seconds elapsed\n",
      "163001/198276 edges treated - 16 seconds elapsed\n",
      "164001/198276 edges treated - 16 seconds elapsed\n",
      "165001/198276 edges treated - 16 seconds elapsed\n",
      "166001/198276 edges treated - 16 seconds elapsed\n",
      "167001/198276 edges treated - 16 seconds elapsed\n",
      "168001/198276 edges treated - 16 seconds elapsed\n",
      "169001/198276 edges treated - 16 seconds elapsed\n",
      "170001/198276 edges treated - 17 seconds elapsed\n",
      "171001/198276 edges treated - 17 seconds elapsed\n",
      "172001/198276 edges treated - 17 seconds elapsed\n",
      "173001/198276 edges treated - 17 seconds elapsed\n",
      "174001/198276 edges treated - 17 seconds elapsed\n",
      "175001/198276 edges treated - 17 seconds elapsed\n",
      "176001/198276 edges treated - 17 seconds elapsed\n",
      "177001/198276 edges treated - 17 seconds elapsed\n",
      "178001/198276 edges treated - 17 seconds elapsed\n",
      "179001/198276 edges treated - 17 seconds elapsed\n",
      "180001/198276 edges treated - 17 seconds elapsed\n",
      "181001/198276 edges treated - 18 seconds elapsed\n",
      "182001/198276 edges treated - 18 seconds elapsed\n",
      "183001/198276 edges treated - 18 seconds elapsed\n",
      "184001/198276 edges treated - 18 seconds elapsed\n",
      "185001/198276 edges treated - 18 seconds elapsed\n",
      "186001/198276 edges treated - 18 seconds elapsed\n",
      "187001/198276 edges treated - 18 seconds elapsed\n",
      "188001/198276 edges treated - 18 seconds elapsed\n",
      "189001/198276 edges treated - 18 seconds elapsed\n",
      "190001/198276 edges treated - 18 seconds elapsed\n",
      "191001/198276 edges treated - 19 seconds elapsed\n",
      "192001/198276 edges treated - 19 seconds elapsed\n",
      "193001/198276 edges treated - 19 seconds elapsed\n",
      "194001/198276 edges treated - 19 seconds elapsed\n",
      "195001/198276 edges treated - 19 seconds elapsed\n",
      "196001/198276 edges treated - 19 seconds elapsed\n",
      "197001/198276 edges treated - 19 seconds elapsed\n",
      "198001/198276 edges treated - 19 seconds elapsed\n"
     ]
    }
   ],
   "source": [
    "temp = time.time()\n",
    "\n",
    "for i in range(nb_edges):\n",
    "    if i % 1000 == 1:\n",
    "        print('%d/%d edges treated - %.0f seconds elapsed') %(i, nb_edges, time.time() - temp)\n",
    "   \n",
    "    line = readfile[i]\n",
    "    contents = line.split('\\n')\n",
    "\n",
    "    if len(contents) == len(columns):\n",
    "        for k in range(len(columns)):\n",
    "            df.iat[i, k] = contents[k][4:]\n",
    "    else:\n",
    "        df = df.ix[df.index != i]        "
   ]
  },
  {
   "cell_type": "code",
   "execution_count": 90,
   "metadata": {
    "collapsed": false
   },
   "outputs": [
    {
     "data": {
      "text/html": [
       "<div style=\"max-height:1000px;max-width:1500px;overflow:auto;\">\n",
       "<table border=\"1\" class=\"dataframe\">\n",
       "  <thead>\n",
       "    <tr style=\"text-align: right;\">\n",
       "      <th></th>\n",
       "      <th>SRC</th>\n",
       "      <th>TGT</th>\n",
       "      <th>VOT</th>\n",
       "      <th>RES</th>\n",
       "      <th>YEA</th>\n",
       "      <th>DAT</th>\n",
       "      <th>TXT</th>\n",
       "    </tr>\n",
       "  </thead>\n",
       "  <tbody>\n",
       "    <tr>\n",
       "      <th>0</th>\n",
       "      <td>  Steel1943</td>\n",
       "      <td> BDD</td>\n",
       "      <td> 1</td>\n",
       "      <td> 1</td>\n",
       "      <td> 2013</td>\n",
       "      <td> 23:13, 19 April 2013</td>\n",
       "      <td>                         '''Support''' as co-nom. </td>\n",
       "    </tr>\n",
       "    <tr>\n",
       "      <th>1</th>\n",
       "      <td> Cuchullain</td>\n",
       "      <td> BDD</td>\n",
       "      <td> 1</td>\n",
       "      <td> 1</td>\n",
       "      <td> 2013</td>\n",
       "      <td> 01:04, 20 April 2013</td>\n",
       "      <td>                     '''Support''' as nominator.--</td>\n",
       "    </tr>\n",
       "    <tr>\n",
       "      <th>2</th>\n",
       "      <td>  INeverCry</td>\n",
       "      <td> BDD</td>\n",
       "      <td> 1</td>\n",
       "      <td> 1</td>\n",
       "      <td> 2013</td>\n",
       "      <td> 23:43, 19 April 2013</td>\n",
       "      <td>                          '''Support''' per noms. </td>\n",
       "    </tr>\n",
       "    <tr>\n",
       "      <th>3</th>\n",
       "      <td>  Cncmaster</td>\n",
       "      <td> BDD</td>\n",
       "      <td> 1</td>\n",
       "      <td> 1</td>\n",
       "      <td> 2013</td>\n",
       "      <td> 00:11, 20 April 2013</td>\n",
       "      <td> '''Support''' per noms. BDD is a strong contri...</td>\n",
       "    </tr>\n",
       "    <tr>\n",
       "      <th>4</th>\n",
       "      <td> Miniapolis</td>\n",
       "      <td> BDD</td>\n",
       "      <td> 1</td>\n",
       "      <td> 1</td>\n",
       "      <td> 2013</td>\n",
       "      <td> 00:56, 20 April 2013</td>\n",
       "      <td> '''Support''', with great pleasure. I work wit...</td>\n",
       "    </tr>\n",
       "  </tbody>\n",
       "</table>\n",
       "</div>"
      ],
      "text/plain": [
       "          SRC  TGT VOT RES   YEA                   DAT  \\\n",
       "0   Steel1943  BDD   1   1  2013  23:13, 19 April 2013   \n",
       "1  Cuchullain  BDD   1   1  2013  01:04, 20 April 2013   \n",
       "2   INeverCry  BDD   1   1  2013  23:43, 19 April 2013   \n",
       "3   Cncmaster  BDD   1   1  2013  00:11, 20 April 2013   \n",
       "4  Miniapolis  BDD   1   1  2013  00:56, 20 April 2013   \n",
       "\n",
       "                                                 TXT  \n",
       "0                          '''Support''' as co-nom.   \n",
       "1                      '''Support''' as nominator.--  \n",
       "2                           '''Support''' per noms.   \n",
       "3  '''Support''' per noms. BDD is a strong contri...  \n",
       "4  '''Support''', with great pleasure. I work wit...  "
      ]
     },
     "execution_count": 90,
     "metadata": {},
     "output_type": "execute_result"
    }
   ],
   "source": [
    "df.head()"
   ]
  },
  {
   "cell_type": "markdown",
   "metadata": {},
   "source": [
    "### Dumping the result in a file"
   ]
  },
  {
   "cell_type": "code",
   "execution_count": 96,
   "metadata": {
    "collapsed": true
   },
   "outputs": [],
   "source": [
    "pickle.dump(df, open(\"wikipedia_admin/edges_df.p\", \"wb\"))\n",
    "# dfleretour = pickle.load(open(\"wikipedia_admin/edges_df.p\", \"rb\"))"
   ]
  },
  {
   "cell_type": "markdown",
   "metadata": {},
   "source": [
    "### Creating the graph"
   ]
  },
  {
   "cell_type": "code",
   "execution_count": 93,
   "metadata": {
    "collapsed": true
   },
   "outputs": [],
   "source": [
    "G = nx.from_pandas_dataframe(df, 'SRC', 'TGT', ['VOT', 'RES', 'YEA', 'DAT', 'TXT'])"
   ]
  },
  {
   "cell_type": "markdown",
   "metadata": {},
   "source": [
    "### Degree Analysis"
   ]
  },
  {
   "cell_type": "code",
   "execution_count": 94,
   "metadata": {
    "collapsed": false
   },
   "outputs": [],
   "source": [
    "degree_sequence = Counter(nx.degree(G).values()) # degree sequence\n",
    "degree_df = pd.DataFrame.from_dict(degree_sequence, orient='index')"
   ]
  },
  {
   "cell_type": "code",
   "execution_count": 95,
   "metadata": {
    "collapsed": false
   },
   "outputs": [
    {
     "data": {
      "text/plain": [
       "[<matplotlib.lines.Line2D at 0x323481d0>]"
      ]
     },
     "execution_count": 95,
     "metadata": {},
     "output_type": "execute_result"
    },
    {
     "data": {
      "image/png": "[encoded data removed]",
      "text/plain": [
       "<matplotlib.figure.Figure at 0x29c73710>"
      ]
     },
     "metadata": {},
     "output_type": "display_data"
    }
   ],
   "source": [
    "plt.figure(figsize=(14, 10))\n",
    "plt.title('Log-Log Degree Distribution in the Wikipedia Graph' )\n",
    "plt.ylabel('Frequency')\n",
    "plt.xlabel('degree')\n",
    "# plt.xlim([k_list[t_0], k_list[t_1]+10])\n",
    "plt.grid('on')\n",
    "plt.loglog(degree_df, 'bo')\n",
    "# plt.xticks(np.arange(k_list[t_0], k_list[t_1]+10, 5), rotation=90)\n",
    "# plt.ticklabel_format(useOffset=False)\n",
    "\n",
    "# plt.axvline(k_list[t_1-tau])\n",
    "# plt.axvline(k_list[t_1-1])"
   ]
  }
 ],
 "metadata": {
  "kernelspec": {
   "display_name": "Python 2",
   "language": "python",
   "name": "python2"
  },
  "language_info": {
   "codemirror_mode": {
    "name": "ipython",
    "version": 2
   },
   "file_extension": ".py",
   "mimetype": "text/x-python",
   "name": "python",
   "nbconvert_exporter": "python",
   "pygments_lexer": "ipython2",
   "version": "2.7.11"
  }
 },
 "nbformat": 4,
 "nbformat_minor": 0
}
