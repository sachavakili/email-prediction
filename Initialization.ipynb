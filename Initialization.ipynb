{
 "cells": [
  {
   "cell_type": "markdown",
   "metadata": {},
   "source": [
    "# Initialization of libraries"
   ]
  },
  {
   "cell_type": "code",
   "execution_count": 2,
   "metadata": {
    "collapsed": false
   },
   "outputs": [],
   "source": [
    "# %matplotlib inline\n",
    "import os\n",
    "import sys\n",
    "# import matplotlib\n",
    "\n",
    "import numpy as np\n",
    "import pandas as pd\n",
    "# import matplotlib.pyplot as plt\n",
    "# import networkx as nx\n",
    "\n",
    "from datetime import datetime\n",
    "\n",
    "from sktensor import dtensor, cp_als\n",
    "\n",
    "# matplotlib.style.use('ggplot')"
   ]
  },
  {
   "cell_type": "markdown",
   "metadata": {},
   "source": [
    "# Manufacturing company emails"
   ]
  },
  {
   "cell_type": "markdown",
   "metadata": {},
   "source": [
    "### Importing the dataset"
   ]
  },
  {
   "cell_type": "code",
   "execution_count": 3,
   "metadata": {
    "collapsed": false
   },
   "outputs": [],
   "source": [
    "# Looking for the dataset\n",
    "if not os.path.isdir('radoslaw_email'):\n",
    "    print 'The dataset has not be found'\n",
    "else:\n",
    "    # Loading the dataset\n",
    "    tab = pd.read_csv('radoslaw_email/out.radoslaw_email_email', sep=' ', skiprows=2, header=None, index_col=False)"
   ]
  },
  {
   "cell_type": "code",
   "execution_count": 4,
   "metadata": {
    "collapsed": false
   },
   "outputs": [],
   "source": [
    "# Display\n",
    "# tab.head()"
   ]
  },
  {
   "cell_type": "code",
   "execution_count": 5,
   "metadata": {
    "collapsed": false
   },
   "outputs": [],
   "source": [
    "# Keeping desired columns and naming them\n",
    "tab.drop(2, axis=1, inplace=True)\n",
    "tab.columns = ['sender', 'receiver', 'weight', 'datetime']\n",
    "\n",
    "# Date Time format\n",
    "tab.datetime = pd.to_datetime(tab.datetime,unit='s')"
   ]
  },
  {
   "cell_type": "code",
   "execution_count": 6,
   "metadata": {
    "collapsed": false
   },
   "outputs": [],
   "source": [
    "# Display\n",
    "# tab.head()"
   ]
  },
  {
   "cell_type": "markdown",
   "metadata": {},
   "source": [
    "### Quick Data Analysis"
   ]
  },
  {
   "cell_type": "code",
   "execution_count": 7,
   "metadata": {
    "collapsed": false
   },
   "outputs": [],
   "source": [
    "# print '%d mails exchanged between %d employees from %s to %s' %(tab.shape[0],\n",
    "#                                                                 len(pd.unique(pd.concat([tab.sender,tab.receiver]))),\n",
    "#                                                                 str(min(tab.datetime.dt.date)),\n",
    "#                                                                 str(max(tab.datetime.dt.date))) "
   ]
  },
  {
   "cell_type": "code",
   "execution_count": 8,
   "metadata": {
    "collapsed": false
   },
   "outputs": [],
   "source": [
    "# tab.datetime.groupby(tab.datetime.dt.week).count().plot(\n",
    "#     title='Temporal Distribution per week',\n",
    "#     kind='bar',\n",
    "#     figsize=(16, 10),\n",
    "#     color='#348ABD',\n",
    "#     alpha=0.6,\n",
    "#     lw='1',\n",
    "#     edgecolor='#348ABD',\n",
    "#     grid=True)"
   ]
  },
  {
   "cell_type": "markdown",
   "metadata": {},
   "source": [
    "### Number of active days / sender"
   ]
  },
  {
   "cell_type": "code",
   "execution_count": 9,
   "metadata": {
    "collapsed": false
   },
   "outputs": [],
   "source": [
    "# sent_mails = tab.datetime.dt.date.groupby(tab.sender).nunique()\n",
    "\n",
    "# sent_mails.describe()"
   ]
  },
  {
   "cell_type": "markdown",
   "metadata": {},
   "source": [
    "### Number of receivers / sender"
   ]
  },
  {
   "cell_type": "code",
   "execution_count": 9,
   "metadata": {
    "collapsed": false
   },
   "outputs": [
    {
     "data": {
      "text/plain": [
       "count    154.000000\n",
       "mean      37.558442\n",
       "std       31.085584\n",
       "min        1.000000\n",
       "25%       12.750000\n",
       "50%       37.000000\n",
       "75%       51.750000\n",
       "max      137.000000\n",
       "dtype: float64"
      ]
     },
     "execution_count": 9,
     "metadata": {},
     "output_type": "execute_result"
    }
   ],
   "source": [
    "# sent_mails = tab.receiver.groupby(tab.sender).nunique()\n",
    "\n",
    "# sent_mails.describe()"
   ]
  },
  {
   "cell_type": "code",
   "execution_count": 10,
   "metadata": {
    "collapsed": false
   },
   "outputs": [
    {
     "data": {
      "text/plain": [
       "True"
      ]
     },
     "execution_count": 10,
     "metadata": {},
     "output_type": "execute_result"
    }
   ],
   "source": [
    "# sent_mails.argmax()\n",
    "# max(sent_mails) == len(pd.unique(tab.ix[tab.sender == 38, 1]))"
   ]
  },
  {
   "cell_type": "markdown",
   "metadata": {},
   "source": [
    "### Top senders"
   ]
  },
  {
   "cell_type": "code",
   "execution_count": 27,
   "metadata": {
    "collapsed": false
   },
   "outputs": [
    {
     "data": {
      "text/plain": [
       "sender\n",
       "3         4607\n",
       "13        3305\n",
       "59        2884\n",
       "86        2314\n",
       "94        2182\n",
       "50        2140\n",
       "14        2128\n",
       "1         2086\n",
       "15        1997\n",
       "76        1857\n",
       "84        1781\n",
       "4         1723\n",
       "68        1627\n",
       "69        1410\n",
       "53        1210\n",
       "...\n",
       "97        6\n",
       "137       4\n",
       "159       2\n",
       "160       2\n",
       "165       2\n",
       "155       1\n",
       "157       1\n",
       "156       1\n",
       "154       1\n",
       "158       1\n",
       "162       1\n",
       "163       1\n",
       "164       1\n",
       "161       1\n",
       "167       1\n",
       "Name: sender, Length: 154, dtype: int64"
      ]
     },
     "execution_count": 27,
     "metadata": {},
     "output_type": "execute_result"
    }
   ],
   "source": [
    "# top_senders = tab.sender.groupby(tab.sender).count()\n",
    "# top_senders.sort(ascending=False)\n",
    "# top_senders"
   ]
  },
  {
   "cell_type": "markdown",
   "metadata": {},
   "source": [
    "### Top receivers"
   ]
  },
  {
   "cell_type": "code",
   "execution_count": 28,
   "metadata": {
    "collapsed": false
   },
   "outputs": [
    {
     "data": {
      "text/plain": [
       "receiver\n",
       "3           4446\n",
       "50          3341\n",
       "13          2944\n",
       "15          2583\n",
       "14          2525\n",
       "94          1974\n",
       "40          1784\n",
       "66          1683\n",
       "69          1591\n",
       "4           1570\n",
       "9           1492\n",
       "56          1356\n",
       "53          1350\n",
       "86          1296\n",
       "1           1290\n",
       "...\n",
       "111         26\n",
       "78          22\n",
       "133         20\n",
       "97          16\n",
       "125         13\n",
       "126         11\n",
       "136         11\n",
       "146          8\n",
       "114          5\n",
       "127          4\n",
       "132          4\n",
       "131          4\n",
       "135          3\n",
       "134          3\n",
       "166          1\n",
       "Name: receiver, Length: 140, dtype: int64"
      ]
     },
     "execution_count": 28,
     "metadata": {},
     "output_type": "execute_result"
    }
   ],
   "source": [
    "# top_receivers = tab.receiver.groupby(tab.receiver).count()\n",
    "# top_receivers.sort(ascending=False)\n",
    "# top_receivers"
   ]
  },
  {
   "cell_type": "markdown",
   "metadata": {},
   "source": [
    "### Creating a graph (Dipou's Birthday example)"
   ]
  },
  {
   "cell_type": "code",
   "execution_count": 11,
   "metadata": {
    "collapsed": false
   },
   "outputs": [],
   "source": [
    "# dipou_brthd = datetime.strptime('2010-01-19', '%Y-%m-%d')"
   ]
  },
  {
   "cell_type": "code",
   "execution_count": 12,
   "metadata": {
    "collapsed": false
   },
   "outputs": [],
   "source": [
    "# row_list = tab.datetime.dt.date == dipou_brthd.date()\n",
    "# edge_list = zip(tab.sender[row_list], tab.receiver[row_list])\n",
    "\n",
    "# G=nx.Graph()\n",
    "# G.add_edges_from(edge_list)"
   ]
  },
  {
   "cell_type": "code",
   "execution_count": 13,
   "metadata": {
    "collapsed": false
   },
   "outputs": [
    {
     "name": "stdout",
     "output_type": "stream",
     "text": [
      "174 mails exchanged between 86 employees the 2010-01-19\n"
     ]
    }
   ],
   "source": [
    "# print '%d mails exchanged between %d employees the %s' %(nx.number_of_edges(G), \n",
    "#                                                          nx.number_of_nodes(G), \n",
    "#                                                          str(dipou_brthd.date()))"
   ]
  },
  {
   "cell_type": "code",
   "execution_count": 14,
   "metadata": {
    "collapsed": false
   },
   "outputs": [
    {
     "name": "stderr",
     "output_type": "stream",
     "text": [
      "C:\\Users\\Sacha\\Anaconda\\lib\\site-packages\\matplotlib\\collections.py:650: FutureWarning: elementwise comparison failed; returning scalar instead, but in the future will perform elementwise comparison\n",
      "  if self._edgecolors_original != str('face'):\n",
      "C:\\Users\\Sacha\\Anaconda\\lib\\site-packages\\matplotlib\\collections.py:590: FutureWarning: elementwise comparison failed; returning scalar instead, but in the future will perform elementwise comparison\n",
      "  if self._edgecolors == str('face'):\n"
     ]
    },
    {
     "data": {
      "image/png": "[encoded data removed]",
      "text/plain": [
       "<matplotlib.figure.Figure at 0x1f0b3be0>"
      ]
     },
     "metadata": {},
     "output_type": "display_data"
    }
   ],
   "source": [
    "# nx.draw(G)"
   ]
  },
  {
   "cell_type": "markdown",
   "metadata": {},
   "source": [
    "### Converting datetimes into integers"
   ]
  },
  {
   "cell_type": "code",
   "execution_count": 15,
   "metadata": {
    "collapsed": true
   },
   "outputs": [],
   "source": [
    "dates = tab.datetime.dt.date[:]\n",
    "tab.datetime = dates.apply(lambda dates: dates.toordinal())"
   ]
  },
  {
   "cell_type": "markdown",
   "metadata": {},
   "source": [
    "## Creating a tensor"
   ]
  },
  {
   "cell_type": "markdown",
   "metadata": {},
   "source": [
    "### Listing all the unique values of the dataset"
   ]
  },
  {
   "cell_type": "code",
   "execution_count": null,
   "metadata": {
    "collapsed": true
   },
   "outputs": [],
   "source": [
    "X = tab.iloc[:, [0, 1, 3]]\n",
    "\n",
    "i_list = pd.unique(X.iloc[:, 0])\n",
    "j_list = pd.unique(X.iloc[:, 1])\n",
    "k_list = pd.unique(X.iloc[:, 2])\n",
    "\n",
    "i_list.sort()\n",
    "j_list.sort()\n",
    "k_list.sort()"
   ]
  },
  {
   "cell_type": "markdown",
   "metadata": {},
   "source": [
    "### Creating and filling the tensor"
   ]
  },
  {
   "cell_type": "code",
   "execution_count": null,
   "metadata": {
    "collapsed": true
   },
   "outputs": [],
   "source": [
    "T = np.zeros((len(i_list), len(j_list), len(k_list)))\n",
    "T = dtensor(T)"
   ]
  },
  {
   "cell_type": "code",
   "execution_count": null,
   "metadata": {
    "collapsed": true
   },
   "outputs": [],
   "source": [
    "# Going through the dataframe\n",
    "for i, j, k in zip(X.sender, X.receiver, X.datetime):\n",
    "    # Finding the corresponding index in the tensor\n",
    "    i_ind = [i_ind for i_ind, x in enumerate(i_list) if x == i][0]\n",
    "    j_ind = [j_ind for j_ind, x in enumerate(j_list) if x == j][0]\n",
    "    k_ind = [k_ind for k_ind, x in enumerate(k_list) if x == k][0]\n",
    "    \n",
    "    # Modifying the tensor value for the tuple (i_ind, j_ind, k_ind)\n",
    "    T[i_ind, j_ind, k_ind] += 1"
   ]
  },
  {
   "cell_type": "markdown",
   "metadata": {},
   "source": [
    "### Useful Code for finding dataframe lines corresponding to given values"
   ]
  },
  {
   "cell_type": "code",
   "execution_count": null,
   "metadata": {
    "collapsed": true
   },
   "outputs": [],
   "source": [
    "i = 1  # sender \"1\"\n",
    "j = 10  # receiver \"10\"\n",
    "# k = \n",
    "\n",
    "X.ix[(X.sender == i)&(X.receiver == j)].head()  # using \"head()\" for only showing the 5 first results\n",
    "# X.ix[(X.sender == i)&(X.receiver == j)&(X.datetime == k)]"
   ]
  }
 ],
 "metadata": {
  "kernelspec": {
   "display_name": "Python 2",
   "language": "python",
   "name": "python2"
  },
  "language_info": {
   "codemirror_mode": {
    "name": "ipython",
    "version": 2
   },
   "file_extension": ".py",
   "mimetype": "text/x-python",
   "name": "python",
   "nbconvert_exporter": "python",
   "pygments_lexer": "ipython2",
   "version": "2.7.11"
  }
 },
 "nbformat": 4,
 "nbformat_minor": 0
}
