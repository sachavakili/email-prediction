{
 "cells": [
  {
   "cell_type": "code",
   "execution_count": 1,
   "metadata": {
    "collapsed": true
   },
   "outputs": [],
   "source": [
    "%matplotlib inline\n",
    "import os\n",
    "import sys\n",
    "import matplotlib\n",
    "\n",
    "import numpy as np\n",
    "import pandas as pd\n",
    "import matplotlib.pyplot as plt\n",
    "import networkx as nx\n",
    "import cmath\n",
    "import pickle\n",
    "import time\n",
    "from collections import defaultdict\n",
    "\n",
    "from datetime import datetime, date\n",
    "\n",
    "from sktensor import dtensor, cp_als\n",
    "# matplotlib.style.use('ggplot')\n",
    "\n",
    "from sklearn.utils.extmath import randomized_svd\n",
    "from sklearn.metrics import precision_recall_curve, average_precision_score\n",
    "from sktensor import dtensor, cp_als\n",
    "\n",
    "matplotlib.style.use('ggplot')"
   ]
  },
  {
   "cell_type": "markdown",
   "metadata": {},
   "source": [
    "### Create the tensor"
   ]
  },
  {
   "cell_type": "code",
   "execution_count": 2,
   "metadata": {
    "collapsed": false
   },
   "outputs": [],
   "source": [
    "df = pickle.load( open( \"dblp_inproceeding_10.p\", \"rb\" ) )"
   ]
  },
  {
   "cell_type": "markdown",
   "metadata": {},
   "source": [
    "### Choose only 10 years"
   ]
  },
  {
   "cell_type": "code",
   "execution_count": 3,
   "metadata": {
    "collapsed": false
   },
   "outputs": [],
   "source": [
    "df_train = df[df.year>=1991]\n",
    "df_train = df[df.year<=2000]"
   ]
  },
  {
   "cell_type": "code",
   "execution_count": 4,
   "metadata": {
    "collapsed": false
   },
   "outputs": [],
   "source": [
    "df_test = df[df.year==2001]"
   ]
  },
  {
   "cell_type": "code",
   "execution_count": 5,
   "metadata": {
    "collapsed": false
   },
   "outputs": [
    {
     "data": {
      "text/plain": [
       "((572596, 3), (64233, 3))"
      ]
     },
     "execution_count": 5,
     "metadata": {},
     "output_type": "execute_result"
    }
   ],
   "source": [
    "df_train.shape, df_test.shape"
   ]
  },
  {
   "cell_type": "markdown",
   "metadata": {},
   "source": [
    "### More than 20 publications"
   ]
  },
  {
   "cell_type": "code",
   "execution_count": 6,
   "metadata": {
    "collapsed": true
   },
   "outputs": [],
   "source": [
    "author_list = pd.unique(df_train.iloc[:,0])"
   ]
  },
  {
   "cell_type": "code",
   "execution_count": 7,
   "metadata": {
    "collapsed": false,
    "scrolled": true
   },
   "outputs": [
    {
     "name": "stdout",
     "output_type": "stream",
     "text": [
      "1/53454 lines treated - 0 seconds elapsed\n",
      "10001/53454 lines treated - 0 seconds elapsed\n",
      "20001/53454 lines treated - 0 seconds elapsed\n",
      "30001/53454 lines treated - 1 seconds elapsed\n",
      "40001/53454 lines treated - 1 seconds elapsed\n",
      "50001/53454 lines treated - 1 seconds elapsed\n",
      "60001/53454 lines treated - 1 seconds elapsed\n",
      "70001/53454 lines treated - 1 seconds elapsed\n",
      "80001/53454 lines treated - 1 seconds elapsed\n",
      "90001/53454 lines treated - 1 seconds elapsed\n",
      "100001/53454 lines treated - 1 seconds elapsed\n",
      "110001/53454 lines treated - 1 seconds elapsed\n",
      "120001/53454 lines treated - 1 seconds elapsed\n",
      "130001/53454 lines treated - 1 seconds elapsed\n",
      "140001/53454 lines treated - 1 seconds elapsed\n",
      "150001/53454 lines treated - 1 seconds elapsed\n",
      "160001/53454 lines treated - 1 seconds elapsed\n",
      "170001/53454 lines treated - 1 seconds elapsed\n",
      "180001/53454 lines treated - 1 seconds elapsed\n",
      "190001/53454 lines treated - 1 seconds elapsed\n",
      "200001/53454 lines treated - 1 seconds elapsed\n",
      "210001/53454 lines treated - 1 seconds elapsed\n",
      "220001/53454 lines treated - 1 seconds elapsed\n",
      "230001/53454 lines treated - 1 seconds elapsed\n",
      "240001/53454 lines treated - 1 seconds elapsed\n",
      "250001/53454 lines treated - 1 seconds elapsed\n",
      "260001/53454 lines treated - 1 seconds elapsed\n",
      "270001/53454 lines treated - 1 seconds elapsed\n",
      "280001/53454 lines treated - 1 seconds elapsed\n",
      "290001/53454 lines treated - 1 seconds elapsed\n",
      "300001/53454 lines treated - 1 seconds elapsed\n",
      "310001/53454 lines treated - 1 seconds elapsed\n",
      "320001/53454 lines treated - 1 seconds elapsed\n",
      "330001/53454 lines treated - 1 seconds elapsed\n",
      "340001/53454 lines treated - 1 seconds elapsed\n",
      "350001/53454 lines treated - 1 seconds elapsed\n",
      "360001/53454 lines treated - 1 seconds elapsed\n",
      "370001/53454 lines treated - 1 seconds elapsed\n",
      "380001/53454 lines treated - 1 seconds elapsed\n",
      "390001/53454 lines treated - 1 seconds elapsed\n",
      "400001/53454 lines treated - 1 seconds elapsed\n",
      "410001/53454 lines treated - 1 seconds elapsed\n",
      "420001/53454 lines treated - 1 seconds elapsed\n",
      "430001/53454 lines treated - 1 seconds elapsed\n",
      "440001/53454 lines treated - 1 seconds elapsed\n",
      "450001/53454 lines treated - 1 seconds elapsed\n",
      "460001/53454 lines treated - 1 seconds elapsed\n",
      "470001/53454 lines treated - 1 seconds elapsed\n",
      "480001/53454 lines treated - 1 seconds elapsed\n",
      "490001/53454 lines treated - 1 seconds elapsed\n",
      "500001/53454 lines treated - 1 seconds elapsed\n",
      "510001/53454 lines treated - 1 seconds elapsed\n",
      "520001/53454 lines treated - 1 seconds elapsed\n",
      "530001/53454 lines treated - 1 seconds elapsed\n",
      "540001/53454 lines treated - 1 seconds elapsed\n",
      "550001/53454 lines treated - 1 seconds elapsed\n",
      "560001/53454 lines treated - 1 seconds elapsed\n",
      "570001/53454 lines treated - 1 seconds elapsed\n"
     ]
    }
   ],
   "source": [
    "# Get the indexes of each author\n",
    "\n",
    "temp = time.time()\n",
    "count = 0\n",
    "\n",
    "authors_indexes = [(element, index) for index, element in enumerate(df_train.author)]\n",
    "author_index = defaultdict(list)\n",
    "\n",
    "for k, v in authors_indexes:\n",
    "    if count % 10000 == 1:\n",
    "        print('%d/%d lines treated - %.0f seconds elapsed') %(count, len(author_list), time.time() - temp)\n",
    "  \n",
    "    author_index[k].append(v)\n",
    "    \n",
    "    count += 1"
   ]
  },
  {
   "cell_type": "code",
   "execution_count": 8,
   "metadata": {
    "collapsed": true
   },
   "outputs": [],
   "source": [
    "# Keep the authors with more than 20 publications\n",
    "author_index_sorted = []\n",
    "\n",
    "for author in author_list : \n",
    "    if len(author_index[author]) > 20 :\n",
    "        author_index_sorted += author_index[author]"
   ]
  },
  {
   "cell_type": "code",
   "execution_count": 9,
   "metadata": {
    "collapsed": true
   },
   "outputs": [],
   "source": [
    "df_train = df_train[df_train.index.isin(author_index_sorted)]"
   ]
  },
  {
   "cell_type": "code",
   "execution_count": 10,
   "metadata": {
    "collapsed": true
   },
   "outputs": [],
   "source": [
    "df_test = df_test[df_test.author.isin(df_train.author)]\n",
    "df_test = df_test[df_test.crossref.isin(df_train.crossref)]"
   ]
  },
  {
   "cell_type": "code",
   "execution_count": 11,
   "metadata": {
    "collapsed": false
   },
   "outputs": [
    {
     "data": {
      "text/plain": [
       "((122244, 3), (4821, 3))"
      ]
     },
     "execution_count": 11,
     "metadata": {},
     "output_type": "execute_result"
    }
   ],
   "source": [
    "df_train.shape, df_test.shape"
   ]
  },
  {
   "cell_type": "code",
   "execution_count": 12,
   "metadata": {
    "collapsed": true
   },
   "outputs": [],
   "source": [
    "del df"
   ]
  },
  {
   "cell_type": "markdown",
   "metadata": {},
   "source": [
    "### Create the training tensor"
   ]
  },
  {
   "cell_type": "code",
   "execution_count": 13,
   "metadata": {
    "collapsed": true
   },
   "outputs": [],
   "source": [
    "author_list = pd.unique(df_train.iloc[:, 0])\n",
    "conf_list = pd.unique(df_train.iloc[:, 2])\n",
    "year_list = pd.unique(df_train.iloc[:, 1])\n",
    "\n",
    "year_list.sort()\n",
    "\n",
    "author_dic = {element : index for index, element in enumerate(author_list)}\n",
    "conf_dic =   {element : index for index, element in enumerate(conf_list)}\n",
    "year_dic =   {element : index for index, element in enumerate(year_list)}\n",
    "\n",
    "T_train = np.zeros((len(author_list), len(conf_list), len(year_list)))\n",
    "T_train = dtensor(T_train)"
   ]
  },
  {
   "cell_type": "code",
   "execution_count": 14,
   "metadata": {
    "collapsed": false
   },
   "outputs": [
    {
     "data": {
      "text/plain": [
       "39827"
      ]
     },
     "execution_count": 14,
     "metadata": {},
     "output_type": "execute_result"
    }
   ],
   "source": [
    "len(author_list)"
   ]
  },
  {
   "cell_type": "code",
   "execution_count": 15,
   "metadata": {
    "collapsed": false
   },
   "outputs": [
    {
     "name": "stdout",
     "output_type": "stream",
     "text": [
      "1/122244 (df.author, df.crossref, df.year) treated - 0 seconds elapsed\n",
      "100001/122244 (df.author, df.crossref, df.year) treated - 1 seconds elapsed\n",
      "1.00237202644\n"
     ]
    }
   ],
   "source": [
    "# Going through the dataframe\n",
    "t_temp = time.time()\n",
    "i = 0\n",
    "\n",
    "L = len(zip(df_train.author, df_train.crossref, df_train.year))\n",
    "\n",
    "for a, c, y in zip(df_train.author, df_train.crossref, df_train.year):\n",
    "    if i % 100000 == 1:\n",
    "        print('%d/%d (df.author, df.crossref, df.year) treated - %.0f seconds elapsed') %(i, L, time.time() - t_temp)\n",
    "        \n",
    "    # Finding the corresponding index in the tensor\n",
    "    a_ind = author_dic[a]\n",
    "    c_ind = conf_dic[c]\n",
    "    y_ind = year_dic[y]\n",
    "    \n",
    "    # Modifying the tensor value for the tuple (i_ind, j_ind, k_ind)\n",
    "    T_train[a_ind, c_ind, y_ind] += 1\n",
    "    \n",
    "    i +=1\n",
    "\n",
    "print time.time()-t_temp    "
   ]
  },
  {
   "cell_type": "code",
   "execution_count": 16,
   "metadata": {
    "collapsed": true
   },
   "outputs": [],
   "source": [
    "# Logarithmic Transformation\n",
    "nonz = T_train.nonzero()\n",
    "for ind in range(len(nonz[0])):\n",
    "    i_ind = nonz[0][ind]\n",
    "    j_ind = nonz[1][ind] \n",
    "    k_ind = nonz[2][ind]\n",
    "    \n",
    "    T_train[i_ind, j_ind, k_ind] = 1 + np.log(T_train[i_ind, j_ind, k_ind]) "
   ]
  },
  {
   "cell_type": "code",
   "execution_count": 17,
   "metadata": {
    "collapsed": true
   },
   "outputs": [],
   "source": [
    "del year_dic, df_train"
   ]
  },
  {
   "cell_type": "markdown",
   "metadata": {},
   "source": [
    "### Create the test tensor"
   ]
  },
  {
   "cell_type": "code",
   "execution_count": 18,
   "metadata": {
    "collapsed": true
   },
   "outputs": [],
   "source": [
    "author_list_train = author_list\n",
    "conf_list_train = conf_list\n",
    "author_dic_train = author_dic\n",
    "conf_dic_train = conf_dic"
   ]
  },
  {
   "cell_type": "code",
   "execution_count": 19,
   "metadata": {
    "collapsed": false
   },
   "outputs": [],
   "source": [
    "author_list = pd.unique(df_test.iloc[:, 0])\n",
    "conf_list = pd.unique(df_test.iloc[:, 2])\n",
    "\n",
    "author_dic = {element : index for index, element in enumerate(author_list)}\n",
    "conf_dic =   {element : index for index, element in enumerate(conf_list)}\n",
    "\n",
    "T_test = np.zeros((len(author_list_train), len(conf_list_train)))"
   ]
  },
  {
   "cell_type": "code",
   "execution_count": 20,
   "metadata": {
    "collapsed": false
   },
   "outputs": [
    {
     "name": "stdout",
     "output_type": "stream",
     "text": [
      "1/4821 (df.author, df.crossref, df.year) treated - 0 seconds elapsed\n",
      "1001/4821 (df.author, df.crossref, df.year) treated - 0 seconds elapsed\n",
      "2001/4821 (df.author, df.crossref, df.year) treated - 0 seconds elapsed\n",
      "3001/4821 (df.author, df.crossref, df.year) treated - 0 seconds elapsed\n",
      "4001/4821 (df.author, df.crossref, df.year) treated - 0 seconds elapsed\n",
      "0.261805057526\n"
     ]
    }
   ],
   "source": [
    "# Going through the dataframe\n",
    "t_temp = time.time()\n",
    "i = 0\n",
    "\n",
    "L = len(zip(df_test.author, df_test.crossref))\n",
    "\n",
    "for a, c in zip(df_test.author, df_test.crossref):\n",
    "    if i % 1000 == 1:\n",
    "        print('%d/%d (df.author, df.crossref, df.year) treated - %.0f seconds elapsed') %(i, L, time.time() - t_temp)\n",
    "\n",
    "    # Finding the corresponding index in the tensor\n",
    "    a_ind = author_dic_train[a]\n",
    "    c_ind = conf_dic_train[c]\n",
    "\n",
    "    # Modifying the tensor value for the tuple (i_ind, j_ind, k_ind)\n",
    "    T_test[a_ind, c_ind] = 1\n",
    "\n",
    "    i +=1\n",
    "\n",
    "print time.time()-t_temp    "
   ]
  },
  {
   "cell_type": "code",
   "execution_count": 21,
   "metadata": {
    "collapsed": false
   },
   "outputs": [],
   "source": [
    "del author_list_train, conf_list_train, author_list, conf_list, author_dic, conf_dic, df_test"
   ]
  },
  {
   "cell_type": "markdown",
   "metadata": {},
   "source": [
    "### Collapsed weighted tensor"
   ]
  },
  {
   "cell_type": "code",
   "execution_count": 22,
   "metadata": {
    "collapsed": false
   },
   "outputs": [],
   "source": [
    "CT = np.zeros((T_train[:,:,0].shape[0], T_train[:,:,0].shape[1]))\n",
    "theta = 0.2\n",
    "K = T_train.shape[2]\n",
    "\n",
    "for k in range(T_train.shape[2]):\n",
    "    CT = CT + ((1-theta)**(K - k))*T_train[:,:,k]"
   ]
  },
  {
   "cell_type": "code",
   "execution_count": 23,
   "metadata": {
    "collapsed": false
   },
   "outputs": [],
   "source": [
    "# Create a np.array matrix instead of the sklearn tensor\n",
    "C = np.zeros((T_train[:,:,0].shape[0], T_train[:,:,0].shape[1]))"
   ]
  },
  {
   "cell_type": "code",
   "execution_count": 24,
   "metadata": {
    "collapsed": false
   },
   "outputs": [],
   "source": [
    "for i in range(CT.shape[0]) :\n",
    "    for j in range(CT.shape[1]) :\n",
    "        C[i,j] = CT[i,j]"
   ]
  },
  {
   "cell_type": "code",
   "execution_count": 25,
   "metadata": {
    "collapsed": false
   },
   "outputs": [],
   "source": [
    "CT = C\n",
    "del C"
   ]
  },
  {
   "cell_type": "code",
   "execution_count": 26,
   "metadata": {
    "collapsed": false,
    "scrolled": true
   },
   "outputs": [
    {
     "data": {
      "text/plain": [
       "(39827, 1457)"
      ]
     },
     "execution_count": 26,
     "metadata": {},
     "output_type": "execute_result"
    }
   ],
   "source": [
    "CT.shape"
   ]
  },
  {
   "cell_type": "markdown",
   "metadata": {},
   "source": [
    "### Adjacency matrix"
   ]
  },
  {
   "cell_type": "code",
   "execution_count": 27,
   "metadata": {
    "collapsed": true
   },
   "outputs": [],
   "source": [
    "above_adj_matrix = np.concatenate((np.zeros((CT.shape[0],CT.shape[0])),CT), axis = 1)"
   ]
  },
  {
   "cell_type": "code",
   "execution_count": 28,
   "metadata": {
    "collapsed": false,
    "scrolled": true
   },
   "outputs": [
    {
     "data": {
      "text/plain": [
       "(39827, 41284)"
      ]
     },
     "execution_count": 28,
     "metadata": {},
     "output_type": "execute_result"
    }
   ],
   "source": [
    "above_adj_matrix.shape"
   ]
  },
  {
   "cell_type": "code",
   "execution_count": 29,
   "metadata": {
    "collapsed": false
   },
   "outputs": [],
   "source": [
    "below_adj_matrix = np.concatenate((CT.transpose(), np.zeros((CT.shape[1],CT.shape[1]))), axis = 1)"
   ]
  },
  {
   "cell_type": "code",
   "execution_count": 30,
   "metadata": {
    "collapsed": true
   },
   "outputs": [],
   "source": [
    "adj_matrix = np.concatenate((above_adj_matrix, below_adj_matrix), axis = 0)"
   ]
  },
  {
   "cell_type": "code",
   "execution_count": 31,
   "metadata": {
    "collapsed": false
   },
   "outputs": [
    {
     "data": {
      "text/plain": [
       "(41284, 41284)"
      ]
     },
     "execution_count": 31,
     "metadata": {},
     "output_type": "execute_result"
    }
   ],
   "source": [
    "adj_matrix.shape"
   ]
  },
  {
   "cell_type": "code",
   "execution_count": 32,
   "metadata": {
    "collapsed": true
   },
   "outputs": [],
   "source": [
    "del above_adj_matrix, below_adj_matrix"
   ]
  },
  {
   "cell_type": "markdown",
   "metadata": {},
   "source": [
    "### Adjacency matrix"
   ]
  },
  {
   "cell_type": "code",
   "execution_count": 33,
   "metadata": {
    "collapsed": true
   },
   "outputs": [],
   "source": [
    "U, Sigma, Vt = randomized_svd(CT, n_components=15, n_iter=5, random_state=None)"
   ]
  },
  {
   "cell_type": "code",
   "execution_count": 34,
   "metadata": {
    "collapsed": true
   },
   "outputs": [],
   "source": [
    "gamma = []"
   ]
  },
  {
   "cell_type": "code",
   "execution_count": 35,
   "metadata": {
    "collapsed": true
   },
   "outputs": [],
   "source": [
    "beta = 0.001"
   ]
  },
  {
   "cell_type": "code",
   "execution_count": 36,
   "metadata": {
    "collapsed": true
   },
   "outputs": [],
   "source": [
    "for i in range(len(Sigma)) :\n",
    "    gamma += [1/(1-beta*Sigma[i]) - 1]"
   ]
  },
  {
   "cell_type": "code",
   "execution_count": 37,
   "metadata": {
    "collapsed": true
   },
   "outputs": [],
   "source": [
    "CT_SVD = np.dot(np.dot(U,np.diag(gamma)),Vt)"
   ]
  },
  {
   "cell_type": "markdown",
   "metadata": {},
   "source": [
    "### Katz score"
   ]
  },
  {
   "cell_type": "code",
   "execution_count": 38,
   "metadata": {
    "collapsed": false
   },
   "outputs": [],
   "source": [
    "S = np.concatenate((np.zeros((CT_SVD.shape[0], CT_SVD.shape[0])), CT_SVD), axis = 1)"
   ]
  },
  {
   "cell_type": "code",
   "execution_count": 39,
   "metadata": {
    "collapsed": true
   },
   "outputs": [],
   "source": [
    "S = np.concatenate((S,np.concatenate((CT_SVD.transpose(), np.zeros((CT_SVD.shape[1],CT_SVD.shape[1]))), axis = 1)), axis = 0)"
   ]
  },
  {
   "cell_type": "code",
   "execution_count": 40,
   "metadata": {
    "collapsed": false
   },
   "outputs": [
    {
     "data": {
      "text/plain": [
       "array([[  0.00000000e+00,   0.00000000e+00,   0.00000000e+00, ...,\n",
       "          1.59264018e-08,   2.85687424e-09,   2.56362229e-09],\n",
       "       [  0.00000000e+00,   0.00000000e+00,   0.00000000e+00, ...,\n",
       "          5.60121077e-09,   6.71010489e-09,   1.26121270e-08],\n",
       "       [  0.00000000e+00,   0.00000000e+00,   0.00000000e+00, ...,\n",
       "          7.44229876e-09,   8.91796242e-09,   8.13899854e-09],\n",
       "       ..., \n",
       "       [  1.59264018e-08,   5.60121077e-09,   7.44229876e-09, ...,\n",
       "          0.00000000e+00,   0.00000000e+00,   0.00000000e+00],\n",
       "       [  2.85687424e-09,   6.71010489e-09,   8.91796242e-09, ...,\n",
       "          0.00000000e+00,   0.00000000e+00,   0.00000000e+00],\n",
       "       [  2.56362229e-09,   1.26121270e-08,   8.13899854e-09, ...,\n",
       "          0.00000000e+00,   0.00000000e+00,   0.00000000e+00]])"
      ]
     },
     "execution_count": 40,
     "metadata": {},
     "output_type": "execute_result"
    }
   ],
   "source": [
    "S"
   ]
  },
  {
   "cell_type": "code",
   "execution_count": 41,
   "metadata": {
    "collapsed": false
   },
   "outputs": [
    {
     "data": {
      "text/plain": [
       "(41284, 41284)"
      ]
     },
     "execution_count": 41,
     "metadata": {},
     "output_type": "execute_result"
    }
   ],
   "source": [
    "S.shape"
   ]
  },
  {
   "cell_type": "code",
   "execution_count": 42,
   "metadata": {
    "collapsed": false
   },
   "outputs": [
    {
     "data": {
      "text/plain": [
       "-0.00013575868010089808"
      ]
     },
     "execution_count": 42,
     "metadata": {},
     "output_type": "execute_result"
    }
   ],
   "source": [
    "S.min()"
   ]
  },
  {
   "cell_type": "code",
   "execution_count": 43,
   "metadata": {
    "collapsed": false
   },
   "outputs": [
    {
     "data": {
      "text/plain": [
       "0.0056649002616706284"
      ]
     },
     "execution_count": 43,
     "metadata": {},
     "output_type": "execute_result"
    }
   ],
   "source": [
    "S.max()"
   ]
  },
  {
   "cell_type": "code",
   "execution_count": 44,
   "metadata": {
    "collapsed": false
   },
   "outputs": [],
   "source": [
    "#Converting S into S_pred, a binary matrix\n",
    "#thres = 1  # If the score above thres, we predict an email\n",
    "\n",
    "#S_pred = (1*(S >= thres))\n",
    "#S_test = (1*np.array(T_test[:, :, 0] >= 1))"
   ]
  },
  {
   "cell_type": "markdown",
   "metadata": {},
   "source": [
    "### Precision-Recall"
   ]
  },
  {
   "cell_type": "code",
   "execution_count": null,
   "metadata": {
    "collapsed": false
   },
   "outputs": [],
   "source": [
    "#beta_list = [0.001, 0.01, 0.1, 0.3, 0.5, 0.8]\n",
    "beta= 0.001\n",
    "\n",
    "# Katz Scoring\n",
    "y_score = 1*(S >= 1).flatten()\n",
    "y_test = T_test.flatten()\n",
    "\n",
    "# Precision-Recall\n",
    "precision, recall, _ = precision_recall_curve(y_test,y_score)\n",
    "average_precision = average_precision_score(y_test, y_score)    \n",
    "\n",
    "# Plotting the results\n",
    "plt.clf()\n",
    "plt.figure(figsize=(16, 10))\n",
    "\n",
    "plt.plot(recall, precision, label='AUC={0:0.2f} Beta=%f' .format(average_precision) %(beta))\n",
    "\n",
    "plt.axhline(mail_rate, label='random', color='black')\n",
    "plt.xlabel('Recall')\n",
    "plt.ylabel('Precision')\n",
    "plt.ylim([0.0, 1.05])\n",
    "plt.xlim([0.0, 1.0])\n",
    "plt.legend(loc=\"upper right\")\n",
    "plt.title('Precision-Recall for Katz \\nCollapsed Weighted Tensor')\n",
    "plt.savefig('cp_roc_cut_%d.png' %(tau))     "
   ]
  },
  {
   "cell_type": "code",
   "execution_count": null,
   "metadata": {
    "collapsed": true
   },
   "outputs": [],
   "source": []
  },
  {
   "cell_type": "markdown",
   "metadata": {},
   "source": [
    "### TKatz"
   ]
  },
  {
   "cell_type": "code",
   "execution_count": null,
   "metadata": {
    "collapsed": false
   },
   "outputs": [],
   "source": [
    "# Rank of the adjacency matrix\n",
    "#np.linalg.matrix_rank(CT)"
   ]
  },
  {
   "cell_type": "code",
   "execution_count": null,
   "metadata": {
    "collapsed": false
   },
   "outputs": [],
   "source": [
    "# Eigendecomposition\n",
    "#D, W = np.linalg.eig(Adj_matrix)"
   ]
  },
  {
   "cell_type": "code",
   "execution_count": null,
   "metadata": {
    "collapsed": false
   },
   "outputs": [],
   "source": [
    "#print W.shape, D.shape"
   ]
  },
  {
   "cell_type": "code",
   "execution_count": null,
   "metadata": {
    "collapsed": false
   },
   "outputs": [],
   "source": [
    "# Check orthogonality\n",
    "#P = np.dot(np.linalg.inv(W),W)\n",
    "#np.allclose(P, np.eye(len(P)))"
   ]
  },
  {
   "cell_type": "code",
   "execution_count": null,
   "metadata": {
    "collapsed": false
   },
   "outputs": [],
   "source": [
    "# Only real numbers\n",
    "#count = 0\n",
    "#for i in D :\n",
    "#    if i.imag == 0 :\n",
    "#        count += 1\n",
    "\n",
    "#count"
   ]
  },
  {
   "cell_type": "code",
   "execution_count": null,
   "metadata": {
    "collapsed": false
   },
   "outputs": [],
   "source": [
    "#count = 0\n",
    "#for i in range(1,len(D)) :\n",
    "#    if abs(D[i-1]) >= abs(D[i]) :\n",
    "#        count += 1\n",
    "\n",
    "#print count"
   ]
  },
  {
   "cell_type": "code",
   "execution_count": null,
   "metadata": {
    "collapsed": false
   },
   "outputs": [],
   "source": [
    "#for value in range(len(D)) :\n",
    "#    D[value] = D[value].real"
   ]
  },
  {
   "cell_type": "code",
   "execution_count": null,
   "metadata": {
    "collapsed": true
   },
   "outputs": [],
   "source": [
    "#alpha = []\n",
    "#for i in D :\n",
    "#    alpha += [1./(1-i)] "
   ]
  },
  {
   "cell_type": "code",
   "execution_count": null,
   "metadata": {
    "collapsed": false
   },
   "outputs": [],
   "source": [
    "#TKatzScore = np.dot(W,np.dot(np.diag(alpha),W.transpose()))"
   ]
  },
  {
   "cell_type": "code",
   "execution_count": null,
   "metadata": {
    "collapsed": true
   },
   "outputs": [],
   "source": [
    "#for value in range(len(TKatzScore)) :\n",
    "#    TKatzScore[value] = TKatzScore[value].real"
   ]
  },
  {
   "cell_type": "code",
   "execution_count": null,
   "metadata": {
    "collapsed": false
   },
   "outputs": [],
   "source": [
    "# Only real numbers\n",
    "#count = 0\n",
    "#for i in range(TKatzScore.shape[0]) :\n",
    "#    for j in range(TKatzScore.shape[1]) :\n",
    "#        if TKatzScore[i,j].imag == 0 :\n",
    "#            count += 1\n",
    "\n",
    "#count"
   ]
  },
  {
   "cell_type": "code",
   "execution_count": null,
   "metadata": {
    "collapsed": false
   },
   "outputs": [],
   "source": [
    "#TKatzScore.shape[0]*TKatzScore.shape[1]"
   ]
  },
  {
   "cell_type": "code",
   "execution_count": null,
   "metadata": {
    "collapsed": false
   },
   "outputs": [],
   "source": [
    "#TKatzScore.min()"
   ]
  },
  {
   "cell_type": "code",
   "execution_count": null,
   "metadata": {
    "collapsed": false
   },
   "outputs": [],
   "source": [
    "#TKatzScore.max()"
   ]
  },
  {
   "cell_type": "code",
   "execution_count": null,
   "metadata": {
    "collapsed": false
   },
   "outputs": [],
   "source": [
    "#beta_list = [0.001, 0.01, 0.1, 0.3, 0.5, 0.8]\n",
    "#precision = dict()\n",
    "#recall = dict()\n",
    "#average_precision = dict()\n",
    "\n",
    "#for beta in beta_list :\n",
    "#    alpha = []\n",
    "#    for i in D :\n",
    "#        alpha += [1./(1-beta*i) - 1] \n",
    "#    # TKatz Scoring\n",
    "#    S = np.dot(W,np.dot(np.diag(alpha),W.transpose()))\n",
    "#    y_score = S.flatten()\n",
    "#    y_test = S_test.flatten()    \n",
    "#    # Precision-Recall\n",
    "#    precision[beta], recall[beta], _ = precision_recall_curve(y_test,\n",
    "#                                                        y_score)\n",
    "#    average_precision[beta] = average_precision_score(y_test, y_score)    \n",
    "\n",
    "#    # Plotting the results\n",
    "#    plt.clf()\n",
    "#    plt.figure(figsize=(16, 10))\n",
    "    \n",
    "#for beta in beta_list :\n",
    "#    plt.plot(recall[beta], precision[beta], label='AUC={0:0.2f} Beta=%f' .format(average_precision[beta]) %(beta))\n",
    "\n",
    "#plt.axhline(mail_rate, label='random', color='black')\n",
    "#plt.xlabel('Recall')\n",
    "#plt.ylabel('Precision')\n",
    "#plt.ylim([0.0, 1.05])\n",
    "#plt.xlim([0.0, 1.0])\n",
    "#plt.legend(loc=\"upper right\")\n",
    "#plt.title('Precision-Recall for TKatz \\nCollapsed Weighted Tensor')\n",
    "#plt.savefig('cp_roc_cut_%d.png' %(tau))     "
   ]
  },
  {
   "cell_type": "code",
   "execution_count": null,
   "metadata": {
    "collapsed": true
   },
   "outputs": [],
   "source": []
  }
 ],
 "metadata": {
  "kernelspec": {
   "display_name": "Python 2",
   "language": "python",
   "name": "python2"
  },
  "language_info": {
   "codemirror_mode": {
    "name": "ipython",
    "version": 2
   },
   "file_extension": ".py",
   "mimetype": "text/x-python",
   "name": "python",
   "nbconvert_exporter": "python",
   "pygments_lexer": "ipython2",
   "version": "2.7.11"
  }
 },
 "nbformat": 4,
 "nbformat_minor": 0
}
