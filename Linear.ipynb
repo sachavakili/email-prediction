{
 "cells": [
  {
   "cell_type": "markdown",
   "metadata": {},
   "source": [
    "# Linear Regression"
   ]
  },
  {
   "cell_type": "markdown",
   "metadata": {},
   "source": [
    "## Initialization of libraries and Dataset"
   ]
  },
  {
   "cell_type": "code",
   "execution_count": 2,
   "metadata": {
    "collapsed": false
   },
   "outputs": [],
   "source": [
    "%matplotlib inline\n",
    "import os\n",
    "import sys\n",
    "import matplotlib\n",
    "\n",
    "import numpy as np\n",
    "import pandas as pd\n",
    "import matplotlib.pyplot as plt\n",
    "import networkx as nx\n",
    "\n",
    "from datetime import datetime, date\n",
    "from sklearn.metrics import precision_recall_curve, average_precision_score\n",
    "\n",
    "from statsmodels.formula.api import ols\n",
    "import statsmodels.api as sm\n",
    "\n",
    "matplotlib.style.use('ggplot')"
   ]
  },
  {
   "cell_type": "code",
   "execution_count": 3,
   "metadata": {
    "collapsed": false
   },
   "outputs": [
    {
     "data": {
      "text/html": [
       "<div style=\"max-height:1000px;max-width:1500px;overflow:auto;\">\n",
       "<table border=\"1\" class=\"dataframe\">\n",
       "  <thead>\n",
       "    <tr style=\"text-align: right;\">\n",
       "      <th></th>\n",
       "      <th>sender</th>\n",
       "      <th>receiver</th>\n",
       "      <th>datetime</th>\n",
       "    </tr>\n",
       "  </thead>\n",
       "  <tbody>\n",
       "    <tr>\n",
       "      <th>0</th>\n",
       "      <td> 1</td>\n",
       "      <td> 2</td>\n",
       "      <td> 733774</td>\n",
       "    </tr>\n",
       "    <tr>\n",
       "      <th>1</th>\n",
       "      <td> 1</td>\n",
       "      <td> 3</td>\n",
       "      <td> 733774</td>\n",
       "    </tr>\n",
       "    <tr>\n",
       "      <th>2</th>\n",
       "      <td> 1</td>\n",
       "      <td> 4</td>\n",
       "      <td> 733774</td>\n",
       "    </tr>\n",
       "    <tr>\n",
       "      <th>3</th>\n",
       "      <td> 1</td>\n",
       "      <td> 5</td>\n",
       "      <td> 733774</td>\n",
       "    </tr>\n",
       "    <tr>\n",
       "      <th>4</th>\n",
       "      <td> 1</td>\n",
       "      <td> 6</td>\n",
       "      <td> 733774</td>\n",
       "    </tr>\n",
       "  </tbody>\n",
       "</table>\n",
       "</div>"
      ],
      "text/plain": [
       "   sender  receiver  datetime\n",
       "0       1         2    733774\n",
       "1       1         3    733774\n",
       "2       1         4    733774\n",
       "3       1         5    733774\n",
       "4       1         6    733774"
      ]
     },
     "execution_count": 3,
     "metadata": {},
     "output_type": "execute_result"
    }
   ],
   "source": [
    "# Downloading and preprocessing the dataset\n",
    "# The variable \"tab\" has integers datetime\n",
    "execfile('Library/Initialization.py')\n",
    "X.head()"
   ]
  },
  {
   "cell_type": "markdown",
   "metadata": {},
   "source": [
    "## Linear Regression"
   ]
  },
  {
   "cell_type": "markdown",
   "metadata": {},
   "source": [
    "### Dataset Temporal Split\n",
    "We use (sender,receiver)_t matrix for t between t_0 and t_1. This temporal window shifts as t_0 incresases.  \n",
    "t_0 is s.t. t_0+t_1 <= T.shape[2] = 238  \n",
    "  \n",
    "Since we would like to move this window around 3 weeks, we choose t_0 <= 21 and a constant window size of length 238-21=217"
   ]
  },
  {
   "cell_type": "code",
   "execution_count": 4,
   "metadata": {
    "collapsed": false
   },
   "outputs": [
    {
     "name": "stdout",
     "output_type": "stream",
     "text": [
      "Initial time: t_0 = 0 [2010-01-02 / 733774]\n",
      "Final time:   t_1 = 217 [2010-09-07 / 734022]\n"
     ]
    }
   ],
   "source": [
    "t_0 = 0\n",
    "t_1 = t_0 + 217\n",
    "\n",
    "if t_1 <= T.shape[2]:\n",
    "    X_train = X.ix[(X.datetime >= k_list[t_0])&(X.datetime < k_list[t_1])]\n",
    "    X_test = X.ix[X.datetime >= k_list[t_1]]\n",
    "    print('Initial time: t_0 = %d [%s / %d]\\nFinal time:   t_1 = %d [%s / %d]') %(t_0,\n",
    "                                                                                  date.fromordinal(k_list[t_0]),\n",
    "                                                                                  k_list[t_0],\n",
    "                                                                                  t_1,\n",
    "                                                                                  date.fromordinal(k_list[t_1]),\n",
    "                                                                                  k_list[t_1])\n",
    "else:\n",
    "    print('t_0=%d is superior to the maximal value 21!') %(t_0)"
   ]
  },
  {
   "cell_type": "code",
   "execution_count": 5,
   "metadata": {
    "collapsed": true
   },
   "outputs": [],
   "source": [
    "#Proportion of non-zero entries of the tensor\n",
    "mail_rate = np.count_nonzero(T) / float(T.shape[0] * T.shape[1] * T.shape[2])"
   ]
  },
  {
   "cell_type": "markdown",
   "metadata": {},
   "source": [
    "### Counting the number of mails per day"
   ]
  },
  {
   "cell_type": "code",
   "execution_count": 6,
   "metadata": {
    "collapsed": false
   },
   "outputs": [
    {
     "name": "stderr",
     "output_type": "stream",
     "text": [
      "C:\\Users\\Sacha\\Anaconda\\lib\\site-packages\\ipykernel\\__main__.py:2: SettingWithCopyWarning: \n",
      "A value is trying to be set on a copy of a slice from a DataFrame.\n",
      "Try using .loc[row_indexer,col_indexer] = value instead\n",
      "\n",
      "See the the caveats in the documentation: http://pandas.pydata.org/pandas-docs/stable/indexing.html#indexing-view-versus-copy\n",
      "  from ipykernel import kernelapp as app\n"
     ]
    },
    {
     "data": {
      "text/html": [
       "<div style=\"max-height:1000px;max-width:1500px;overflow:auto;\">\n",
       "<table border=\"1\" class=\"dataframe\">\n",
       "  <thead>\n",
       "    <tr style=\"text-align: right;\">\n",
       "      <th></th>\n",
       "      <th></th>\n",
       "      <th></th>\n",
       "      <th>count</th>\n",
       "    </tr>\n",
       "    <tr>\n",
       "      <th>sender</th>\n",
       "      <th>receiver</th>\n",
       "      <th>datetime</th>\n",
       "      <th></th>\n",
       "    </tr>\n",
       "  </thead>\n",
       "  <tbody>\n",
       "    <tr>\n",
       "      <th rowspan=\"5\" valign=\"top\">1</th>\n",
       "      <th rowspan=\"5\" valign=\"top\">2</th>\n",
       "      <th>733774</th>\n",
       "      <td> 1</td>\n",
       "    </tr>\n",
       "    <tr>\n",
       "      <th>733776</th>\n",
       "      <td> 2</td>\n",
       "    </tr>\n",
       "    <tr>\n",
       "      <th>733777</th>\n",
       "      <td> 2</td>\n",
       "    </tr>\n",
       "    <tr>\n",
       "      <th>733783</th>\n",
       "      <td> 1</td>\n",
       "    </tr>\n",
       "    <tr>\n",
       "      <th>733784</th>\n",
       "      <td> 1</td>\n",
       "    </tr>\n",
       "  </tbody>\n",
       "</table>\n",
       "</div>"
      ],
      "text/plain": [
       "                          count\n",
       "sender receiver datetime       \n",
       "1      2        733774        1\n",
       "                733776        2\n",
       "                733777        2\n",
       "                733783        1\n",
       "                733784        1"
      ]
     },
     "execution_count": 6,
     "metadata": {},
     "output_type": "execute_result"
    }
   ],
   "source": [
    "X_ = X\n",
    "X_['count'] = 0\n",
    "X_ = X_.groupby([\"sender\", \"receiver\", \"datetime\"]).count()\n",
    "X_.head()"
   ]
  },
  {
   "cell_type": "code",
   "execution_count": null,
   "metadata": {
    "collapsed": true
   },
   "outputs": [],
   "source": []
  },
  {
   "cell_type": "code",
   "execution_count": 51,
   "metadata": {
    "collapsed": true
   },
   "outputs": [],
   "source": [
    "from scipy import linalg\n",
    "\n",
    "X2 = tab[[0,1]]\n",
    "n = X2.size"
   ]
  },
  {
   "cell_type": "code",
   "execution_count": 52,
   "metadata": {
    "collapsed": true
   },
   "outputs": [],
   "source": [
    "import datetime\n",
    "\n",
    "dates = tab.datetime.dt.date[:]\n",
    "dates = dates.apply(lambda dates: dates.toordinal())"
   ]
  },
  {
   "cell_type": "code",
   "execution_count": 53,
   "metadata": {
    "collapsed": true
   },
   "outputs": [],
   "source": [
    "dates = pd.Series(dates, name='date')\n",
    "X2 = pd.concat([X2,dates], axis = 1)"
   ]
  },
  {
   "cell_type": "code",
   "execution_count": 54,
   "metadata": {
    "collapsed": false
   },
   "outputs": [
    {
     "name": "stdout",
     "output_type": "stream",
     "text": [
      "(733776, 733774)\n"
     ]
    }
   ],
   "source": [
    "# print(tab.datetime.dt.date[0], tab.datetime.dt.date[100])\n",
    "print(tab.datetime.dt.date[100].toordinal(), tab.datetime.dt.date[0].toordinal())"
   ]
  },
  {
   "cell_type": "markdown",
   "metadata": {},
   "source": [
    "### Dataset splitting into train set and test set\n",
    "\n",
    "We choose to spilt the data set temporally such that the train set contains 75% of the emails."
   ]
  },
  {
   "cell_type": "code",
   "execution_count": 55,
   "metadata": {
    "collapsed": false
   },
   "outputs": [],
   "source": [
    "X2.sort_values(['date', 'sender', 'receiver'], ascending = [1, 1, 1], inplace=True)\n",
    "\n",
    "train_split = 0.75\n",
    "train_index = int(round(train_split*X2.shape[0]))"
   ]
  },
  {
   "cell_type": "code",
   "execution_count": 56,
   "metadata": {
    "collapsed": true
   },
   "outputs": [],
   "source": [
    "XTrain2 = X2[:train_index]\n",
    "\n",
    "XTest2 = X2[train_index:]"
   ]
  },
  {
   "cell_type": "code",
   "execution_count": 177,
   "metadata": {
    "collapsed": false
   },
   "outputs": [
    {
     "data": {
      "text/plain": [
       "66"
      ]
     },
     "execution_count": 177,
     "metadata": {},
     "output_type": "execute_result"
    }
   ],
   "source": [
    "XTest2.date.iloc[-1] - XTrain2.date.iloc[train_index - 1]"
   ]
  },
  {
   "cell_type": "code",
   "execution_count": 58,
   "metadata": {
    "collapsed": false
   },
   "outputs": [],
   "source": [
    "reg = ols('receiver ~ sender + date', data = XTrain2)"
   ]
  },
  {
   "cell_type": "code",
   "execution_count": null,
   "metadata": {
    "collapsed": false,
    "scrolled": true
   },
   "outputs": [],
   "source": [
    "print resultats.iloc[:,0:6]"
   ]
  },
  {
   "cell_type": "code",
   "execution_count": 226,
   "metadata": {
    "collapsed": false
   },
   "outputs": [
    {
     "ename": "IndexError",
     "evalue": "list assignment index out of range",
     "output_type": "error",
     "traceback": [
      "\u001b[0;31m---------------------------------------------------------------------------\u001b[0m",
      "\u001b[0;31mIndexError\u001b[0m                                Traceback (most recent call last)",
      "\u001b[0;32m<ipython-input-226-a8ee24dc2378>\u001b[0m in \u001b[0;36m<module>\u001b[0;34m()\u001b[0m\n\u001b[1;32m      1\u001b[0m \u001b[0ma\u001b[0m \u001b[0;34m=\u001b[0m \u001b[0;34m[\u001b[0m\u001b[0;34m]\u001b[0m\u001b[0;34m\u001b[0m\u001b[0m\n\u001b[0;32m----> 2\u001b[0;31m \u001b[0ma\u001b[0m\u001b[0;34m[\u001b[0m\u001b[0;36m0\u001b[0m\u001b[0;34m]\u001b[0m \u001b[0;34m=\u001b[0m \u001b[0;36m1\u001b[0m\u001b[0;34m\u001b[0m\u001b[0m\n\u001b[0m",
      "\u001b[0;31mIndexError\u001b[0m: list assignment index out of range"
     ]
    }
   ],
   "source": [
    "a = []\n",
    "a[0] = 1"
   ]
  },
  {
   "cell_type": "code",
   "execution_count": 227,
   "metadata": {
    "collapsed": false
   },
   "outputs": [],
   "source": [
    "# Another way to collect the data\n",
    "\n",
    "senders = pd.unique(XTrain2.sender)\n",
    "\n",
    "maxi = max(XTest2.date)\n",
    "datum = []\n",
    "\n",
    "for current_sender, current_receiver in pd.unique(zip(XTrain2.sender, XTrain2.receiver)):\n",
    "    current_X = XTrain2[(XTrain2.sender == current_sender)&(XTrain2.receiver == current_receiver)] \n",
    "    datum = datum + [maxi-max(current_X.date)]\n"
   ]
  },
  {
   "cell_type": "code",
   "execution_count": 229,
   "metadata": {
    "collapsed": false,
    "scrolled": true
   },
   "outputs": [
    {
     "data": {
      "text/plain": [
       "269"
      ]
     },
     "execution_count": 229,
     "metadata": {},
     "output_type": "execute_result"
    }
   ],
   "source": [
    "max(datum)"
   ]
  },
  {
   "cell_type": "code",
   "execution_count": 300,
   "metadata": {
    "collapsed": false
   },
   "outputs": [],
   "source": [
    "# Another way to collect the data\n",
    "\n",
    "senders = pd.unique(X_.sender)\n",
    "\n",
    "emails = {}\n",
    "results = {}\n",
    "\n",
    "for current_sender, current_receiver in pd.unique(zip(X_.sender, X_.receiver)):\n",
    "    current_X = X_[(X_.sender == current_sender)&(X_.receiver == current_receiver)] \n",
    "    \n",
    "    if len(current_X.date) >= 2:\n",
    "        Y = current_X\n",
    "        # Add the index as a variable\n",
    "        Y.index = range(len(Y))\n",
    "        Y = Y.reset_index(level = 0, inplace = False) \n",
    "        \n",
    "        # Linear regression\n",
    "        reg = ols('date ~ index', data = Y)\n",
    "        res = reg.fit()\n",
    "        \n",
    "#         Test set\n",
    "#         pred_X = XTest2[(XTest2.sender == current_sender)&(XTest2.receiver == current_receiver)] \n",
    "        \n",
    "        # Prediction \n",
    "        index = pd.Series(range(len(Y), len(Y) + 300), name='index')\n",
    "        Xtest = sm.add_constant(index)\n",
    "        pred_receiver = reg.predict(res.params, Xtest)\n",
    "        \n",
    "        #for day in pred_receiver:\n",
    "            #print datetime.fromordinal(int(round(day))).date()\n",
    "\n",
    "        # For displaying, use pd.unique for test set\n",
    "        pred_X = pd.Series(pd.unique(pred_X.date), name = 'date')\n",
    "        \n",
    "        #resultats = pd.concat([results, pd.Series(['NaN']*len(pred_X), name = (current_sender,current_receiver)), pred_X['date'], pd.Series(pred_receiver.round(), name = ('prediction ', (current_sender,current_receiver)))[:len(pred_X)]], axis = 1)\n",
    "        pred_receiver = pred_receiver.round()\n",
    "        pred_receiver = pred_receiver[pred_receiver <= maxi]\n",
    "        for j in range(len(pred_receiver)):\n",
    "            pred_receiver[j] = int(pred_receiver[j])\n",
    "            \n",
    "        results[(current_sender,current_receiver)] = pd.Series(pred_receiver)\n",
    "        \n",
    "        emails[(current_sender,current_receiver)] = pred_X\n",
    "  "
   ]
  },
  {
   "cell_type": "code",
   "execution_count": 301,
   "metadata": {
    "collapsed": false,
    "scrolled": true
   },
   "outputs": [],
   "source": [
    "# emails"
   ]
  },
  {
   "cell_type": "code",
   "execution_count": 304,
   "metadata": {
    "collapsed": false
   },
   "outputs": [
    {
     "data": {
      "text/plain": [
       "3339"
      ]
     },
     "execution_count": 304,
     "metadata": {},
     "output_type": "execute_result"
    }
   ],
   "source": [
    "len(results)"
   ]
  },
  {
   "cell_type": "code",
   "execution_count": 305,
   "metadata": {
    "collapsed": false,
    "scrolled": true
   },
   "outputs": [],
   "source": [
    "counts = {key: {'tp':0, 'nb_mails_test':0, 'nb_mails_pred':0} for key in results.keys()}\n",
    "#counts"
   ]
  },
  {
   "cell_type": "code",
   "execution_count": 306,
   "metadata": {
    "collapsed": false
   },
   "outputs": [],
   "source": [
    "for keys in results.keys():\n",
    "    tp_count = 0\n",
    "    for val in results[keys]:\n",
    "        if val in emails[keys]:\n",
    "            tp_count = tp_count + 1\n",
    "            \n",
    "    counts[keys]['tp'] = count\n",
    "    counts[keys]['nb_mails_pred'] = len(results[keys])\n",
    "    counts[keys]['nb_mails_test'] = len(emails[keys])\n"
   ]
  }
 ],
 "metadata": {
  "kernelspec": {
   "display_name": "Python 2",
   "language": "python",
   "name": "python2"
  },
  "language_info": {
   "codemirror_mode": {
    "name": "ipython",
    "version": 2
   },
   "file_extension": ".py",
   "mimetype": "text/x-python",
   "name": "python",
   "nbconvert_exporter": "python",
   "pygments_lexer": "ipython2",
   "version": "2.7.11"
  }
 },
 "nbformat": 4,
 "nbformat_minor": 0
}
