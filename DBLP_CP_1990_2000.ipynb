{
 "cells": [
  {
   "cell_type": "markdown",
   "metadata": {},
   "source": [
    "# CP Factorization"
   ]
  },
  {
   "cell_type": "markdown",
   "metadata": {},
   "source": [
    "## Initialization of libraries and Dataset"
   ]
  },
  {
   "cell_type": "code",
   "execution_count": 23,
   "metadata": {
    "collapsed": false
   },
   "outputs": [],
   "source": [
    "%matplotlib inline\n",
    "import os\n",
    "import sys\n",
    "import matplotlib\n",
    "import time\n",
    "\n",
    "import numpy as np\n",
    "import pandas as pd\n",
    "import matplotlib.pyplot as plt\n",
    "import networkx as nx\n",
    "import pickle\n",
    "from collections import defaultdict\n",
    "\n",
    "from datetime import datetime, date\n",
    "from sklearn.metrics import precision_recall_curve, average_precision_score\n",
    "\n",
    "from sktensor import dtensor, cp_als\n",
    "\n",
    "from numpy import linalg as LA\n",
    "\n",
    "matplotlib.style.use('ggplot')"
   ]
  },
  {
   "cell_type": "code",
   "execution_count": 24,
   "metadata": {
    "collapsed": false
   },
   "outputs": [],
   "source": [
    "df = pickle.load( open( \"dblp_inproceeding_10.p\", \"rb\" ) )"
   ]
  },
  {
   "cell_type": "code",
   "execution_count": 25,
   "metadata": {
    "collapsed": false
   },
   "outputs": [],
   "source": [
    "df_train = df[df.year>=1991]\n",
    "df_train = df[df.year<=2000]"
   ]
  },
  {
   "cell_type": "code",
   "execution_count": 26,
   "metadata": {
    "collapsed": false
   },
   "outputs": [],
   "source": [
    "df_test = df[df.year==2001]"
   ]
  },
  {
   "cell_type": "code",
   "execution_count": 27,
   "metadata": {
    "collapsed": false
   },
   "outputs": [
    {
     "data": {
      "text/plain": [
       "((572596, 3), (64233, 3))"
      ]
     },
     "execution_count": 27,
     "metadata": {},
     "output_type": "execute_result"
    }
   ],
   "source": [
    "df_train.shape, df_test.shape"
   ]
  },
  {
   "cell_type": "markdown",
   "metadata": {},
   "source": [
    "### More than 20 publications"
   ]
  },
  {
   "cell_type": "code",
   "execution_count": 29,
   "metadata": {
    "collapsed": true
   },
   "outputs": [],
   "source": [
    "author_list = pd.unique(df_train.iloc[:,0])"
   ]
  },
  {
   "cell_type": "code",
   "execution_count": 30,
   "metadata": {
    "collapsed": false,
    "scrolled": true
   },
   "outputs": [
    {
     "name": "stdout",
     "output_type": "stream",
     "text": [
      "1/53454 lines treated - 3 seconds elapsed\n",
      "10001/53454 lines treated - 3 seconds elapsed\n",
      "20001/53454 lines treated - 3 seconds elapsed\n",
      "30001/53454 lines treated - 3 seconds elapsed\n",
      "40001/53454 lines treated - 3 seconds elapsed\n",
      "50001/53454 lines treated - 3 seconds elapsed\n",
      "60001/53454 lines treated - 3 seconds elapsed\n",
      "70001/53454 lines treated - 3 seconds elapsed\n",
      "80001/53454 lines treated - 3 seconds elapsed\n",
      "90001/53454 lines treated - 3 seconds elapsed\n",
      "100001/53454 lines treated - 3 seconds elapsed\n",
      "110001/53454 lines treated - 3 seconds elapsed\n",
      "120001/53454 lines treated - 3 seconds elapsed\n",
      "130001/53454 lines treated - 3 seconds elapsed\n",
      "140001/53454 lines treated - 3 seconds elapsed\n",
      "150001/53454 lines treated - 3 seconds elapsed\n",
      "160001/53454 lines treated - 3 seconds elapsed\n",
      "170001/53454 lines treated - 3 seconds elapsed\n",
      "180001/53454 lines treated - 3 seconds elapsed\n",
      "190001/53454 lines treated - 3 seconds elapsed\n",
      "200001/53454 lines treated - 3 seconds elapsed\n",
      "210001/53454 lines treated - 3 seconds elapsed\n",
      "220001/53454 lines treated - 4 seconds elapsed\n",
      "230001/53454 lines treated - 4 seconds elapsed\n",
      "240001/53454 lines treated - 4 seconds elapsed\n",
      "250001/53454 lines treated - 4 seconds elapsed\n",
      "260001/53454 lines treated - 4 seconds elapsed\n",
      "270001/53454 lines treated - 4 seconds elapsed\n",
      "280001/53454 lines treated - 4 seconds elapsed\n",
      "290001/53454 lines treated - 4 seconds elapsed\n",
      "300001/53454 lines treated - 4 seconds elapsed\n",
      "310001/53454 lines treated - 4 seconds elapsed\n",
      "320001/53454 lines treated - 4 seconds elapsed\n",
      "330001/53454 lines treated - 4 seconds elapsed\n",
      "340001/53454 lines treated - 4 seconds elapsed\n",
      "350001/53454 lines treated - 4 seconds elapsed\n",
      "360001/53454 lines treated - 4 seconds elapsed\n",
      "370001/53454 lines treated - 4 seconds elapsed\n",
      "380001/53454 lines treated - 4 seconds elapsed\n",
      "390001/53454 lines treated - 4 seconds elapsed\n",
      "400001/53454 lines treated - 4 seconds elapsed\n",
      "410001/53454 lines treated - 4 seconds elapsed\n",
      "420001/53454 lines treated - 4 seconds elapsed\n",
      "430001/53454 lines treated - 4 seconds elapsed\n",
      "440001/53454 lines treated - 4 seconds elapsed\n",
      "450001/53454 lines treated - 4 seconds elapsed\n",
      "460001/53454 lines treated - 4 seconds elapsed\n",
      "470001/53454 lines treated - 4 seconds elapsed\n",
      "480001/53454 lines treated - 4 seconds elapsed\n",
      "490001/53454 lines treated - 4 seconds elapsed\n",
      "500001/53454 lines treated - 4 seconds elapsed\n",
      "510001/53454 lines treated - 4 seconds elapsed\n",
      "520001/53454 lines treated - 4 seconds elapsed\n",
      "530001/53454 lines treated - 4 seconds elapsed\n",
      "540001/53454 lines treated - 4 seconds elapsed\n",
      "550001/53454 lines treated - 4 seconds elapsed\n",
      "560001/53454 lines treated - 4 seconds elapsed\n",
      "570001/53454 lines treated - 4 seconds elapsed\n"
     ]
    }
   ],
   "source": [
    "# Get the indexes of each author\n",
    "\n",
    "temp = time.time()\n",
    "count = 0\n",
    "\n",
    "authors_indexes = [(element, index) for index, element in enumerate(df_train.author)]\n",
    "author_index = defaultdict(list)\n",
    "\n",
    "for k, v in authors_indexes:\n",
    "    if count % 10000 == 1:\n",
    "        print('%d/%d lines treated - %.0f seconds elapsed') %(count, len(author_list), time.time() - temp)\n",
    "  \n",
    "    author_index[k].append(v)\n",
    "    \n",
    "    count += 1"
   ]
  },
  {
   "cell_type": "code",
   "execution_count": 31,
   "metadata": {
    "collapsed": true
   },
   "outputs": [],
   "source": [
    "# Keep the authors with more than 20 publications\n",
    "author_index_sorted = []\n",
    "\n",
    "for author in author_list : \n",
    "    if len(author_index[author]) > 20 :\n",
    "        author_index_sorted += author_index[author]"
   ]
  },
  {
   "cell_type": "code",
   "execution_count": 32,
   "metadata": {
    "collapsed": true
   },
   "outputs": [],
   "source": [
    "df_train = df_train[df_train.index.isin(author_index_sorted)]"
   ]
  },
  {
   "cell_type": "code",
   "execution_count": 33,
   "metadata": {
    "collapsed": false
   },
   "outputs": [],
   "source": [
    "df_test = df_test[df_test.author.isin(df_train.author)]\n",
    "df_test = df_test[df_test.crossref.isin(df_train.crossref)]"
   ]
  },
  {
   "cell_type": "code",
   "execution_count": 34,
   "metadata": {
    "collapsed": false
   },
   "outputs": [
    {
     "data": {
      "text/plain": [
       "((122244, 3), (4821, 3))"
      ]
     },
     "execution_count": 34,
     "metadata": {},
     "output_type": "execute_result"
    }
   ],
   "source": [
    "df_train.shape, df_test.shape"
   ]
  },
  {
   "cell_type": "code",
   "execution_count": 35,
   "metadata": {
    "collapsed": true
   },
   "outputs": [],
   "source": [
    "del df"
   ]
  },
  {
   "cell_type": "markdown",
   "metadata": {
    "collapsed": true
   },
   "source": [
    "### Create the training tensor"
   ]
  },
  {
   "cell_type": "code",
   "execution_count": 36,
   "metadata": {
    "collapsed": false
   },
   "outputs": [],
   "source": [
    "author_list = pd.unique(df_train.iloc[:, 0])\n",
    "conf_list = pd.unique(df_train.iloc[:, 2])\n",
    "year_list = pd.unique(df_train.iloc[:, 1])\n",
    "\n",
    "year_list.sort()\n",
    "\n",
    "author_dic = {element : index for index, element in enumerate(author_list)}\n",
    "conf_dic =   {element : index for index, element in enumerate(conf_list)}\n",
    "year_dic =   {element : index for index, element in enumerate(year_list)}\n",
    "\n",
    "T_train = np.zeros((len(author_list), len(conf_list), len(year_list)))\n",
    "T_train = dtensor(T_train)"
   ]
  },
  {
   "cell_type": "code",
   "execution_count": 37,
   "metadata": {
    "collapsed": false,
    "scrolled": true
   },
   "outputs": [
    {
     "name": "stdout",
     "output_type": "stream",
     "text": [
      "1/122244 (df.author, df.crossref, df.year) treated - 0 seconds elapsed\n",
      "100001/122244 (df.author, df.crossref, df.year) treated - 1 seconds elapsed\n",
      "1.04016494751\n"
     ]
    }
   ],
   "source": [
    "# Going through the dataframe\n",
    "t_temp = time.time()\n",
    "i = 0\n",
    "\n",
    "L = len(zip(df_train.author, df_train.crossref, df_train.year))\n",
    "\n",
    "for a, c, y in zip(df_train.author, df_train.crossref, df_train.year):\n",
    "    if i % 100000 == 1:\n",
    "        print('%d/%d (df.author, df.crossref, df.year) treated - %.0f seconds elapsed') %(i, L, time.time() - t_temp)\n",
    "        \n",
    "    # Finding the corresponding index in the tensor\n",
    "    a_ind = author_dic[a]\n",
    "    c_ind = conf_dic[c]\n",
    "    y_ind = year_dic[y]\n",
    "    \n",
    "    # Modifying the tensor value for the tuple (i_ind, j_ind, k_ind)\n",
    "    T_train[a_ind, c_ind, y_ind] += 1\n",
    "    \n",
    "    i +=1\n",
    "\n",
    "print time.time()-t_temp    "
   ]
  },
  {
   "cell_type": "code",
   "execution_count": 38,
   "metadata": {
    "collapsed": false
   },
   "outputs": [],
   "source": [
    "# Logarithmic Transformation\n",
    "nonz = T_train.nonzero()\n",
    "for ind in range(len(nonz[0])):\n",
    "    i_ind = nonz[0][ind]\n",
    "    j_ind = nonz[1][ind] \n",
    "    k_ind = nonz[2][ind]\n",
    "    \n",
    "    T_train[i_ind, j_ind, k_ind] = 1 + np.log(T_train[i_ind, j_ind, k_ind]) "
   ]
  },
  {
   "cell_type": "code",
   "execution_count": 39,
   "metadata": {
    "collapsed": false,
    "scrolled": false
   },
   "outputs": [
    {
     "data": {
      "text/plain": [
       "(39827, 1457, 10)"
      ]
     },
     "execution_count": 39,
     "metadata": {},
     "output_type": "execute_result"
    }
   ],
   "source": [
    "T_train.shape"
   ]
  },
  {
   "cell_type": "markdown",
   "metadata": {},
   "source": [
    "### Create the test tensor"
   ]
  },
  {
   "cell_type": "code",
   "execution_count": 40,
   "metadata": {
    "collapsed": true
   },
   "outputs": [],
   "source": [
    "author_list_train = author_list\n",
    "conf_list_train = conf_list\n",
    "author_dic_train = author_dic\n",
    "conf_dic_train = conf_dic"
   ]
  },
  {
   "cell_type": "code",
   "execution_count": 41,
   "metadata": {
    "collapsed": true
   },
   "outputs": [],
   "source": [
    "author_list = pd.unique(df_test.iloc[:, 0])\n",
    "conf_list = pd.unique(df_test.iloc[:, 2])\n",
    "\n",
    "author_dic = {element : index for index, element in enumerate(author_list)}\n",
    "conf_dic =   {element : index for index, element in enumerate(conf_list)}\n",
    "\n",
    "T_test = np.zeros((len(author_list_train), len(conf_list_train)))"
   ]
  },
  {
   "cell_type": "code",
   "execution_count": 42,
   "metadata": {
    "collapsed": false,
    "scrolled": true
   },
   "outputs": [
    {
     "name": "stdout",
     "output_type": "stream",
     "text": [
      "1/4821 (df.author, df.crossref, df.year) treated - 0 seconds elapsed\n",
      "1001/4821 (df.author, df.crossref, df.year) treated - 0 seconds elapsed\n",
      "2001/4821 (df.author, df.crossref, df.year) treated - 0 seconds elapsed\n",
      "3001/4821 (df.author, df.crossref, df.year) treated - 0 seconds elapsed\n",
      "4001/4821 (df.author, df.crossref, df.year) treated - 0 seconds elapsed\n",
      "0.324599027634\n"
     ]
    }
   ],
   "source": [
    "# Going through the dataframe\n",
    "t_temp = time.time()\n",
    "i = 0\n",
    "\n",
    "L = len(zip(df_test.author, df_test.crossref))\n",
    "\n",
    "for a, c in zip(df_test.author, df_test.crossref):\n",
    "    if i % 1000 == 1:\n",
    "        print('%d/%d (df.author, df.crossref, df.year) treated - %.0f seconds elapsed') %(i, L, time.time() - t_temp)\n",
    "\n",
    "    # Finding the corresponding index in the tensor\n",
    "    a_ind = author_dic_train[a]\n",
    "    c_ind = conf_dic_train[c]\n",
    "\n",
    "    # Modifying the tensor value for the tuple (i_ind, j_ind, k_ind)\n",
    "    T_test[a_ind, c_ind] = 1\n",
    "\n",
    "    i +=1\n",
    "\n",
    "print time.time()-t_temp    "
   ]
  },
  {
   "cell_type": "code",
   "execution_count": 43,
   "metadata": {
    "collapsed": false
   },
   "outputs": [],
   "source": [
    "del author_list_train, conf_list_train, author_list, conf_list, author_dic, conf_dic"
   ]
  },
  {
   "cell_type": "markdown",
   "metadata": {},
   "source": [
    "## Tensor Factorization"
   ]
  },
  {
   "cell_type": "code",
   "execution_count": 44,
   "metadata": {
    "collapsed": true
   },
   "outputs": [],
   "source": [
    "#Proportion of non-zero entries of the tensor\n",
    "mail_rate = np.count_nonzero(T_train) / float(T_train.shape[0] * T_train.shape[1] * T_train.shape[2])"
   ]
  },
  {
   "cell_type": "code",
   "execution_count": 45,
   "metadata": {
    "collapsed": false
   },
   "outputs": [
    {
     "data": {
      "text/plain": [
       "0.00011316962334299"
      ]
     },
     "execution_count": 45,
     "metadata": {},
     "output_type": "execute_result"
    }
   ],
   "source": [
    "mail_rate"
   ]
  },
  {
   "cell_type": "markdown",
   "metadata": {},
   "source": [
    "### CanDecom/ParaFac (CP) Decomposition"
   ]
  },
  {
   "cell_type": "code",
   "execution_count": 46,
   "metadata": {
    "collapsed": false
   },
   "outputs": [],
   "source": [
    "# Defining a function for the outer product of several vectors\n",
    "def Outer(vecs):\n",
    "    # vecs can be either a list of vectors (n vectors of dimensions (**,1)) or an array of dimensions (**, n)\n",
    "    vec_list = []\n",
    "    if isinstance(vecs, list):\n",
    "        vec_list = vecs\n",
    "    elif isinstance(vecs, np.ndarray):\n",
    "        vec_list = [vecs[:, j] for j in range(vecs.shape[1])]        \n",
    "\n",
    "    res = reduce(np.multiply, np.ix_(*vec_list))\n",
    "    return res"
   ]
  },
  {
   "cell_type": "code",
   "execution_count": 80,
   "metadata": {
    "collapsed": false,
    "scrolled": true
   },
   "outputs": [
    {
     "ename": "KeyboardInterrupt",
     "evalue": "",
     "output_type": "error",
     "traceback": [
      "\u001b[0;31m---------------------------------------------------------------------------\u001b[0m",
      "\u001b[0;31mKeyboardInterrupt\u001b[0m                         Traceback (most recent call last)",
      "\u001b[0;32m<ipython-input-80-36635116c394>\u001b[0m in \u001b[0;36m<module>\u001b[0;34m()\u001b[0m\n\u001b[1;32m      1\u001b[0m \u001b[0mK\u001b[0m \u001b[0;34m=\u001b[0m \u001b[0;36m3\u001b[0m \u001b[0;31m# rank parameter of the CP\u001b[0m\u001b[0;34m\u001b[0m\u001b[0m\n\u001b[0;32m----> 2\u001b[0;31m \u001b[0mget_ipython\u001b[0m\u001b[0;34m(\u001b[0m\u001b[0;34m)\u001b[0m\u001b[0;34m.\u001b[0m\u001b[0mmagic\u001b[0m\u001b[0;34m(\u001b[0m\u001b[0;34mu\"time P, fit, itr, exectimes = cp_als(T_train, K, init='random')\"\u001b[0m\u001b[0;34m)\u001b[0m\u001b[0;34m\u001b[0m\u001b[0m\n\u001b[0m\u001b[1;32m      3\u001b[0m \u001b[0mA\u001b[0m\u001b[0;34m,\u001b[0m \u001b[0mB\u001b[0m\u001b[0;34m,\u001b[0m \u001b[0mC\u001b[0m \u001b[0;34m=\u001b[0m \u001b[0mP\u001b[0m\u001b[0;34m.\u001b[0m\u001b[0mU\u001b[0m\u001b[0;34m\u001b[0m\u001b[0m\n",
      "\u001b[0;32m/Users/SylviePou/anaconda/lib/python2.7/site-packages/IPython/core/interactiveshell.pyc\u001b[0m in \u001b[0;36mmagic\u001b[0;34m(self, arg_s)\u001b[0m\n\u001b[1;32m   2161\u001b[0m         \u001b[0mmagic_name\u001b[0m\u001b[0;34m,\u001b[0m \u001b[0m_\u001b[0m\u001b[0;34m,\u001b[0m \u001b[0mmagic_arg_s\u001b[0m \u001b[0;34m=\u001b[0m \u001b[0marg_s\u001b[0m\u001b[0;34m.\u001b[0m\u001b[0mpartition\u001b[0m\u001b[0;34m(\u001b[0m\u001b[0;34m' '\u001b[0m\u001b[0;34m)\u001b[0m\u001b[0;34m\u001b[0m\u001b[0m\n\u001b[1;32m   2162\u001b[0m         \u001b[0mmagic_name\u001b[0m \u001b[0;34m=\u001b[0m \u001b[0mmagic_name\u001b[0m\u001b[0;34m.\u001b[0m\u001b[0mlstrip\u001b[0m\u001b[0;34m(\u001b[0m\u001b[0mprefilter\u001b[0m\u001b[0;34m.\u001b[0m\u001b[0mESC_MAGIC\u001b[0m\u001b[0;34m)\u001b[0m\u001b[0;34m\u001b[0m\u001b[0m\n\u001b[0;32m-> 2163\u001b[0;31m         \u001b[0;32mreturn\u001b[0m \u001b[0mself\u001b[0m\u001b[0;34m.\u001b[0m\u001b[0mrun_line_magic\u001b[0m\u001b[0;34m(\u001b[0m\u001b[0mmagic_name\u001b[0m\u001b[0;34m,\u001b[0m \u001b[0mmagic_arg_s\u001b[0m\u001b[0;34m)\u001b[0m\u001b[0;34m\u001b[0m\u001b[0m\n\u001b[0m\u001b[1;32m   2164\u001b[0m \u001b[0;34m\u001b[0m\u001b[0m\n\u001b[1;32m   2165\u001b[0m     \u001b[0;31m#-------------------------------------------------------------------------\u001b[0m\u001b[0;34m\u001b[0m\u001b[0;34m\u001b[0m\u001b[0m\n",
      "\u001b[0;32m/Users/SylviePou/anaconda/lib/python2.7/site-packages/IPython/core/interactiveshell.pyc\u001b[0m in \u001b[0;36mrun_line_magic\u001b[0;34m(self, magic_name, line)\u001b[0m\n\u001b[1;32m   2082\u001b[0m                 \u001b[0mkwargs\u001b[0m\u001b[0;34m[\u001b[0m\u001b[0;34m'local_ns'\u001b[0m\u001b[0;34m]\u001b[0m \u001b[0;34m=\u001b[0m \u001b[0msys\u001b[0m\u001b[0;34m.\u001b[0m\u001b[0m_getframe\u001b[0m\u001b[0;34m(\u001b[0m\u001b[0mstack_depth\u001b[0m\u001b[0;34m)\u001b[0m\u001b[0;34m.\u001b[0m\u001b[0mf_locals\u001b[0m\u001b[0;34m\u001b[0m\u001b[0m\n\u001b[1;32m   2083\u001b[0m             \u001b[0;32mwith\u001b[0m \u001b[0mself\u001b[0m\u001b[0;34m.\u001b[0m\u001b[0mbuiltin_trap\u001b[0m\u001b[0;34m:\u001b[0m\u001b[0;34m\u001b[0m\u001b[0m\n\u001b[0;32m-> 2084\u001b[0;31m                 \u001b[0mresult\u001b[0m \u001b[0;34m=\u001b[0m \u001b[0mfn\u001b[0m\u001b[0;34m(\u001b[0m\u001b[0;34m*\u001b[0m\u001b[0margs\u001b[0m\u001b[0;34m,\u001b[0m\u001b[0;34m**\u001b[0m\u001b[0mkwargs\u001b[0m\u001b[0;34m)\u001b[0m\u001b[0;34m\u001b[0m\u001b[0m\n\u001b[0m\u001b[1;32m   2085\u001b[0m             \u001b[0;32mreturn\u001b[0m \u001b[0mresult\u001b[0m\u001b[0;34m\u001b[0m\u001b[0m\n\u001b[1;32m   2086\u001b[0m \u001b[0;34m\u001b[0m\u001b[0m\n",
      "\u001b[0;32m<decorator-gen-60>\u001b[0m in \u001b[0;36mtime\u001b[0;34m(self, line, cell, local_ns)\u001b[0m\n",
      "\u001b[0;32m/Users/SylviePou/anaconda/lib/python2.7/site-packages/IPython/core/magic.pyc\u001b[0m in \u001b[0;36m<lambda>\u001b[0;34m(f, *a, **k)\u001b[0m\n\u001b[1;32m    191\u001b[0m     \u001b[0;31m# but it's overkill for just that one bit of state.\u001b[0m\u001b[0;34m\u001b[0m\u001b[0;34m\u001b[0m\u001b[0m\n\u001b[1;32m    192\u001b[0m     \u001b[0;32mdef\u001b[0m \u001b[0mmagic_deco\u001b[0m\u001b[0;34m(\u001b[0m\u001b[0marg\u001b[0m\u001b[0;34m)\u001b[0m\u001b[0;34m:\u001b[0m\u001b[0;34m\u001b[0m\u001b[0m\n\u001b[0;32m--> 193\u001b[0;31m         \u001b[0mcall\u001b[0m \u001b[0;34m=\u001b[0m \u001b[0;32mlambda\u001b[0m \u001b[0mf\u001b[0m\u001b[0;34m,\u001b[0m \u001b[0;34m*\u001b[0m\u001b[0ma\u001b[0m\u001b[0;34m,\u001b[0m \u001b[0;34m**\u001b[0m\u001b[0mk\u001b[0m\u001b[0;34m:\u001b[0m \u001b[0mf\u001b[0m\u001b[0;34m(\u001b[0m\u001b[0;34m*\u001b[0m\u001b[0ma\u001b[0m\u001b[0;34m,\u001b[0m \u001b[0;34m**\u001b[0m\u001b[0mk\u001b[0m\u001b[0;34m)\u001b[0m\u001b[0;34m\u001b[0m\u001b[0m\n\u001b[0m\u001b[1;32m    194\u001b[0m \u001b[0;34m\u001b[0m\u001b[0m\n\u001b[1;32m    195\u001b[0m         \u001b[0;32mif\u001b[0m \u001b[0mcallable\u001b[0m\u001b[0;34m(\u001b[0m\u001b[0marg\u001b[0m\u001b[0;34m)\u001b[0m\u001b[0;34m:\u001b[0m\u001b[0;34m\u001b[0m\u001b[0m\n",
      "\u001b[0;32m/Users/SylviePou/anaconda/lib/python2.7/site-packages/IPython/core/magics/execution.pyc\u001b[0m in \u001b[0;36mtime\u001b[0;34m(self, line, cell, local_ns)\u001b[0m\n\u001b[1;32m   1175\u001b[0m         \u001b[0;32melse\u001b[0m\u001b[0;34m:\u001b[0m\u001b[0;34m\u001b[0m\u001b[0m\n\u001b[1;32m   1176\u001b[0m             \u001b[0mst\u001b[0m \u001b[0;34m=\u001b[0m \u001b[0mclock2\u001b[0m\u001b[0;34m(\u001b[0m\u001b[0;34m)\u001b[0m\u001b[0;34m\u001b[0m\u001b[0m\n\u001b[0;32m-> 1177\u001b[0;31m             \u001b[0;32mexec\u001b[0m\u001b[0;34m(\u001b[0m\u001b[0mcode\u001b[0m\u001b[0;34m,\u001b[0m \u001b[0mglob\u001b[0m\u001b[0;34m,\u001b[0m \u001b[0mlocal_ns\u001b[0m\u001b[0;34m)\u001b[0m\u001b[0;34m\u001b[0m\u001b[0m\n\u001b[0m\u001b[1;32m   1178\u001b[0m             \u001b[0mend\u001b[0m \u001b[0;34m=\u001b[0m \u001b[0mclock2\u001b[0m\u001b[0;34m(\u001b[0m\u001b[0;34m)\u001b[0m\u001b[0;34m\u001b[0m\u001b[0m\n\u001b[1;32m   1179\u001b[0m             \u001b[0mout\u001b[0m \u001b[0;34m=\u001b[0m \u001b[0mNone\u001b[0m\u001b[0;34m\u001b[0m\u001b[0m\n",
      "\u001b[0;32m<timed exec>\u001b[0m in \u001b[0;36m<module>\u001b[0;34m()\u001b[0m\n",
      "\u001b[0;32m/Users/SylviePou/.local/lib/python2.7/site-packages/scikit_tensor-0.1-py2.7.egg/sktensor/cp.pyc\u001b[0m in \u001b[0;36mals\u001b[0;34m(X, rank, **kwargs)\u001b[0m\n\u001b[1;32m    141\u001b[0m \u001b[0;34m\u001b[0m\u001b[0m\n\u001b[1;32m    142\u001b[0m         \u001b[0;32mfor\u001b[0m \u001b[0mn\u001b[0m \u001b[0;32min\u001b[0m \u001b[0mrange\u001b[0m\u001b[0;34m(\u001b[0m\u001b[0mN\u001b[0m\u001b[0;34m)\u001b[0m\u001b[0;34m:\u001b[0m\u001b[0;34m\u001b[0m\u001b[0m\n\u001b[0;32m--> 143\u001b[0;31m             \u001b[0mUnew\u001b[0m \u001b[0;34m=\u001b[0m \u001b[0mX\u001b[0m\u001b[0;34m.\u001b[0m\u001b[0muttkrp\u001b[0m\u001b[0;34m(\u001b[0m\u001b[0mU\u001b[0m\u001b[0;34m,\u001b[0m \u001b[0mn\u001b[0m\u001b[0;34m)\u001b[0m\u001b[0;34m\u001b[0m\u001b[0m\n\u001b[0m\u001b[1;32m    144\u001b[0m             \u001b[0mY\u001b[0m \u001b[0;34m=\u001b[0m \u001b[0mones\u001b[0m\u001b[0;34m(\u001b[0m\u001b[0;34m(\u001b[0m\u001b[0mrank\u001b[0m\u001b[0;34m,\u001b[0m \u001b[0mrank\u001b[0m\u001b[0;34m)\u001b[0m\u001b[0;34m,\u001b[0m \u001b[0mdtype\u001b[0m\u001b[0;34m=\u001b[0m\u001b[0mdtype\u001b[0m\u001b[0;34m)\u001b[0m\u001b[0;34m\u001b[0m\u001b[0m\n\u001b[1;32m    145\u001b[0m             \u001b[0;32mfor\u001b[0m \u001b[0mi\u001b[0m \u001b[0;32min\u001b[0m \u001b[0;34m(\u001b[0m\u001b[0mlist\u001b[0m\u001b[0;34m(\u001b[0m\u001b[0mrange\u001b[0m\u001b[0;34m(\u001b[0m\u001b[0mn\u001b[0m\u001b[0;34m)\u001b[0m\u001b[0;34m)\u001b[0m \u001b[0;34m+\u001b[0m \u001b[0mlist\u001b[0m\u001b[0;34m(\u001b[0m\u001b[0mrange\u001b[0m\u001b[0;34m(\u001b[0m\u001b[0mn\u001b[0m \u001b[0;34m+\u001b[0m \u001b[0;36m1\u001b[0m\u001b[0;34m,\u001b[0m \u001b[0mN\u001b[0m\u001b[0;34m)\u001b[0m\u001b[0;34m)\u001b[0m\u001b[0;34m)\u001b[0m\u001b[0;34m:\u001b[0m\u001b[0;34m\u001b[0m\u001b[0m\n",
      "\u001b[0;32m/Users/SylviePou/.local/lib/python2.7/site-packages/scikit_tensor-0.1-py2.7.egg/sktensor/dtensor.pyc\u001b[0m in \u001b[0;36muttkrp\u001b[0;34m(self, U, n)\u001b[0m\n\u001b[1;32m    165\u001b[0m         \u001b[0morder\u001b[0m \u001b[0;34m=\u001b[0m \u001b[0mlist\u001b[0m\u001b[0;34m(\u001b[0m\u001b[0mrange\u001b[0m\u001b[0;34m(\u001b[0m\u001b[0mn\u001b[0m\u001b[0;34m)\u001b[0m\u001b[0;34m)\u001b[0m \u001b[0;34m+\u001b[0m \u001b[0mlist\u001b[0m\u001b[0;34m(\u001b[0m\u001b[0mrange\u001b[0m\u001b[0;34m(\u001b[0m\u001b[0mn\u001b[0m \u001b[0;34m+\u001b[0m \u001b[0;36m1\u001b[0m\u001b[0;34m,\u001b[0m \u001b[0mself\u001b[0m\u001b[0;34m.\u001b[0m\u001b[0mndim\u001b[0m\u001b[0;34m)\u001b[0m\u001b[0;34m)\u001b[0m\u001b[0;34m\u001b[0m\u001b[0m\n\u001b[1;32m    166\u001b[0m         \u001b[0mZ\u001b[0m \u001b[0;34m=\u001b[0m \u001b[0mkhatrirao\u001b[0m\u001b[0;34m(\u001b[0m\u001b[0mtuple\u001b[0m\u001b[0;34m(\u001b[0m\u001b[0mU\u001b[0m\u001b[0;34m[\u001b[0m\u001b[0mi\u001b[0m\u001b[0;34m]\u001b[0m \u001b[0;32mfor\u001b[0m \u001b[0mi\u001b[0m \u001b[0;32min\u001b[0m \u001b[0morder\u001b[0m\u001b[0;34m)\u001b[0m\u001b[0;34m,\u001b[0m \u001b[0mreverse\u001b[0m\u001b[0;34m=\u001b[0m\u001b[0mTrue\u001b[0m\u001b[0;34m)\u001b[0m\u001b[0;34m\u001b[0m\u001b[0m\n\u001b[0;32m--> 167\u001b[0;31m         \u001b[0;32mreturn\u001b[0m \u001b[0mself\u001b[0m\u001b[0;34m.\u001b[0m\u001b[0munfold\u001b[0m\u001b[0;34m(\u001b[0m\u001b[0mn\u001b[0m\u001b[0;34m)\u001b[0m\u001b[0;34m.\u001b[0m\u001b[0mdot\u001b[0m\u001b[0;34m(\u001b[0m\u001b[0mZ\u001b[0m\u001b[0;34m)\u001b[0m\u001b[0;34m\u001b[0m\u001b[0m\n\u001b[0m\u001b[1;32m    168\u001b[0m \u001b[0;34m\u001b[0m\u001b[0m\n\u001b[1;32m    169\u001b[0m     \u001b[0;34m@\u001b[0m\u001b[0minherit_docstring_from\u001b[0m\u001b[0;34m(\u001b[0m\u001b[0mtensor_mixin\u001b[0m\u001b[0;34m)\u001b[0m\u001b[0;34m\u001b[0m\u001b[0m\n",
      "\u001b[0;32m/Users/SylviePou/.local/lib/python2.7/site-packages/scikit_tensor-0.1-py2.7.egg/sktensor/dtensor.pyc\u001b[0m in \u001b[0;36munfold\u001b[0;34m(self, mode)\u001b[0m\n\u001b[1;32m    147\u001b[0m         \u001b[0mnewsz\u001b[0m \u001b[0;34m=\u001b[0m \u001b[0;34m(\u001b[0m\u001b[0msz\u001b[0m\u001b[0;34m[\u001b[0m\u001b[0morder\u001b[0m\u001b[0;34m[\u001b[0m\u001b[0;36m0\u001b[0m\u001b[0;34m]\u001b[0m\u001b[0;34m]\u001b[0m\u001b[0;34m[\u001b[0m\u001b[0;36m0\u001b[0m\u001b[0;34m]\u001b[0m\u001b[0;34m,\u001b[0m \u001b[0mprod\u001b[0m\u001b[0;34m(\u001b[0m\u001b[0msz\u001b[0m\u001b[0;34m[\u001b[0m\u001b[0morder\u001b[0m\u001b[0;34m[\u001b[0m\u001b[0;36m1\u001b[0m\u001b[0;34m]\u001b[0m\u001b[0;34m]\u001b[0m\u001b[0;34m)\u001b[0m\u001b[0;34m)\u001b[0m\u001b[0;34m\u001b[0m\u001b[0m\n\u001b[1;32m    148\u001b[0m         \u001b[0marr\u001b[0m \u001b[0;34m=\u001b[0m \u001b[0mself\u001b[0m\u001b[0;34m.\u001b[0m\u001b[0mtranspose\u001b[0m\u001b[0;34m(\u001b[0m\u001b[0maxes\u001b[0m\u001b[0;34m=\u001b[0m\u001b[0;34m(\u001b[0m\u001b[0morder\u001b[0m\u001b[0;34m[\u001b[0m\u001b[0;36m0\u001b[0m\u001b[0;34m]\u001b[0m \u001b[0;34m+\u001b[0m \u001b[0morder\u001b[0m\u001b[0;34m[\u001b[0m\u001b[0;36m1\u001b[0m\u001b[0;34m]\u001b[0m\u001b[0;34m)\u001b[0m\u001b[0;34m)\u001b[0m\u001b[0;34m\u001b[0m\u001b[0m\n\u001b[0;32m--> 149\u001b[0;31m         \u001b[0marr\u001b[0m \u001b[0;34m=\u001b[0m \u001b[0marr\u001b[0m\u001b[0;34m.\u001b[0m\u001b[0mreshape\u001b[0m\u001b[0;34m(\u001b[0m\u001b[0mnewsz\u001b[0m\u001b[0;34m)\u001b[0m\u001b[0;34m\u001b[0m\u001b[0m\n\u001b[0m\u001b[1;32m    150\u001b[0m         \u001b[0;32mreturn\u001b[0m \u001b[0munfolded_dtensor\u001b[0m\u001b[0;34m(\u001b[0m\u001b[0marr\u001b[0m\u001b[0;34m,\u001b[0m \u001b[0mmode\u001b[0m\u001b[0;34m,\u001b[0m \u001b[0mself\u001b[0m\u001b[0;34m.\u001b[0m\u001b[0mshape\u001b[0m\u001b[0;34m)\u001b[0m\u001b[0;34m\u001b[0m\u001b[0m\n\u001b[1;32m    151\u001b[0m \u001b[0;34m\u001b[0m\u001b[0m\n",
      "\u001b[0;31mKeyboardInterrupt\u001b[0m: "
     ]
    }
   ],
   "source": [
    "K = 3 # rank parameter of the CP\n",
    "%time P, fit, itr, exectimes = cp_als(T_train, K, init='random')\n",
    "A, B, C = P.U"
   ]
  },
  {
   "cell_type": "code",
   "execution_count": 48,
   "metadata": {
    "collapsed": false
   },
   "outputs": [],
   "source": [
    "# Two equivalent ways of computing the approximation of T_train\n",
    "\n",
    "#T_approx1 = P.totensor()\n",
    "#T_approx2 = sum(map(lambda x: P.lmbda[x]*Outer([A[:, x],\n",
    "#                                                B[:, x],\n",
    "#                                                C[:, x]]), range(K)))\n",
    "\n",
    "#np.allclose(T_approx1, T_approx2)"
   ]
  },
  {
   "cell_type": "code",
   "execution_count": 15,
   "metadata": {
    "collapsed": true
   },
   "outputs": [],
   "source": [
    "del T_approx1, T_approx2"
   ]
  },
  {
   "cell_type": "markdown",
   "metadata": {},
   "source": [
    "### CP Scoring"
   ]
  },
  {
   "cell_type": "code",
   "execution_count": 33,
   "metadata": {
    "collapsed": false
   },
   "outputs": [
    {
     "ename": "IndexError",
     "evalue": "index 18 is out of bounds for axis 0 with size 16",
     "output_type": "error",
     "traceback": [
      "\u001b[0;31m---------------------------------------------------------------------------\u001b[0m",
      "\u001b[0;31mIndexError\u001b[0m                                Traceback (most recent call last)",
      "\u001b[0;32m<ipython-input-33-3e7e42cd1b30>\u001b[0m in \u001b[0;36m<module>\u001b[0;34m()\u001b[0m\n\u001b[1;32m      5\u001b[0m S = sum(map(lambda x: gamma[x]*P.lmbda[x]*Outer([A[:, x],\n\u001b[1;32m      6\u001b[0m                                                  B[:, x]]), range(K)))\n\u001b[0;32m----> 7\u001b[0;31m print('Predicting time: %s \\nTraining window: %d to %d \\nTau_Window: %d dates from %d to %d' %(int(year_list[t_1][:4]),\n\u001b[0m\u001b[1;32m      8\u001b[0m                                                                                                \u001b[0mint\u001b[0m\u001b[0;34m(\u001b[0m\u001b[0myear_list\u001b[0m\u001b[0;34m[\u001b[0m\u001b[0mt_0\u001b[0m\u001b[0;34m]\u001b[0m\u001b[0;34m[\u001b[0m\u001b[0;34m:\u001b[0m\u001b[0;36m4\u001b[0m\u001b[0;34m]\u001b[0m\u001b[0;34m)\u001b[0m\u001b[0;34m,\u001b[0m\u001b[0;34m\u001b[0m\u001b[0m\n\u001b[1;32m      9\u001b[0m                                                                                                \u001b[0mint\u001b[0m\u001b[0;34m(\u001b[0m\u001b[0myear_list\u001b[0m\u001b[0;34m[\u001b[0m\u001b[0mt_1\u001b[0m\u001b[0;34m-\u001b[0m\u001b[0;36m1\u001b[0m\u001b[0;34m]\u001b[0m\u001b[0;34m[\u001b[0m\u001b[0;34m:\u001b[0m\u001b[0;36m4\u001b[0m\u001b[0;34m]\u001b[0m\u001b[0;34m)\u001b[0m\u001b[0;34m,\u001b[0m\u001b[0;34m\u001b[0m\u001b[0m\n",
      "\u001b[0;31mIndexError\u001b[0m: index 18 is out of bounds for axis 0 with size 16"
     ]
    }
   ],
   "source": [
    "# Collapsed Unweighted Tensor [P04]\n",
    "tau = 2\n",
    "gamma = sum(C[-tau:, :], 0)  # The temporal coefficient\n",
    "\n",
    "S = sum(map(lambda x: gamma[x]*P.lmbda[x]*Outer([A[:, x],\n",
    "                                                 B[:, x]]), range(K)))\n",
    "print('Predicting time: %s \\nTraining window: %d to %d \\nTau_Window: %d dates from %d to %d' %(int(year_list[t_1][:4]),\n",
    "                                                                                               int(year_list[t_0][:4]),\n",
    "                                                                                               int(year_list[t_1-1][:4]),\n",
    "                                                                                               tau,\n",
    "                                                                                               int(year_list[t_1-tau][:4]),\n",
    "                                                                                               int(year_list[t_1-1][:4])))"
   ]
  },
  {
   "cell_type": "code",
   "execution_count": 19,
   "metadata": {
    "collapsed": true
   },
   "outputs": [],
   "source": [
    "del A, B, C"
   ]
  },
  {
   "cell_type": "code",
   "execution_count": 51,
   "metadata": {
    "collapsed": false
   },
   "outputs": [],
   "source": [
    "#Converting S into S_pred, a binary matrix\n",
    "#thres = 1  # If the score above thres, we predict an email\n",
    "\n",
    "#S_pred = (1*(S >= thres))\n",
    "#S_test = (1*np.array(T_test[:, :] >= 1))"
   ]
  },
  {
   "cell_type": "code",
   "execution_count": 21,
   "metadata": {
    "collapsed": false
   },
   "outputs": [
    {
     "data": {
      "text/plain": [
       "-1.6857733187223011e-07"
      ]
     },
     "execution_count": 21,
     "metadata": {},
     "output_type": "execute_result"
    }
   ],
   "source": [
    "S.min()"
   ]
  },
  {
   "cell_type": "code",
   "execution_count": 22,
   "metadata": {
    "collapsed": false
   },
   "outputs": [
    {
     "data": {
      "text/plain": [
       "0.00019981750240964961"
      ]
     },
     "execution_count": 22,
     "metadata": {},
     "output_type": "execute_result"
    }
   ],
   "source": [
    "S.max()"
   ]
  },
  {
   "cell_type": "markdown",
   "metadata": {},
   "source": [
    "## Scoring Analysis"
   ]
  },
  {
   "cell_type": "markdown",
   "metadata": {},
   "source": [
    "### Maximal prediction"
   ]
  },
  {
   "cell_type": "code",
   "execution_count": 30,
   "metadata": {
    "collapsed": false
   },
   "outputs": [
    {
     "ename": "NameError",
     "evalue": "name 'i_list' is not defined",
     "output_type": "error",
     "traceback": [
      "\u001b[0;31m---------------------------------------------------------------------------\u001b[0m",
      "\u001b[0;31mNameError\u001b[0m                                 Traceback (most recent call last)",
      "\u001b[0;32m<ipython-input-30-cfc94191f6c8>\u001b[0m in \u001b[0;36m<module>\u001b[0;34m()\u001b[0m\n\u001b[1;32m      1\u001b[0m \u001b[0;31m# Which pair of (sender, receiver) has a maximal score?\u001b[0m\u001b[0;34m\u001b[0m\u001b[0;34m\u001b[0m\u001b[0m\n\u001b[1;32m      2\u001b[0m \u001b[0mi_ind\u001b[0m\u001b[0;34m,\u001b[0m \u001b[0mj_ind\u001b[0m \u001b[0;34m=\u001b[0m \u001b[0mnp\u001b[0m\u001b[0;34m.\u001b[0m\u001b[0munravel_index\u001b[0m\u001b[0;34m(\u001b[0m\u001b[0mS\u001b[0m\u001b[0;34m.\u001b[0m\u001b[0margmax\u001b[0m\u001b[0;34m(\u001b[0m\u001b[0;34m)\u001b[0m\u001b[0;34m,\u001b[0m \u001b[0mS\u001b[0m\u001b[0;34m.\u001b[0m\u001b[0mshape\u001b[0m\u001b[0;34m)\u001b[0m\u001b[0;34m\u001b[0m\u001b[0m\n\u001b[0;32m----> 3\u001b[0;31m \u001b[0mi\u001b[0m\u001b[0;34m,\u001b[0m \u001b[0mj\u001b[0m \u001b[0;34m=\u001b[0m \u001b[0mi_list\u001b[0m\u001b[0;34m[\u001b[0m\u001b[0mi_ind\u001b[0m\u001b[0;34m]\u001b[0m\u001b[0;34m,\u001b[0m \u001b[0mj_list\u001b[0m\u001b[0;34m[\u001b[0m\u001b[0mj_ind\u001b[0m\u001b[0;34m]\u001b[0m\u001b[0;34m\u001b[0m\u001b[0m\n\u001b[0m\u001b[1;32m      4\u001b[0m print('Predicted Score for author %d to coauthor %d for time %d: %d publications'%(i,\n\u001b[1;32m      5\u001b[0m                                                                                    \u001b[0mj\u001b[0m\u001b[0;34m,\u001b[0m\u001b[0;34m\u001b[0m\u001b[0m\n",
      "\u001b[0;31mNameError\u001b[0m: name 'i_list' is not defined"
     ]
    }
   ],
   "source": [
    "# Which pair of (sender, receiver) has a maximal score? \n",
    "i_ind, j_ind = np.unravel_index(S.argmax(), S.shape)\n",
    "i, j = author_list[i_ind], conf_list[j_ind]\n",
    "print('Predicted Score for author %d to coauthor %d for time %d: %d publications'%(i,\n",
    "                                                                                   j,\n",
    "                                                                                   int(year_list[t_1][:4]),\n",
    "                                                                                   round(S[i_ind, j_ind])))"
   ]
  },
  {
   "cell_type": "code",
   "execution_count": null,
   "metadata": {
    "collapsed": false
   },
   "outputs": [],
   "source": [
    "X_max = X.ix[(X.author == i)&(X.coauthor == j)&(X.datetime <= k_list[t_1])]\n",
    "\n",
    "nb_train = len(X_max.ix[X.datetime < k_list[t_1]])\n",
    "nb_train_tau = len(X_max.ix[(X.datetime < k_list[t_1])&(X.datetime >= k_list[t_1-tau])])\n",
    "nb_test = len(X_max.ix[X.datetime == k_list[t_1]])\n",
    "\n",
    "print('%d publications written during the trainset with %d during the tau-selected window. \\n%d publication actually written at time %d' \\\n",
    "      %(nb_train,\n",
    "        nb_train_tau,\n",
    "        nb_test,\n",
    "        k_list[t_1]))"
   ]
  },
  {
   "cell_type": "code",
   "execution_count": null,
   "metadata": {
    "collapsed": false
   },
   "outputs": [],
   "source": [
    "X_max_count = X_max.datetime.groupby(X_max.datetime).count()\n",
    "\n",
    "plt.figure(figsize=(16, 10))\n",
    "plt.title('Temporal Distribution per day \\n Sender %d to Receiver %d ' %(i, j))\n",
    "plt.ylabel('Number of mails')\n",
    "plt.xlabel('datetime')\n",
    "plt.xlim([k_list[t_0], k_list[t_1]+10])\n",
    "plt.grid('on')\n",
    "plt.plot(X_max_count.index, X_max_count)\n",
    "plt.xticks(np.arange(k_list[t_0], k_list[t_1]+10, 5), rotation=90)\n",
    "plt.ticklabel_format(useOffset=False)\n",
    "\n",
    "plt.axvline(k_list[t_1-tau])\n",
    "plt.axvline(k_list[t_1-1])"
   ]
  },
  {
   "cell_type": "markdown",
   "metadata": {},
   "source": [
    "### Factorization Analysis"
   ]
  },
  {
   "cell_type": "code",
   "execution_count": null,
   "metadata": {
    "collapsed": false
   },
   "outputs": [],
   "source": [
    "for k in (-P.lmbda).argsort()[:5]:\n",
    "    i_ind = abs(A[:, k]).argmax()\n",
    "    i_max = i_list[i_ind]\n",
    "\n",
    "    j_ind = abs(B[:, k]).argmax()\n",
    "    j_max = j_list[j_ind]\n",
    "\n",
    "    k_ind = abs(C[:, k]).argmax()\n",
    "    k_max = k_list[k_ind]\n",
    "\n",
    "    plt.figure(figsize=(8, 5))\n",
    "    plt.title('Sender coefficient from component %d \\nSender_max = %d' %((k+1), i_max))\n",
    "    plt.ylabel('Absolute value of coefficient')\n",
    "    plt.xlabel('Sender index')\n",
    "    plt.plot(A[:, k])\n",
    "\n",
    "    plt.figure(figsize=(8, 5))\n",
    "    plt.title('Receiver coefficient from component %d \\nReceiver_max = %d' %((k+1), j_max))\n",
    "    plt.ylabel('Absolute value of coefficient')\n",
    "    plt.xlabel('Receiver index')\n",
    "    plt.plot(B[:, k])\n",
    "\n",
    "    plt.figure(figsize=(8, 5))\n",
    "    plt.title('Time coefficient from component %d \\nTime_max = %d \\n Lambda = %f' %((k+1), k_max, P.lmbda[k]))\n",
    "    plt.ylabel('Absolute value of coefficient')\n",
    "    plt.xlabel('Time index')\n",
    "    plt.plot(C[:, k])"
   ]
  },
  {
   "cell_type": "markdown",
   "metadata": {
    "collapsed": true
   },
   "source": [
    "### Precision-Recall for several values of K\n",
    "Collapsed Unweighted Tensor"
   ]
  },
  {
   "cell_type": "code",
   "execution_count": 52,
   "metadata": {
    "collapsed": false
   },
   "outputs": [
    {
     "ename": "ValueError",
     "evalue": "Can't handle mix of multilabel-indicator and continuous-multioutput",
     "output_type": "error",
     "traceback": [
      "\u001b[0;31m---------------------------------------------------------------------------\u001b[0m",
      "\u001b[0;31mValueError\u001b[0m                                Traceback (most recent call last)",
      "\u001b[0;32m<ipython-input-52-40121668adc2>\u001b[0m in \u001b[0;36m<module>\u001b[0;34m()\u001b[0m\n\u001b[1;32m     24\u001b[0m \u001b[0;34m\u001b[0m\u001b[0m\n\u001b[1;32m     25\u001b[0m \u001b[0;32mfrom\u001b[0m \u001b[0msklearn\u001b[0m \u001b[0;32mimport\u001b[0m \u001b[0mmetrics\u001b[0m\u001b[0;34m\u001b[0m\u001b[0m\n\u001b[0;32m---> 26\u001b[0;31m \u001b[0mACCURACY\u001b[0m \u001b[0;34m=\u001b[0m \u001b[0mmetrics\u001b[0m\u001b[0;34m.\u001b[0m\u001b[0maccuracy_score\u001b[0m\u001b[0;34m(\u001b[0m\u001b[0mT_test\u001b[0m\u001b[0;34m,\u001b[0m \u001b[0mS\u001b[0m\u001b[0;34m)\u001b[0m\u001b[0;34m\u001b[0m\u001b[0m\n\u001b[0m\u001b[1;32m     27\u001b[0m \u001b[0;34m\u001b[0m\u001b[0m\n",
      "\u001b[0;32m/Users/SylviePou/anaconda/lib/python2.7/site-packages/sklearn/metrics/classification.pyc\u001b[0m in \u001b[0;36maccuracy_score\u001b[0;34m(y_true, y_pred, normalize, sample_weight)\u001b[0m\n\u001b[1;32m    177\u001b[0m \u001b[0;34m\u001b[0m\u001b[0m\n\u001b[1;32m    178\u001b[0m     \u001b[0;31m# Compute accuracy for each possible representation\u001b[0m\u001b[0;34m\u001b[0m\u001b[0;34m\u001b[0m\u001b[0m\n\u001b[0;32m--> 179\u001b[0;31m     \u001b[0my_type\u001b[0m\u001b[0;34m,\u001b[0m \u001b[0my_true\u001b[0m\u001b[0;34m,\u001b[0m \u001b[0my_pred\u001b[0m \u001b[0;34m=\u001b[0m \u001b[0m_check_targets\u001b[0m\u001b[0;34m(\u001b[0m\u001b[0my_true\u001b[0m\u001b[0;34m,\u001b[0m \u001b[0my_pred\u001b[0m\u001b[0;34m)\u001b[0m\u001b[0;34m\u001b[0m\u001b[0m\n\u001b[0m\u001b[1;32m    180\u001b[0m     \u001b[0;32mif\u001b[0m \u001b[0my_type\u001b[0m\u001b[0;34m.\u001b[0m\u001b[0mstartswith\u001b[0m\u001b[0;34m(\u001b[0m\u001b[0;34m'multilabel'\u001b[0m\u001b[0;34m)\u001b[0m\u001b[0;34m:\u001b[0m\u001b[0;34m\u001b[0m\u001b[0m\n\u001b[1;32m    181\u001b[0m         \u001b[0mdiffering_labels\u001b[0m \u001b[0;34m=\u001b[0m \u001b[0mcount_nonzero\u001b[0m\u001b[0;34m(\u001b[0m\u001b[0my_true\u001b[0m \u001b[0;34m-\u001b[0m \u001b[0my_pred\u001b[0m\u001b[0;34m,\u001b[0m \u001b[0maxis\u001b[0m\u001b[0;34m=\u001b[0m\u001b[0;36m1\u001b[0m\u001b[0;34m)\u001b[0m\u001b[0;34m\u001b[0m\u001b[0m\n",
      "\u001b[0;32m/Users/SylviePou/anaconda/lib/python2.7/site-packages/sklearn/metrics/classification.pyc\u001b[0m in \u001b[0;36m_check_targets\u001b[0;34m(y_true, y_pred)\u001b[0m\n\u001b[1;32m     82\u001b[0m     \u001b[0;32mif\u001b[0m \u001b[0mlen\u001b[0m\u001b[0;34m(\u001b[0m\u001b[0my_type\u001b[0m\u001b[0;34m)\u001b[0m \u001b[0;34m>\u001b[0m \u001b[0;36m1\u001b[0m\u001b[0;34m:\u001b[0m\u001b[0;34m\u001b[0m\u001b[0m\n\u001b[1;32m     83\u001b[0m         raise ValueError(\"Can't handle mix of {0} and {1}\"\n\u001b[0;32m---> 84\u001b[0;31m                          \"\".format(type_true, type_pred))\n\u001b[0m\u001b[1;32m     85\u001b[0m \u001b[0;34m\u001b[0m\u001b[0m\n\u001b[1;32m     86\u001b[0m     \u001b[0;31m# We can't have more than one value on y_type => The set is no more needed\u001b[0m\u001b[0;34m\u001b[0m\u001b[0;34m\u001b[0m\u001b[0m\n",
      "\u001b[0;31mValueError\u001b[0m: Can't handle mix of multilabel-indicator and continuous-multioutput"
     ]
    }
   ],
   "source": [
    "#K_list = [1, 5, 10, 50]\n",
    "K_list = [3]\n",
    "#tau_list = [1, 7, 50]\n",
    "tau = 2\n",
    "S = np.zeros((T_train.shape[0], T_train.shape[1]))\n",
    "\n",
    "# Initialization\n",
    "precision = 0\n",
    "recall = 0\n",
    "average_precision = dict()\n",
    "for K_ind in range(len(K_list)):\n",
    "    # Choice of K\n",
    "    K = K_list[K_ind]\n",
    "    # CP Decomposition\n",
    "    P, fit, itr, exectimes = cp_als(T_train, K, init='random')\n",
    "    A, B, C = P.U\n",
    "    # CP Scoring\n",
    "    gamma = sum(C[-tau:, :], 0)  # The temporal coefficient\n",
    "    Sk = sum(map(lambda x: gamma[x]*P.lmbda[x]*Outer([A[:, x], B[:, x]]), range(K)))\n",
    "    S += Sk/LA.norm(Sk, 'fro')\n",
    "\n",
    "y_score = S.flatten()\n",
    "y_test = T_test.flatten()    \n",
    "\n",
    "from sklearn import metrics\n",
    "ACCURACY = metrics.accuracy_score(T_test, S)\n",
    "   "
   ]
  },
  {
   "cell_type": "code",
   "execution_count": null,
   "metadata": {
    "collapsed": true
   },
   "outputs": [],
   "source": [
    "# Precision-Recall\n",
    "precision, recall, _ = precision_recall_curve(y_test, y_score)\n",
    "average_precision = average_precision_score(y_test, y_score)    \n",
    "\n",
    "# Plotting the results\n",
    "plt.clf()\n",
    "plt.figure(figsize=(16, 10))\n",
    "\n",
    "plt.plot(recall, precision, label='AUC={0:0.2f}' .format(average_precision))\n",
    "\n",
    "plt.axhline(mail_rate, label='random', color='black')\n",
    "plt.xlabel('Recall')\n",
    "plt.ylabel('Precision')\n",
    "plt.ylim([0.0, 1.05])\n",
    "plt.xlim([0.0, 1.0])\n",
    "plt.legend(loc=\"upper right\")\n",
    "plt.title('Precision-Recall for CP Factorization of rank K \\nCollapsed Unweighted Tensor -  Tau = %d days' %(tau))\n",
    "plt.savefig('cp_roc_cut_%d.png' %(tau)) "
   ]
  },
  {
   "cell_type": "markdown",
   "metadata": {},
   "source": [
    "### Precision-Recall for several values of K\n",
    "Exponential Smoothing"
   ]
  },
  {
   "cell_type": "code",
   "execution_count": null,
   "metadata": {
    "collapsed": true
   },
   "outputs": [],
   "source": [
    "del A, B, C"
   ]
  },
  {
   "cell_type": "code",
   "execution_count": null,
   "metadata": {
    "collapsed": false
   },
   "outputs": [],
   "source": [
    "#K_list = [1, 5, 10, 50]\n",
    "K_list = [3]\n",
    "#tau_list = [1, 7, 50]\n",
    "tau = 2\n",
    "#alpha_list = [0.2, 0.5, 0.8]\n",
    "alpha = 0.2\n",
    "S = np.zeros((T_train.shape[0], T_train.shape[1]))\n",
    "\n",
    "# Initialization\n",
    "precision = 0\n",
    "recall = 0\n",
    "average_precision = 0\n",
    "\n",
    "for K_ind in range(len(K_list)):\n",
    "    # Choice of K\n",
    "    K = K_list[K_ind]\n",
    "    # CP Decomposition\n",
    "    P, fit, itr, exectimes = cp_als(T_train, K, init='random')\n",
    "    A, B, C = P.U\n",
    "    # CP Scoring\n",
    "    gamma = sum(map(lambda x: ((1 - alpha) ** x) * alpha * C[-x, :], range(t_1 - t_0 - 1)), 0) + \\\n",
    "            (1 - alpha) ** (t_1 - t_0 + 1) * C[0, :]                                 # Exponential smoothing\n",
    "    Sk = sum(map(lambda x: gamma[x]*P.lmbda[x]*Outer([A[:, x], B[:, x]]), range(K)))\n",
    "    S += Sk/LA.norm(Sk, 'fro')\n",
    "\n",
    "y_score = S.flatten()\n",
    "y_test = S_test.flatten()  \n",
    "    \n",
    "# Precision-Recall\n",
    "precision, recall, _ = precision_recall_curve(y_test, y_score)\n",
    "average_precision = average_precision_score(y_test, y_score)    \n",
    "    \n",
    "# Plotting the results\n",
    "plt.clf()\n",
    "plt.figure(figsize=(16, 10))\n",
    "\n",
    "plt.plot(recall, precision, label='AUC={0:0.2f}' .format(average_precision))\n",
    "\n",
    "plt.axhline(mail_rate, label='random', color='black')\n",
    "plt.xlabel('Recall')\n",
    "plt.ylabel('Precision')\n",
    "plt.ylim([0.0, 1.05])\n",
    "plt.xlim([0.0, 1.0])\n",
    "plt.legend(loc=\"upper right\")\n",
    "plt.title('Precision-Recall for CP Factorization of rank K \\\n",
    "          \\nCollapsed Weighted Tensor -  Alpha = %.2f - Tau = %d days' %(alpha, tau))\n",
    "plt.savefig('cp_roc_cwt_%.2f_%d.png' %(alpha, tau))    "
   ]
  },
  {
   "cell_type": "code",
   "execution_count": null,
   "metadata": {
    "collapsed": true
   },
   "outputs": [],
   "source": []
  }
 ],
 "metadata": {
  "kernelspec": {
   "display_name": "Python 2",
   "language": "python",
   "name": "python2"
  },
  "language_info": {
   "codemirror_mode": {
    "name": "ipython",
    "version": 2
   },
   "file_extension": ".py",
   "mimetype": "text/x-python",
   "name": "python",
   "nbconvert_exporter": "python",
   "pygments_lexer": "ipython2",
   "version": "2.7.11"
  }
 },
 "nbformat": 4,
 "nbformat_minor": 0
}
